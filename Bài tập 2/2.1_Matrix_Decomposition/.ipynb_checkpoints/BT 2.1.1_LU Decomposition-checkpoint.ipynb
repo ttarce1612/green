{
 "cells": [
  {
   "cell_type": "markdown",
   "metadata": {
    "id": "z7VXRzLvG58b"
   },
   "source": [
    "## **BT thực hành 2.1.1: LU Decomposition**\n",
    "\n",
    "\n",
    "> Cập nhật: **07/2023**\n",
    "\n"
   ]
  },
  {
   "cell_type": "code",
   "execution_count": 1,
   "metadata": {
    "executionInfo": {
     "elapsed": 418,
     "status": "ok",
     "timestamp": 1688485301886,
     "user": {
      "displayName": "Nguyễn An Tế - Khoa CNTTKD",
      "userId": "03515761134611870843"
     },
     "user_tz": -420
    },
    "id": "vY9zE64_G58V"
   },
   "outputs": [],
   "source": [
    "## Thư viện\n",
    "import numpy    as np\n",
    "import scipy\n",
    "import warnings\n",
    "warnings.filterwarnings('ignore')\n",
    "\n",
    "from scipy.linalg import lu"
   ]
  },
  {
   "cell_type": "markdown",
   "metadata": {
    "id": "WlCf43LUJxus"
   },
   "source": [
    "---\n",
    "## **Yêu cầu 1: Phân rã ma trận VUÔNG**\n",
    "- Tạo ma trận A(4x4) chứa các giá trị ngẫu nhiên trong khoảng 1 - 10\n",
    "- Phân tích thành các thành phần P, L, U. In kết quả\n",
    "- Tái tạo ma trận B từ các thành phần P, L, U.\n",
    "---\n"
   ]
  },
  {
   "cell_type": "code",
   "execution_count": 4,
   "metadata": {
    "colab": {
     "base_uri": "https://localhost:8080/"
    },
    "executionInfo": {
     "elapsed": 531,
     "status": "ok",
     "timestamp": 1688485307751,
     "user": {
      "displayName": "Nguyễn An Tế - Khoa CNTTKD",
      "userId": "03515761134611870843"
     },
     "user_tz": -420
    },
    "id": "GPCTjzHaG58e",
    "outputId": "038eda64-edb8-42df-fa16-e0c9ba7bf03f"
   },
   "outputs": [
    {
     "data": {
      "text/plain": [
       "array([[ 4,  6,  7,  7],\n",
       "       [ 3,  3,  4,  1],\n",
       "       [ 4,  8,  1,  5],\n",
       "       [10,  4,  8,  9]])"
      ]
     },
     "execution_count": 4,
     "metadata": {},
     "output_type": "execute_result"
    }
   ],
   "source": [
    "## Tạo ma trận VUÔNG A(4, 4) với các giá trị ngẫu nhiên từ 1 đến 10\n",
    "m, n, min, max = 4, 4, 1, 10\n",
    "A = np.random.randint(min, max + 1, (m, n))\n",
    "A"
   ]
  },
  {
   "cell_type": "code",
   "execution_count": 5,
   "metadata": {
    "executionInfo": {
     "elapsed": 403,
     "status": "ok",
     "timestamp": 1688485319638,
     "user": {
      "displayName": "Nguyễn An Tế - Khoa CNTTKD",
      "userId": "03515761134611870843"
     },
     "user_tz": -420
    },
    "id": "AHUeMYEGG58g"
   },
   "outputs": [],
   "source": [
    "## Phân tích A thành các thành phần P, L, U\n",
    "P, L, U = lu(A)"
   ]
  },
  {
   "cell_type": "code",
   "execution_count": 6,
   "metadata": {
    "colab": {
     "base_uri": "https://localhost:8080/"
    },
    "executionInfo": {
     "elapsed": 422,
     "status": "ok",
     "timestamp": 1688485326104,
     "user": {
      "displayName": "Nguyễn An Tế - Khoa CNTTKD",
      "userId": "03515761134611870843"
     },
     "user_tz": -420
    },
    "id": "f0kCgVv1G58h",
    "outputId": "a6aac5cb-0cce-45f2-cc88-38757243587a"
   },
   "outputs": [
    {
     "name": "stdout",
     "output_type": "stream",
     "text": [
      "Ma trận HOÁN VỊ P (4, 4) :\n",
      " [[0. 0. 1. 0.]\n",
      " [0. 0. 0. 1.]\n",
      " [0. 1. 0. 0.]\n",
      " [1. 0. 0. 0.]]\n",
      "Ma trận L (4, 4) :\n",
      " [[1.         0.         0.         0.        ]\n",
      " [0.4        1.         0.         0.        ]\n",
      " [0.4        0.6875     1.         0.        ]\n",
      " [0.3        0.28125    0.41764706 1.        ]]\n",
      "Ma trận U (4, 4) :\n",
      " [[10.          4.          8.          9.        ]\n",
      " [ 0.          6.4        -2.2         1.4       ]\n",
      " [ 0.          0.          5.3125      2.4375    ]\n",
      " [ 0.          0.          0.         -3.11176471]]\n"
     ]
    }
   ],
   "source": [
    "print('Ma trận HOÁN VỊ P', P.shape, ':\\n', P)\n",
    "print('Ma trận L', L.shape, ':\\n', L)\n",
    "print('Ma trận U', U.shape, ':\\n', U)"
   ]
  },
  {
   "cell_type": "code",
   "execution_count": 7,
   "metadata": {
    "colab": {
     "base_uri": "https://localhost:8080/"
    },
    "executionInfo": {
     "elapsed": 471,
     "status": "ok",
     "timestamp": 1688485380049,
     "user": {
      "displayName": "Nguyễn An Tế - Khoa CNTTKD",
      "userId": "03515761134611870843"
     },
     "user_tz": -420
    },
    "id": "lcYw0YK8G58k",
    "outputId": "14303952-d030-470d-b338-2a5852db428a"
   },
   "outputs": [
    {
     "name": "stdout",
     "output_type": "stream",
     "text": [
      "Tái tạo A từ P, L, U (kiểm chứng phép phân rã):\n",
      " [[10  1  2  2]\n",
      " [ 2  9  1  6]\n",
      " [ 1 10  1  5]\n",
      " [ 4  1  1  9]]\n"
     ]
    }
   ],
   "source": [
    "## Tái tạo ma trận A từ các thành phần: A = P @ L @ U\n",
    "print('Tái tạo A từ P, L, U (kiểm chứng phép phân rã):\\n', (P @ L @ U).astype(int))"
   ]
  },
  {
   "cell_type": "markdown",
   "metadata": {
    "id": "_fpz6DEEKMSV"
   },
   "source": [
    "---\n",
    "## **Yêu cầu 2: Phân rã ma trận HÌNH CHỮ NHẬT**\n",
    "---"
   ]
  },
  {
   "cell_type": "code",
   "execution_count": 10,
   "metadata": {
    "colab": {
     "base_uri": "https://localhost:8080/"
    },
    "executionInfo": {
     "elapsed": 386,
     "status": "ok",
     "timestamp": 1688485424074,
     "user": {
      "displayName": "Nguyễn An Tế - Khoa CNTTKD",
      "userId": "03515761134611870843"
     },
     "user_tz": -420
    },
    "id": "eYtv_z6_G58l",
    "outputId": "52cf2791-1b23-428f-840a-fc2fbc043e74"
   },
   "outputs": [
    {
     "name": "stdout",
     "output_type": "stream",
     "text": [
      "Ma trận HOÁN VỊ P (3, 3) :\n",
      " [[0. 0. 1.]\n",
      " [1. 0. 0.]\n",
      " [0. 1. 0.]]\n",
      "Ma trận L (3, 3) :\n",
      " [[ 1.          0.          0.        ]\n",
      " [ 0.66666667  1.          0.        ]\n",
      " [ 0.33333333 -1.          1.        ]]\n",
      "Ma trận U (3, 4) :\n",
      " [[ 3.          8.         14.          0.        ]\n",
      " [ 0.          0.66666667  3.66666667  2.        ]\n",
      " [ 0.          0.          3.          5.        ]]\n",
      "Tái tạo A từ P, L, U (kiểm chứng phép phân rã):\n",
      " [[ 1  2  4  2]\n",
      " [ 3  8 14  0]\n",
      " [ 2  6 13  2]]\n"
     ]
    }
   ],
   "source": [
    "## Tạo ma trận HÌNH CHỮ NHẬT\n",
    "A = np.array([[1, 2,  4, 3],\n",
    "              [3, 8, 14, 0],\n",
    "              [2, 6, 13, 2]])\n",
    "\n",
    "## Phân tích A thành các thành phần P, L, U\n",
    "P, L, U = lu(A)\n",
    "\n",
    "print('Ma trận HOÁN VỊ P', P.shape, ':\\n', P)\n",
    "print('Ma trận L', L.shape, ':\\n', L)\n",
    "print('Ma trận U', U.shape, ':\\n', U)\n",
    "\n",
    "print('Tái tạo A từ P, L, U (kiểm chứng phép phân rã):\\n', (P @ L @ U).astype(int))"
   ]
  }
 ],
 "metadata": {
  "colab": {
   "provenance": []
  },
  "kernelspec": {
   "display_name": "Python 3 (ipykernel)",
   "language": "python",
   "name": "python3"
  },
  "language_info": {
   "codemirror_mode": {
    "name": "ipython",
    "version": 3
   },
   "file_extension": ".py",
   "mimetype": "text/x-python",
   "name": "python",
   "nbconvert_exporter": "python",
   "pygments_lexer": "ipython3",
   "version": "3.8.10"
  },
  "toc": {
   "base_numbering": 1,
   "nav_menu": {},
   "number_sections": true,
   "sideBar": true,
   "skip_h1_title": false,
   "title_cell": "Table of Contents",
   "title_sidebar": "Contents",
   "toc_cell": false,
   "toc_position": {},
   "toc_section_display": true,
   "toc_window_display": false
  }
 },
 "nbformat": 4,
 "nbformat_minor": 1
}
