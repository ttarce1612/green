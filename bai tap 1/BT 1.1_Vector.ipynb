{
 "cells": [
  {
   "cell_type": "markdown",
   "id": "IGbQ22LDlpbI",
   "metadata": {
    "id": "IGbQ22LDlpbI"
   },
   "source": [
    "# **BT thực hành 1.1: Vector**\n",
    "\n",
    "\n",
    "> Cập nhật: **07/2023**\n",
    "\n"
   ]
  },
  {
   "cell_type": "code",
   "execution_count": 1,
   "id": "0AH0kTYz0lfd",
   "metadata": {
    "colab": {
     "base_uri": "https://localhost:8080/"
    },
    "executionInfo": {
     "elapsed": 39391,
     "status": "ok",
     "timestamp": 1688744890443,
     "user": {
      "displayName": "Nguyễn An Tế - Khoa CNTTKD",
      "userId": "03515761134611870843"
     },
     "user_tz": -420
    },
    "id": "0AH0kTYz0lfd",
    "outputId": "ff71357d-b7d0-417f-d64e-7022afb3d75f"
   },
   "outputs": [],
   "source": [
    "## Môi trường lập trình\n",
    "#from google.colab import drive\n",
    "#drive.mount(\"/content/gdrive\", force_remount = True)\n",
    "#folder = folder = '/content/gdrive/My Drive/Edu/Chia se hoc lieu/LDS3/Bai tap HV/Ch1_Linear_Algebra'"
   ]
  },
  {
   "cell_type": "code",
   "execution_count": 1,
   "id": "oYzZQGZWgsjM",
   "metadata": {
    "executionInfo": {
     "elapsed": 1106,
     "status": "ok",
     "timestamp": 1688744896035,
     "user": {
      "displayName": "Nguyễn An Tế - Khoa CNTTKD",
      "userId": "03515761134611870843"
     },
     "user_tz": -420
    },
    "id": "oYzZQGZWgsjM"
   },
   "outputs": [],
   "source": [
    "## Thư viện\n",
    "import numpy                  as np\n",
    "import pandas                 as pd\n",
    "import scipy.spatial.distance as dist\n",
    "import warnings\n",
    "warnings.filterwarnings('ignore')\n",
    "\n",
    "from numpy.linalg import norm"
   ]
  },
  {
   "cell_type": "markdown",
   "id": "QDiKSCrNlpbX",
   "metadata": {
    "id": "QDiKSCrNlpbX"
   },
   "source": [
    "---\n",
    "## **Yêu cầu 1: Tạo vectors**\n",
    "- Tạo vector v1(1, 3, 5, 7)\n",
    "- Tạo vector v2(2, 4, 6, 8)\n",
    "---\n",
    "\n"
   ]
  },
  {
   "cell_type": "code",
   "execution_count": 3,
   "id": "YR7dQ1dOlpbd",
   "metadata": {
    "colab": {
     "base_uri": "https://localhost:8080/"
    },
    "executionInfo": {
     "elapsed": 421,
     "status": "ok",
     "timestamp": 1688744899567,
     "user": {
      "displayName": "Nguyễn An Tế - Khoa CNTTKD",
      "userId": "03515761134611870843"
     },
     "user_tz": -420
    },
    "id": "YR7dQ1dOlpbd",
    "outputId": "4098baa5-fc23-4f2b-e7fb-6efc3a231c9c"
   },
   "outputs": [
    {
     "name": "stdout",
     "output_type": "stream",
     "text": [
      "[1 3 5 7]\n",
      "[2 4 6 8]\n"
     ]
    }
   ],
   "source": [
    "## Tạo vectors với các giá trị tường minh\n",
    "v1 = np.array([1, 3, 5, 7])\n",
    "v2 = np.array([2, 4, 6, 8])\n",
    "\n",
    "print(v1)\n",
    "print(v2)"
   ]
  },
  {
   "cell_type": "code",
   "execution_count": 4,
   "id": "Bml2w3sOlpbZ",
   "metadata": {
    "colab": {
     "base_uri": "https://localhost:8080/"
    },
    "executionInfo": {
     "elapsed": 431,
     "status": "ok",
     "timestamp": 1688744904667,
     "user": {
      "displayName": "Nguyễn An Tế - Khoa CNTTKD",
      "userId": "03515761134611870843"
     },
     "user_tz": -420
    },
    "id": "Bml2w3sOlpbZ",
    "outputId": "beac0174-aead-4f1a-f2d0-d8819cee5a33"
   },
   "outputs": [
    {
     "name": "stdout",
     "output_type": "stream",
     "text": [
      "[0 1 2 3 4 5 6 7 8 9]\n",
      "[0. 0. 0. 0. 0.]\n",
      "[1. 1. 1. 1. 1.]\n"
     ]
    }
   ],
   "source": [
    "## Tạo vector với các giá trị được phát sinh theo quy luật\n",
    "v = np.array(np.arange(10))\n",
    "print(v)\n",
    "\n",
    "v = np.zeros(5) # các phần tử = 0.0\n",
    "print(v)\n",
    "\n",
    "v = np.ones(5) # các phần tử = 1.0\n",
    "print(v)"
   ]
  },
  {
   "cell_type": "code",
   "execution_count": 5,
   "id": "EAWUbTGaAFaP",
   "metadata": {
    "colab": {
     "base_uri": "https://localhost:8080/"
    },
    "executionInfo": {
     "elapsed": 4,
     "status": "ok",
     "timestamp": 1688744908013,
     "user": {
      "displayName": "Nguyễn An Tế - Khoa CNTTKD",
      "userId": "03515761134611870843"
     },
     "user_tz": -420
    },
    "id": "EAWUbTGaAFaP",
    "outputId": "7768b3de-48ef-45c8-f531-6b42764071c5"
   },
   "outputs": [
    {
     "name": "stdout",
     "output_type": "stream",
     "text": [
      "[0.38926752 0.49347402 0.41387569 0.90754551]\n",
      "[9 1 6 0]\n"
     ]
    }
   ],
   "source": [
    "## Tạo vectors với các giá trị được phát sinh một cách ngẫu nhiên\n",
    "v = np.random.random(4) # số thực ngẫu nhiên\n",
    "print(v)\n",
    "\n",
    "v = np.random.randint(0, 11, 4) # số nguyên ngẫu nhiên\n",
    "print(v)"
   ]
  },
  {
   "cell_type": "markdown",
   "id": "lPDg3jmmyE4e",
   "metadata": {
    "id": "lPDg3jmmyE4e"
   },
   "source": [
    "---\n",
    "## **Yêu cầu 2: Tích vô hướng 2 vectors**\n",
    "- Tính tích vô hướng của v1 và v2 trong Yêu cầu 1\n",
    "---"
   ]
  },
  {
   "cell_type": "code",
   "execution_count": 5,
   "id": "cvvgxCZxlpbf",
   "metadata": {
    "colab": {
     "base_uri": "https://localhost:8080/"
    },
    "executionInfo": {
     "elapsed": 576,
     "status": "ok",
     "timestamp": 1688744917229,
     "user": {
      "displayName": "Nguyễn An Tế - Khoa CNTTKD",
      "userId": "03515761134611870843"
     },
     "user_tz": -420
    },
    "id": "cvvgxCZxlpbf",
    "outputId": "5c30b7cb-675c-4545-bb04-245bb489f8f5"
   },
   "outputs": [
    {
     "data": {
      "text/plain": [
       "(100, 100)"
      ]
     },
     "execution_count": 5,
     "metadata": {},
     "output_type": "execute_result"
    }
   ],
   "source": [
    "## Tính tích vô hướng bằng .dot()\n",
    "v1.dot(v2), v2.dot(v1) # tính giao hoán"
   ]
  },
  {
   "cell_type": "code",
   "execution_count": 7,
   "id": "TPdOconKz9AD",
   "metadata": {
    "colab": {
     "base_uri": "https://localhost:8080/"
    },
    "executionInfo": {
     "elapsed": 409,
     "status": "ok",
     "timestamp": 1688744920390,
     "user": {
      "displayName": "Nguyễn An Tế - Khoa CNTTKD",
      "userId": "03515761134611870843"
     },
     "user_tz": -420
    },
    "id": "TPdOconKz9AD",
    "outputId": "e4175e4b-25bc-4866-f0bf-2d49808cc316"
   },
   "outputs": [
    {
     "data": {
      "text/plain": [
       "(100, 100)"
      ]
     },
     "execution_count": 7,
     "metadata": {},
     "output_type": "execute_result"
    }
   ],
   "source": [
    "## Tính tích vô hướng bằng toán tử @\n",
    "v1 @ v2, v2 @ v1"
   ]
  },
  {
   "cell_type": "markdown",
   "id": "JLO7hUjVeezW",
   "metadata": {
    "id": "JLO7hUjVeezW"
   },
   "source": [
    "---\n",
    "## **Yêu cầu 3: Tích vô hướng 2 vectors**\n",
    "- Tập tin **bang_diem.csv** lưu trữ điểm thi của các thí sinh\n",
    "- Liệt kê danh sách N thí sinh trúng tuyển (giá trị N được nhập từ bàn phím) : diem_1, diem_2 được tính hệ số 2 và diem_3 được tính hệ số 1\n",
    "- Cho biết thí sinh đạt thủ khoa\n",
    "---"
   ]
  },
  {
   "cell_type": "code",
   "execution_count": 3,
   "id": "mGOwn9y20QJl",
   "metadata": {
    "colab": {
     "base_uri": "https://localhost:8080/"
    },
    "executionInfo": {
     "elapsed": 21657,
     "status": "ok",
     "timestamp": 1688744947457,
     "user": {
      "displayName": "Nguyễn An Tế - Khoa CNTTKD",
      "userId": "03515761134611870843"
     },
     "user_tz": -420
    },
    "id": "mGOwn9y20QJl",
    "outputId": "eb34a26e-509b-43cb-96bd-073ebd4376c4"
   },
   "outputs": [
    {
     "name": "stdout",
     "output_type": "stream",
     "text": [
      "Danh sách thí sinh:\n",
      "  maso                ho    ten  diem_1  diem_2  diem_3\n",
      "    1  Huỳnh Thùy Thiên     An     8.0     2.0     7.0\n",
      "    2          Bùi Tuấn    Anh     8.0     8.4     6.4\n",
      "    3           Hồ Tuấn    Anh     7.0     7.6     7.8\n",
      "    4           Ngô Kim    Anh     8.0     7.0     2.5\n",
      "    5       Nguyễn Nhật    Anh     8.0     4.4     3.8\n",
      "    6  Trần Ngọc Phương    Anh     8.0     6.4     7.2\n",
      "    7       Nguyễn Minh   Châu     7.0     8.0     8.4\n",
      "    8  Trịnh Nguyễn Yến   Dung     8.0     2.8     6.8\n",
      "    9         Huỳnh Vạn    Gia     6.0     5.2     5.0\n",
      "   10   Nông Đặng Quỳnh  Giang     8.0     6.4     8.9\n",
      "   11         Đặng Minh    Hào     8.0     7.6     9.2\n",
      "   12          Ngô Quốc    Hào     7.0     5.0     5.4\n",
      "   13   Phạm Đoàn Thanh   Hiền     8.0     9.6     8.7\n",
      "   14       Nguyễn Nhật  Hoàng     8.0     5.6     7.4\n",
      "   15      Nguyễn Thanh  Hương     8.0     4.4     7.2\n",
      "   16           Ngô Gia    Huy     8.0     9.0     9.2\n",
      "   17         Trương Mĩ  Khanh     7.0     3.6     6.3\n",
      "   18 Bùi Nguyễn Phương   Linh     8.0     4.8     8.1\n",
      "   19 Đinh Hoàng Phương   Linh     6.0     6.0     5.2\n",
      "   20        Trần Quang   Long     8.0     8.6     6.7\n",
      "   21       Nguyễn Trúc     Ly     7.0     1.4     8.0\n",
      "   22         Tạ Thị Na     Ly     8.0     4.0     1.6\n",
      "   23         Bùi Thanh     Lý     8.0     5.2     2.4\n",
      "   24            Lưu Sở   Ngân     6.0     6.4     7.0\n",
      "   25      Mai Thị Thảo   Ngọc     6.0     1.0     5.6\n",
      "   26     Ngô Hoàng Anh   Ngọc     7.0     5.6     3.6\n",
      "   27        Đào Lê Bảo Nguyên     8.0     4.4     2.0\n",
      "   28     Nguyễn Phượng Nguyên     6.0     0.4     7.2\n",
      "   29 Nguyễn Thụy Thanh Nguyên     7.0     5.0     4.8\n",
      "   30     Võ Thùy Khánh    Như     7.0     2.4     3.6\n",
      "   31   Nguyễn Thị Hồng  Nhung     7.0     3.6     2.4\n",
      "   32   Trần Đoàn Hoàng   Phúc     7.0     4.8     5.0\n",
      "   33           Đỗ Hoài Phương     9.0     7.2     0.4\n",
      "   34 Nguyễn Ngọc Thanh    Tâm     6.0     2.0     4.4\n",
      "   35  Nguyễn Thị Thanh   Thảo     6.0     3.6     5.6\n",
      "   36         Dương Anh    Thư     8.0     5.6     1.0\n",
      "   37           Lê Minh    Thư     6.0     7.0     6.4\n",
      "   38       Nguyễn Minh    Thư     6.0     2.4     5.2\n",
      "   39      Phan Lê Thủy   Tiên     7.0     1.6     4.0\n",
      "   40    Bùi Chiêu Ngọc  Trinh     8.0     8.0     1.4\n"
     ]
    },
    {
     "ename": "SyntaxError",
     "evalue": "invalid syntax (<string>, line 0)",
     "output_type": "error",
     "traceback": [
      "Traceback \u001b[0;36m(most recent call last)\u001b[0m:\n",
      "\u001b[0m  File \u001b[1;32m/Library/Frameworks/Python.framework/Versions/3.11/lib/python3.11/site-packages/IPython/core/interactiveshell.py:3508\u001b[0m in \u001b[1;35mrun_code\u001b[0m\n    exec(code_obj, self.user_global_ns, self.user_ns)\u001b[0m\n",
      "\u001b[0;36m  Cell \u001b[0;32mIn[3], line 7\u001b[0;36m\n\u001b[0;31m    N    = eval(input(f'\\nSố chỉ tiêu tuyển sinh (N < {len(df)}) = '))\u001b[0;36m\n",
      "\u001b[0;36m  File \u001b[0;32m<string>\u001b[0;36m\u001b[0m\n\u001b[0;31m    \u001b[0m\n\u001b[0m    ^\u001b[0m\n\u001b[0;31mSyntaxError\u001b[0m\u001b[0;31m:\u001b[0m invalid syntax\n"
     ]
    }
   ],
   "source": [
    "## Mở tập tin bang_diem.csv\n",
    "df = pd.read_csv('Data/bang_diem.csv')\n",
    "print('Danh sách thí sinh:\\n', df.to_string(index = False))\n",
    "\n",
    "## Xét tuyển\n",
    "heso = np.array([2, 2, 1])\n",
    "# N    = eval(input(f'\\nSố chỉ tiêu tuyển sinh (N < {len(df)}) = '))"
   ]
  },
  {
   "cell_type": "code",
   "execution_count": 9,
   "id": "xUPD6Ihsi0uy",
   "metadata": {
    "colab": {
     "base_uri": "https://localhost:8080/"
    },
    "executionInfo": {
     "elapsed": 421,
     "status": "ok",
     "timestamp": 1688745048123,
     "user": {
      "displayName": "Nguyễn An Tế - Khoa CNTTKD",
      "userId": "03515761134611870843"
     },
     "user_tz": -420
    },
    "id": "xUPD6Ihsi0uy",
    "outputId": "5401bf48-ba1c-4aeb-a8b0-01b3994edc48"
   },
   "outputs": [
    {
     "name": "stdout",
     "output_type": "stream",
     "text": [
      "*** Bảng điểm:\n",
      "     maso                 ho     ten  diem_1  diem_2  diem_3  Tong_diem\n",
      "0      1   Huỳnh Thùy Thiên      An     8.0     2.0     7.0       27.0\n",
      "1      2           Bùi Tuấn     Anh     8.0     8.4     6.4       39.2\n",
      "2      3            Hồ Tuấn     Anh     7.0     7.6     7.8       37.0\n",
      "3      4            Ngô Kim     Anh     8.0     7.0     2.5       32.5\n",
      "4      5        Nguyễn Nhật     Anh     8.0     4.4     3.8       28.6\n",
      "5      6   Trần Ngọc Phương     Anh     8.0     6.4     7.2       36.0\n",
      "6      7        Nguyễn Minh    Châu     7.0     8.0     8.4       38.4\n",
      "7      8   Trịnh Nguyễn Yến    Dung     8.0     2.8     6.8       28.4\n",
      "8      9          Huỳnh Vạn     Gia     6.0     5.2     5.0       27.4\n",
      "9     10    Nông Đặng Quỳnh   Giang     8.0     6.4     8.9       37.7\n",
      "10    11          Đặng Minh     Hào     8.0     7.6     9.2       40.4\n",
      "11    12           Ngô Quốc     Hào     7.0     5.0     5.4       29.4\n",
      "12    13    Phạm Đoàn Thanh    Hiền     8.0     9.6     8.7       43.9\n",
      "13    14        Nguyễn Nhật   Hoàng     8.0     5.6     7.4       34.6\n",
      "14    15       Nguyễn Thanh   Hương     8.0     4.4     7.2       32.0\n",
      "15    16            Ngô Gia     Huy     8.0     9.0     9.2       43.2\n",
      "16    17          Trương Mĩ   Khanh     7.0     3.6     6.3       27.5\n",
      "17    18  Bùi Nguyễn Phương    Linh     8.0     4.8     8.1       33.7\n",
      "18    19  Đinh Hoàng Phương    Linh     6.0     6.0     5.2       29.2\n",
      "19    20         Trần Quang    Long     8.0     8.6     6.7       39.9\n",
      "20    21        Nguyễn Trúc      Ly     7.0     1.4     8.0       24.8\n",
      "21    22          Tạ Thị Na      Ly     8.0     4.0     1.6       25.6\n",
      "22    23          Bùi Thanh      Lý     8.0     5.2     2.4       28.8\n",
      "23    24             Lưu Sở    Ngân     6.0     6.4     7.0       31.8\n",
      "24    25       Mai Thị Thảo    Ngọc     6.0     1.0     5.6       19.6\n",
      "25    26      Ngô Hoàng Anh    Ngọc     7.0     5.6     3.6       28.8\n",
      "26    27         Đào Lê Bảo  Nguyên     8.0     4.4     2.0       26.8\n",
      "27    28      Nguyễn Phượng  Nguyên     6.0     0.4     7.2       20.0\n",
      "28    29  Nguyễn Thụy Thanh  Nguyên     7.0     5.0     4.8       28.8\n",
      "29    30      Võ Thùy Khánh     Như     7.0     2.4     3.6       22.4\n",
      "30    31    Nguyễn Thị Hồng   Nhung     7.0     3.6     2.4       23.6\n",
      "31    32    Trần Đoàn Hoàng    Phúc     7.0     4.8     5.0       28.6\n",
      "32    33            Đỗ Hoài  Phương     9.0     7.2     0.4       32.8\n",
      "33    34  Nguyễn Ngọc Thanh     Tâm     6.0     2.0     4.4       20.4\n",
      "34    35   Nguyễn Thị Thanh    Thảo     6.0     3.6     5.6       24.8\n",
      "35    36          Dương Anh     Thư     8.0     5.6     1.0       28.2\n",
      "36    37            Lê Minh     Thư     6.0     7.0     6.4       32.4\n",
      "37    38        Nguyễn Minh     Thư     6.0     2.4     5.2       22.0\n",
      "38    39       Phan Lê Thủy    Tiên     7.0     1.6     4.0       21.2\n",
      "39    40     Bùi Chiêu Ngọc   Trinh     8.0     8.0     1.4       33.4\n"
     ]
    }
   ],
   "source": [
    "## Tính tổng điểm theo hệ số\n",
    "df['Tong_diem'] = df[['diem_1', 'diem_2', 'diem_3']] @ heso\n",
    "print('*** Bảng điểm:\\n', df)"
   ]
  },
  {
   "cell_type": "code",
   "execution_count": 32,
   "id": "NFUs-PvoFe0N",
   "metadata": {
    "colab": {
     "base_uri": "https://localhost:8080/"
    },
    "executionInfo": {
     "elapsed": 561,
     "status": "ok",
     "timestamp": 1688745062811,
     "user": {
      "displayName": "Nguyễn An Tế - Khoa CNTTKD",
      "userId": "03515761134611870843"
     },
     "user_tz": -420
    },
    "id": "NFUs-PvoFe0N",
    "outputId": "a5f6e3f2-254f-4430-8762-8033247b3269"
   },
   "outputs": [
    {
     "name": "stdout",
     "output_type": "stream",
     "text": [
      "diem_chuan 28.8\n",
      "*** Danh sách 21 thí sinh trúng tuyển (Điểm chuẩn = 28.8)\n",
      " maso                ho    ten  diem_1  diem_2  diem_3  Tong_diem\n",
      "    2          Bùi Tuấn    Anh     8.0     8.4     6.4       39.2\n",
      "    3           Hồ Tuấn    Anh     7.0     7.6     7.8       37.0\n",
      "    4           Ngô Kim    Anh     8.0     7.0     2.5       32.5\n",
      "    6  Trần Ngọc Phương    Anh     8.0     6.4     7.2       36.0\n",
      "    7       Nguyễn Minh   Châu     7.0     8.0     8.4       38.4\n",
      "   10   Nông Đặng Quỳnh  Giang     8.0     6.4     8.9       37.7\n",
      "   11         Đặng Minh    Hào     8.0     7.6     9.2       40.4\n",
      "   12          Ngô Quốc    Hào     7.0     5.0     5.4       29.4\n",
      "   13   Phạm Đoàn Thanh   Hiền     8.0     9.6     8.7       43.9\n",
      "   14       Nguyễn Nhật  Hoàng     8.0     5.6     7.4       34.6\n",
      "   15      Nguyễn Thanh  Hương     8.0     4.4     7.2       32.0\n",
      "   16           Ngô Gia    Huy     8.0     9.0     9.2       43.2\n",
      "   18 Bùi Nguyễn Phương   Linh     8.0     4.8     8.1       33.7\n",
      "   19 Đinh Hoàng Phương   Linh     6.0     6.0     5.2       29.2\n",
      "   20        Trần Quang   Long     8.0     8.6     6.7       39.9\n",
      "   24            Lưu Sở   Ngân     6.0     6.4     7.0       31.8\n",
      "   26     Ngô Hoàng Anh   Ngọc     7.0     5.6     3.6       28.8\n",
      "   29 Nguyễn Thụy Thanh Nguyên     7.0     5.0     4.8       28.8\n",
      "   33           Đỗ Hoài Phương     9.0     7.2     0.4       32.8\n",
      "   37           Lê Minh    Thư     6.0     7.0     6.4       32.4\n",
      "   40    Bùi Chiêu Ngọc  Trinh     8.0     8.0     1.4       33.4\n"
     ]
    }
   ],
   "source": [
    "## Xác định điểm chuẩn trúng tuyển\n",
    "df.sort_values(by = ['Tong_diem'], ascending = False, ignore_index = True, inplace = True)\n",
    "diem_chuan = df[N-1:N].Tong_diem.values[0]\n",
    "print('diem_chuan', diem_chuan)\n",
    "## Danh sách thí sinh trúng tuyển\n",
    "danh_sach_trung_tuyen = df[df.Tong_diem >= diem_chuan].sort_values(by = [\"maso\"])\n",
    "print(f'*** Danh sách {len(danh_sach_trung_tuyen)} thí sinh trúng tuyển (Điểm chuẩn = {diem_chuan})')\n",
    "print(danh_sach_trung_tuyen.to_string(index = False))\n"
   ]
  },
  {
   "cell_type": "code",
   "execution_count": 43,
   "id": "1-R8y2lsGvL9",
   "metadata": {
    "colab": {
     "base_uri": "https://localhost:8080/"
    },
    "executionInfo": {
     "elapsed": 441,
     "status": "ok",
     "timestamp": 1688744979502,
     "user": {
      "displayName": "Nguyễn An Tế - Khoa CNTTKD",
      "userId": "03515761134611870843"
     },
     "user_tz": -420
    },
    "id": "1-R8y2lsGvL9",
    "outputId": "18a0c604-ea71-4afa-d82e-a270a29dec04"
   },
   "outputs": [
    {
     "name": "stdout",
     "output_type": "stream",
     "text": [
      " maso              ho  ten  diem_1  diem_2  diem_3  Tong_diem\n",
      "   13 Phạm Đoàn Thanh Hiền     8.0     9.6     8.7       43.9\n"
     ]
    }
   ],
   "source": [
    "## Thí sinh đạt thủ khoa\n",
    "#thu_khoa = max(df.Tong_diem.values)\n",
    "print(df[df.Tong_diem == max(df.Tong_diem)].to_string(index = False))\n",
    "\n"
   ]
  },
  {
   "cell_type": "markdown",
   "id": "rcCfD5mWlpbj",
   "metadata": {
    "id": "rcCfD5mWlpbj"
   },
   "source": [
    "---\n",
    "## **Yêu cầu 4: Tính norms của vectors**\n",
    "- Tạo vector v(1, 3, -4, 5, 7, 9, -6)\n",
    "- Tính norms: L1, L2 và Lmax của vector v\n",
    "---"
   ]
  },
  {
   "cell_type": "code",
   "execution_count": 44,
   "id": "V0Q4kE1Nlpbl",
   "metadata": {
    "executionInfo": {
     "elapsed": 6,
     "status": "ok",
     "timestamp": 1688744982801,
     "user": {
      "displayName": "Nguyễn An Tế - Khoa CNTTKD",
      "userId": "03515761134611870843"
     },
     "user_tz": -420
    },
    "id": "V0Q4kE1Nlpbl"
   },
   "outputs": [],
   "source": [
    "## Tạo vector\n",
    "v = np.array([1, 3, -4, 5, 7, 9, -6])"
   ]
  },
  {
   "cell_type": "code",
   "execution_count": 45,
   "id": "6d3vUPa5lpbm",
   "metadata": {
    "colab": {
     "base_uri": "https://localhost:8080/"
    },
    "executionInfo": {
     "elapsed": 608,
     "status": "ok",
     "timestamp": 1688744986032,
     "user": {
      "displayName": "Nguyễn An Tế - Khoa CNTTKD",
      "userId": "03515761134611870843"
     },
     "user_tz": -420
    },
    "id": "6d3vUPa5lpbm",
    "outputId": "f6a8241d-926b-493d-cb12-c489d8978bd9"
   },
   "outputs": [
    {
     "name": "stdout",
     "output_type": "stream",
     "text": [
      "L1 norm: 35.0\n"
     ]
    }
   ],
   "source": [
    "## L1 norm\n",
    "print('L1 norm:', norm(v, 1))"
   ]
  },
  {
   "cell_type": "code",
   "execution_count": 46,
   "id": "v5l6TQcalpbo",
   "metadata": {
    "colab": {
     "base_uri": "https://localhost:8080/"
    },
    "executionInfo": {
     "elapsed": 8,
     "status": "ok",
     "timestamp": 1688744989077,
     "user": {
      "displayName": "Nguyễn An Tế - Khoa CNTTKD",
      "userId": "03515761134611870843"
     },
     "user_tz": -420
    },
    "id": "v5l6TQcalpbo",
    "outputId": "4419d98f-9b28-477d-aee8-d4af02476606"
   },
   "outputs": [
    {
     "name": "stdout",
     "output_type": "stream",
     "text": [
      "L2 norm: 14.730919862656235 14.730919862656235\n"
     ]
    }
   ],
   "source": [
    "## L2 norm\n",
    "print('L2 norm:', norm(v, 2), norm(v))"
   ]
  },
  {
   "cell_type": "code",
   "execution_count": 47,
   "id": "7BCatOM1lpbq",
   "metadata": {
    "colab": {
     "base_uri": "https://localhost:8080/"
    },
    "executionInfo": {
     "elapsed": 4,
     "status": "ok",
     "timestamp": 1688744991248,
     "user": {
      "displayName": "Nguyễn An Tế - Khoa CNTTKD",
      "userId": "03515761134611870843"
     },
     "user_tz": -420
    },
    "id": "7BCatOM1lpbq",
    "outputId": "9d813d05-60a8-4f06-9ec2-9bf13f17224d"
   },
   "outputs": [
    {
     "name": "stdout",
     "output_type": "stream",
     "text": [
      "Max norm: 9.0\n"
     ]
    }
   ],
   "source": [
    "## Max norm\n",
    "print('Max norm:', norm(v, np.inf))"
   ]
  },
  {
   "cell_type": "code",
   "execution_count": 48,
   "id": "XAP2VU4k9Dm5",
   "metadata": {
    "colab": {
     "base_uri": "https://localhost:8080/"
    },
    "executionInfo": {
     "elapsed": 430,
     "status": "ok",
     "timestamp": 1688744994018,
     "user": {
      "displayName": "Nguyễn An Tế - Khoa CNTTKD",
      "userId": "03515761134611870843"
     },
     "user_tz": -420
    },
    "id": "XAP2VU4k9Dm5",
    "outputId": "a5e470b7-f479-473f-8e2d-e32270804cdb"
   },
   "outputs": [
    {
     "name": "stdout",
     "output_type": "stream",
     "text": [
      "Manhattan distance = 35.0\n",
      "Euclidean distance = 14.730919862656236\n",
      "Chebyshev distance = 9.0\n"
     ]
    }
   ],
   "source": [
    "## Đại lượng khoảng cách (từ gốc tọa độ đến ĐỈNH)\n",
    "O = np.zeros(7) # gốc tọa độ\n",
    "\n",
    "## Các khoảng cách\n",
    "print('Manhattan distance =', dist.cityblock(O, v))\n",
    "print('Euclidean distance =', dist.euclidean(O, v))\n",
    "print('Chebyshev distance =', dist.chebyshev(O, v))"
   ]
  },
  {
   "cell_type": "code",
   "execution_count": null,
   "id": "23a28d08",
   "metadata": {},
   "outputs": [],
   "source": []
  }
 ],
 "metadata": {
  "colab": {
   "provenance": []
  },
  "kernelspec": {
   "display_name": "Python 3.11.4 64-bit",
   "language": "python",
   "name": "python3"
  },
  "language_info": {
   "codemirror_mode": {
    "name": "ipython",
    "version": 3
   },
   "file_extension": ".py",
   "mimetype": "text/x-python",
   "name": "python",
   "nbconvert_exporter": "python",
   "pygments_lexer": "ipython3",
   "version": "3.11.4"
  },
  "vscode": {
   "interpreter": {
    "hash": "aee8b7b246df8f9039afb4144a1f6fd8d2ca17a180786b69acc140d282b71a49"
   }
  }
 },
 "nbformat": 4,
 "nbformat_minor": 5
}
