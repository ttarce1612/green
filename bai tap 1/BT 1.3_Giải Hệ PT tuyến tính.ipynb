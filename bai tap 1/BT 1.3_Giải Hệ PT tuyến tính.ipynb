{
 "cells": [
  {
   "cell_type": "markdown",
   "id": "Gwg08cTWHpad",
   "metadata": {
    "id": "Gwg08cTWHpad"
   },
   "source": [
    "# **BT thực hành 1.3: Hệ phương trình tuyến tính**\n",
    "\n",
    "\n",
    "> Cập nhật: **07/2023**\n",
    "\n"
   ]
  },
  {
   "cell_type": "code",
   "execution_count": 15,
   "id": "POAoHeoJ-tJi",
   "metadata": {
    "executionInfo": {
     "elapsed": 4,
     "status": "ok",
     "timestamp": 1688745378258,
     "user": {
      "displayName": "Nguyễn An Tế - Khoa CNTTKD",
      "userId": "03515761134611870843"
     },
     "user_tz": -420
    },
    "id": "POAoHeoJ-tJi"
   },
   "outputs": [],
   "source": [
    "## Thư viện\n",
    "import numpy        as np\n",
    "import warnings\n",
    "warnings.filterwarnings('ignore')\n",
    "\n",
    "from   numpy.linalg import det, inv, matrix_rank"
   ]
  },
  {
   "cell_type": "markdown",
   "id": "C-W9a7yfHpan",
   "metadata": {
    "id": "C-W9a7yfHpan"
   },
   "source": [
    "---\n",
    "## **Yêu cầu 1: Giải hệ PT tuyến tính: Ax = b**\n",
    "- Ma trận hệ số A: [[1, -2], [0, 4]]\n",
    "- Vector hệ số tự do b: [1, -2]\n",
    "### $ Ax = b => x = A^{-1}.b $\n",
    "---"
   ]
  },
  {
   "cell_type": "code",
   "execution_count": 16,
   "id": "V0SKdHLkHpao",
   "metadata": {
    "colab": {
     "base_uri": "https://localhost:8080/"
    },
    "executionInfo": {
     "elapsed": 9,
     "status": "ok",
     "timestamp": 1688745383552,
     "user": {
      "displayName": "Nguyễn An Tế - Khoa CNTTKD",
      "userId": "03515761134611870843"
     },
     "user_tz": -420
    },
    "id": "V0SKdHLkHpao",
    "outputId": "5f787dbd-0a72-4b9e-e239-09fc008df9eb"
   },
   "outputs": [
    {
     "name": "stdout",
     "output_type": "stream",
     "text": [
      "det(A) = 4.0\n"
     ]
    }
   ],
   "source": [
    "## Ma trận hệ số A\n",
    "A = np.array([[1, -2], [0, 4]])\n",
    "\n",
    "## Kiểm tra tính khả nghịch của A\n",
    "print(f'det(A) = {det(A)}')"
   ]
  },
  {
   "cell_type": "code",
   "execution_count": 17,
   "id": "YIcVQ6rMHpaq",
   "metadata": {
    "colab": {
     "base_uri": "https://localhost:8080/"
    },
    "executionInfo": {
     "elapsed": 366,
     "status": "ok",
     "timestamp": 1688745387028,
     "user": {
      "displayName": "Nguyễn An Tế - Khoa CNTTKD",
      "userId": "03515761134611870843"
     },
     "user_tz": -420
    },
    "id": "YIcVQ6rMHpaq",
    "outputId": "827c538f-acbf-45ec-e37d-01c859d57f9f"
   },
   "outputs": [
    {
     "data": {
      "text/plain": [
       "array([ 1, -2])"
      ]
     },
     "execution_count": 17,
     "metadata": {},
     "output_type": "execute_result"
    }
   ],
   "source": [
    "## Vector hệ số tự do b\n",
    "b = np.array([1, -2])\n",
    "b"
   ]
  },
  {
   "cell_type": "code",
   "execution_count": 18,
   "id": "ycvUtmwLHpas",
   "metadata": {
    "colab": {
     "base_uri": "https://localhost:8080/"
    },
    "executionInfo": {
     "elapsed": 5,
     "status": "ok",
     "timestamp": 1688745389547,
     "user": {
      "displayName": "Nguyễn An Tế - Khoa CNTTKD",
      "userId": "03515761134611870843"
     },
     "user_tz": -420
    },
    "id": "ycvUtmwLHpas",
    "outputId": "5da01c66-8cca-49d2-af37-2d4eb90163f2"
   },
   "outputs": [
    {
     "name": "stdout",
     "output_type": "stream",
     "text": [
      "Hệ nghiệm (x1, x2) = [ 0.  -0.5]\n"
     ]
    }
   ],
   "source": [
    "## Giải hệ phương trình dựa trên ma trận nghịch đảo: X = inv(A) @ b\n",
    "x = inv(A) @ b\n",
    "print('Hệ nghiệm (x1, x2) =', x)"
   ]
  },
  {
   "cell_type": "code",
   "execution_count": 19,
   "id": "wsMyF_LlJPdj",
   "metadata": {
    "colab": {
     "base_uri": "https://localhost:8080/"
    },
    "executionInfo": {
     "elapsed": 374,
     "status": "ok",
     "timestamp": 1688745392341,
     "user": {
      "displayName": "Nguyễn An Tế - Khoa CNTTKD",
      "userId": "03515761134611870843"
     },
     "user_tz": -420
    },
    "id": "wsMyF_LlJPdj",
    "outputId": "605c2a2c-0260-44aa-b585-c11ac4b9f398"
   },
   "outputs": [
    {
     "name": "stdout",
     "output_type": "stream",
     "text": [
      "Hệ nghiệm (x1, x2) = [ 0.  -0.5]\n"
     ]
    }
   ],
   "source": [
    "## Sử dụng hàm numpy.linalg.solve()\n",
    "print('Hệ nghiệm (x1, x2) =', np.linalg.solve(A, b))"
   ]
  },
  {
   "cell_type": "markdown",
   "id": "YTdfy2oeHpat",
   "metadata": {
    "id": "YTdfy2oeHpat"
   },
   "source": [
    "---\n",
    "## **Yêu cầu 2: Giải hệ PT tuyến tính**\n",
    "#### 2x - 2y + z = -3\n",
    "#### x + 3y - 2z = 1\n",
    "#### 3x - y - z = 2\n",
    "---"
   ]
  },
  {
   "cell_type": "code",
   "execution_count": 20,
   "id": "LSSW7dbSHpau",
   "metadata": {
    "colab": {
     "base_uri": "https://localhost:8080/"
    },
    "executionInfo": {
     "elapsed": 350,
     "status": "ok",
     "timestamp": 1688745396258,
     "user": {
      "displayName": "Nguyễn An Tế - Khoa CNTTKD",
      "userId": "03515761134611870843"
     },
     "user_tz": -420
    },
    "id": "LSSW7dbSHpau",
    "outputId": "b68b4b37-a606-458a-80aa-954466cb395a"
   },
   "outputs": [
    {
     "name": "stdout",
     "output_type": "stream",
     "text": [
      "det(A) = -9.999999999999998\n"
     ]
    }
   ],
   "source": [
    "A = np.array([[2, -2, 1], [1, 3, -2], [3, -1, -1]])\n",
    "b = np.array([-3, 1, 2])\n",
    "\n",
    "## Kiểm tra tính khả nghịch của A\n",
    "print(f'det(A) = {det(A)}')"
   ]
  },
  {
   "cell_type": "code",
   "execution_count": 21,
   "id": "16iYPklgHpav",
   "metadata": {
    "colab": {
     "base_uri": "https://localhost:8080/"
    },
    "executionInfo": {
     "elapsed": 6,
     "status": "ok",
     "timestamp": 1688745399473,
     "user": {
      "displayName": "Nguyễn An Tế - Khoa CNTTKD",
      "userId": "03515761134611870843"
     },
     "user_tz": -420
    },
    "id": "16iYPklgHpav",
    "outputId": "948e49ae-4b51-449d-ebaa-197d745ea6fb"
   },
   "outputs": [
    {
     "name": "stdout",
     "output_type": "stream",
     "text": [
      "Hệ nghiệm (x1, x2, x3) = [-1.4 -2.  -4.2]\n"
     ]
    }
   ],
   "source": [
    "## Nghiệm của hệ PT\n",
    "x = inv(A) @ b\n",
    "print('Hệ nghiệm (x1, x2, x3) =', x)"
   ]
  },
  {
   "cell_type": "code",
   "execution_count": 22,
   "id": "OmEZKTMpHpax",
   "metadata": {
    "colab": {
     "base_uri": "https://localhost:8080/"
    },
    "executionInfo": {
     "elapsed": 379,
     "status": "ok",
     "timestamp": 1688745402246,
     "user": {
      "displayName": "Nguyễn An Tế - Khoa CNTTKD",
      "userId": "03515761134611870843"
     },
     "user_tz": -420
    },
    "id": "OmEZKTMpHpax",
    "outputId": "b8b36da2-8930-4ca5-822b-01602066e831"
   },
   "outputs": [
    {
     "name": "stdout",
     "output_type": "stream",
     "text": [
      "b = [-3.  1.  2.]\n"
     ]
    }
   ],
   "source": [
    "## Kiểm chứng lại nghiệm của PT : A.x = b\n",
    "print('b =', A @ x)"
   ]
  },
  {
   "cell_type": "markdown",
   "id": "Lp8RtaIgBEow",
   "metadata": {
    "id": "Lp8RtaIgBEow"
   },
   "source": [
    "---\n",
    "## **Yêu cầu 3: Giải hệ PT tuyến tính (VÔ NGHIỆM)**\n",
    "#### 3x + 2y = 5\n",
    "#### 6x + 4y = 1\n",
    "---"
   ]
  },
  {
   "cell_type": "code",
   "execution_count": 23,
   "id": "XXrk_b4BBKCq",
   "metadata": {
    "colab": {
     "base_uri": "https://localhost:8080/"
    },
    "executionInfo": {
     "elapsed": 348,
     "status": "ok",
     "timestamp": 1688745405561,
     "user": {
      "displayName": "Nguyễn An Tế - Khoa CNTTKD",
      "userId": "03515761134611870843"
     },
     "user_tz": -420
    },
    "id": "XXrk_b4BBKCq",
    "outputId": "af85e405-121e-405f-de64-72f9bace9fdd"
   },
   "outputs": [
    {
     "name": "stdout",
     "output_type": "stream",
     "text": [
      "det(A) = 0.0\n"
     ]
    }
   ],
   "source": [
    "A = np.array([[3, 2], [6, 4]])\n",
    "b = np.array([5, 1])\n",
    "\n",
    "## Kiểm tra tính khả nghịch của A\n",
    "print(f'det(A) = {det(A)}')  # singular matrix"
   ]
  },
  {
   "cell_type": "code",
   "execution_count": 24,
   "id": "MA6eksNBBtSX",
   "metadata": {
    "colab": {
     "base_uri": "https://localhost:8080/"
    },
    "executionInfo": {
     "elapsed": 354,
     "status": "ok",
     "timestamp": 1688745408805,
     "user": {
      "displayName": "Nguyễn An Tế - Khoa CNTTKD",
      "userId": "03515761134611870843"
     },
     "user_tz": -420
    },
    "id": "MA6eksNBBtSX",
    "outputId": "7ddf8540-34f2-4700-c001-ae0189c3b130"
   },
   "outputs": [
    {
     "name": "stdout",
     "output_type": "stream",
     "text": [
      "Hạng của ma trận [A] = 1\n",
      "Hạng của dạng mở rộng [A|B] = 2\n",
      "Hệ phương trình VÔ NGHIỆM\n"
     ]
    }
   ],
   "source": [
    "## Áp dụng định lý Kronecker – Capelli\n",
    "rank_A = matrix_rank(A)\n",
    "print(f'Hạng của ma trận [A] = {rank_A}')\n",
    "\n",
    "A_B = np.array([[3, 2, 5], [6, 4, 1]])\n",
    "rank_AB = matrix_rank(A_B)\n",
    "print(f'Hạng của dạng mở rộng [A|B] = {rank_AB}')\n",
    "\n",
    "if (det(A) == 0):\n",
    "    if (rank_AB == rank_A):\n",
    "        print('Hệ phương trình VÔ ĐỊNH')\n",
    "    else:\n",
    "        print('Hệ phương trình VÔ NGHIỆM')"
   ]
  },
  {
   "cell_type": "markdown",
   "id": "dOTg_BmICDae",
   "metadata": {
    "id": "dOTg_BmICDae"
   },
   "source": [
    "---\n",
    "## **Yêu cầu 4: Giải hệ PT tuyến tính (VÔ ĐỊNH)**\n",
    "#### 3x + 2y = 5\n",
    "#### 6x + 4y = 10\n",
    "---"
   ]
  },
  {
   "cell_type": "code",
   "execution_count": 25,
   "id": "x5xcJ-lBCIBe",
   "metadata": {
    "colab": {
     "base_uri": "https://localhost:8080/"
    },
    "executionInfo": {
     "elapsed": 385,
     "status": "ok",
     "timestamp": 1688745414931,
     "user": {
      "displayName": "Nguyễn An Tế - Khoa CNTTKD",
      "userId": "03515761134611870843"
     },
     "user_tz": -420
    },
    "id": "x5xcJ-lBCIBe",
    "outputId": "44bbe21d-7f9e-453e-940d-9b70f04ce4a1"
   },
   "outputs": [
    {
     "name": "stdout",
     "output_type": "stream",
     "text": [
      "det(A) = 0.0\n"
     ]
    }
   ],
   "source": [
    "A = np.array([[3, 2], [6, 4]])\n",
    "b = np.array([5, 10])\n",
    "\n",
    "## Kiểm tra tính khả nghịch của A\n",
    "print(f'det(A) = {det(A)}')  # singular matrix"
   ]
  },
  {
   "cell_type": "code",
   "execution_count": 26,
   "id": "qcQSdeHkFiew",
   "metadata": {
    "colab": {
     "base_uri": "https://localhost:8080/"
    },
    "executionInfo": {
     "elapsed": 361,
     "status": "ok",
     "timestamp": 1688745417880,
     "user": {
      "displayName": "Nguyễn An Tế - Khoa CNTTKD",
      "userId": "03515761134611870843"
     },
     "user_tz": -420
    },
    "id": "qcQSdeHkFiew",
    "outputId": "19c8d0a6-13c6-467e-e7b8-4ab30ae98de9"
   },
   "outputs": [
    {
     "name": "stdout",
     "output_type": "stream",
     "text": [
      "Hạng của ma trận [A] = 1\n",
      "Hạng của dạng mở rộng [A|B] = 1\n",
      "Hệ phương trình VÔ ĐỊNH\n"
     ]
    }
   ],
   "source": [
    "## Áp dụng định lý Kronecker – Capelli\n",
    "rank_A = matrix_rank(A)\n",
    "print(f'Hạng của ma trận [A] = {rank_A}')\n",
    "\n",
    "A_B = np.array([[3, 2, 5], [6, 4, 10]])\n",
    "rank_AB = matrix_rank(A_B)\n",
    "print(f'Hạng của dạng mở rộng [A|B] = {rank_AB}')\n",
    "\n",
    "if (det(A) == 0):\n",
    "    if (rank_AB == rank_A):\n",
    "        print('Hệ phương trình VÔ ĐỊNH')\n",
    "    else:\n",
    "        print('Hệ phương trình VÔ NGHIỆM')"
   ]
  },
  {
   "cell_type": "markdown",
   "id": "iB5HXIIvHbLn",
   "metadata": {
    "id": "iB5HXIIvHbLn"
   },
   "source": [
    "---\n",
    "## **Yêu cầu 5: Giải hệ phương trình tuyến tính**\n",
    "Một nhà đầu tư có vốn 500K muốn đầu tư vào 3 cổ phiếu A, B, C. Hãy xác định số tiền cần đầu tư vào A, B, C dựa trên những điều kiện ràng buộc như sau ($Phan$  $Ngô$ $Tuấn$ $Anh$):\n",
    "- Giá trị cổ phiếu A, B, C lần lượt là 50, 70, 30\n",
    "- Tỷ lệ lợi nhuận (dự báo) A, B, C lần lượt là 12%, 16%, 9%\n",
    "- Mua số cổ phiếu A gấp đôi số cổ phiếu B\n",
    "- Mục tiêu lợi nhuận 13%/năm\n",
    "---"
   ]
  },
  {
   "cell_type": "code",
   "execution_count": 27,
   "id": "aNl_3Dl7IQXQ",
   "metadata": {
    "executionInfo": {
     "elapsed": 353,
     "status": "ok",
     "timestamp": 1688745427974,
     "user": {
      "displayName": "Nguyễn An Tế - Khoa CNTTKD",
      "userId": "03515761134611870843"
     },
     "user_tz": -420
    },
    "id": "aNl_3Dl7IQXQ"
   },
   "outputs": [],
   "source": [
    "## Mô hình hóa bài toán --> Xây dựng hệ phương trình tuyến tính\n",
    "##    Đặt x1, x2, x3 lần lượt là số lượng cổ phiếu A, B, C cần mua\n",
    "\n",
    "## (.12 * 50) * x1 + (.16 * 70) * x2 + (.9 * 30) * x3 = (.13 * 500000)\n",
    "A = np.array([[50, 70, 30],\n",
    "              [1, -2, 0],\n",
    "              [(.12 * 50), (.16 * 70), (.09 * 30)]])\n",
    "b = np.array([500000, 0, (.13 * 500000)])"
   ]
  },
  {
   "cell_type": "code",
   "execution_count": 28,
   "id": "ZtKrnDjpLWCF",
   "metadata": {
    "colab": {
     "base_uri": "https://localhost:8080/"
    },
    "executionInfo": {
     "elapsed": 6,
     "status": "ok",
     "timestamp": 1688745486481,
     "user": {
      "displayName": "Nguyễn An Tế - Khoa CNTTKD",
      "userId": "03515761134611870843"
     },
     "user_tz": -420
    },
    "id": "ZtKrnDjpLWCF",
    "outputId": "b8191dd8-5850-4558-a747-8b92f0596862"
   },
   "outputs": [
    {
     "name": "stdout",
     "output_type": "stream",
     "text": [
      "det(A) = 237.00000000000009\n"
     ]
    }
   ],
   "source": [
    "## Kiểm tra tính khả nghịch của A\n",
    "print(f'det(A) = {det(A)}')\n",
    "\n"
   ]
  },
  {
   "cell_type": "code",
   "execution_count": 29,
   "id": "ebd84cc8",
   "metadata": {},
   "outputs": [
    {
     "data": {
      "text/plain": [
       "array([[-0.02278481,  0.62025316,  0.25316456],\n",
       "       [-0.01139241, -0.18987342,  0.12658228],\n",
       "       [ 0.0978903 , -0.5907173 , -0.71729958]])"
      ]
     },
     "execution_count": 29,
     "metadata": {},
     "output_type": "execute_result"
    }
   ],
   "source": [
    "inv(A)"
   ]
  },
  {
   "cell_type": "code",
   "execution_count": 30,
   "id": "111eec4a",
   "metadata": {},
   "outputs": [
    {
     "name": "stdout",
     "output_type": "stream",
     "text": [
      "[5063.29113924 2531.64556962 2320.67510549]\n"
     ]
    }
   ],
   "source": [
    "x = inv(A)@b\n",
    "print(x)"
   ]
  },
  {
   "cell_type": "code",
   "execution_count": 14,
   "id": "v3uXO4cSLV2u",
   "metadata": {
    "colab": {
     "base_uri": "https://localhost:8080/"
    },
    "executionInfo": {
     "elapsed": 338,
     "status": "ok",
     "timestamp": 1688745438868,
     "user": {
      "displayName": "Nguyễn An Tế - Khoa CNTTKD",
      "userId": "03515761134611870843"
     },
     "user_tz": -420
    },
    "id": "v3uXO4cSLV2u",
    "outputId": "e577d9c9-f511-4082-eb25-3e477e97e541"
   },
   "outputs": [
    {
     "name": "stdout",
     "output_type": "stream",
     "text": [
      "Số lượng cổ phiếu A nên mua = 5063\n",
      "Số lượng cổ phiếu B nên mua = 2531\n",
      "Số lượng cổ phiếu C nên mua = 2320\n"
     ]
    }
   ],
   "source": [
    "## Nghiệm của hệ PT\n",
    "x = inv(A) @ b\n",
    "print(f'Số lượng cổ phiếu A nên mua = {int(x[0])}')\n",
    "print(f'Số lượng cổ phiếu B nên mua = {int(x[1])}')\n",
    "print(f'Số lượng cổ phiếu C nên mua = {int(x[2])}')"
   ]
  },
  {
   "cell_type": "code",
   "execution_count": null,
   "id": "5978340f",
   "metadata": {},
   "outputs": [],
   "source": []
  }
 ],
 "metadata": {
  "colab": {
   "provenance": []
  },
  "kernelspec": {
   "display_name": "Python 3 (ipykernel)",
   "language": "python",
   "name": "python3"
  },
  "language_info": {
   "codemirror_mode": {
    "name": "ipython",
    "version": 3
   },
   "file_extension": ".py",
   "mimetype": "text/x-python",
   "name": "python",
   "nbconvert_exporter": "python",
   "pygments_lexer": "ipython3",
   "version": "3.8.10"
  }
 },
 "nbformat": 4,
 "nbformat_minor": 5
}
