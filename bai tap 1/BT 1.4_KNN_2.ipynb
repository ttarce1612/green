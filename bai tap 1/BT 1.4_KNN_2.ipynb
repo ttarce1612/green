{
 "cells": [
  {
   "cell_type": "markdown",
   "id": "sexual-maintenance",
   "metadata": {
    "id": "sexual-maintenance"
   },
   "source": [
    "# **BT thực hành 1.4: Tìm k láng giềng gần nhất** (*k-Nearest Neighbors*)\n",
    "\n",
    "\n",
    "> Cập nhật: **07/2023**\n",
    "\n"
   ]
  },
  {
   "cell_type": "code",
   "execution_count": 1,
   "id": "lightweight-tribune",
   "metadata": {
    "colab": {
     "base_uri": "https://localhost:8080/"
    },
    "executionInfo": {
     "elapsed": 25330,
     "status": "ok",
     "timestamp": 1688745582377,
     "user": {
      "displayName": "Nguyễn An Tế - Khoa CNTTKD",
      "userId": "03515761134611870843"
     },
     "user_tz": -420
    },
    "id": "lightweight-tribune",
    "outputId": "6d7934d7-1b84-424b-c137-ec1d0497a11e"
   },
   "outputs": [
    {
     "ename": "ModuleNotFoundError",
     "evalue": "No module named 'google'",
     "output_type": "error",
     "traceback": [
      "\u001b[0;31m---------------------------------------------------------------------------\u001b[0m",
      "\u001b[0;31mModuleNotFoundError\u001b[0m                       Traceback (most recent call last)",
      "Cell \u001b[0;32mIn[1], line 2\u001b[0m\n\u001b[1;32m      1\u001b[0m \u001b[39m## Môi trường lập trình\u001b[39;00m\n\u001b[0;32m----> 2\u001b[0m \u001b[39mfrom\u001b[39;00m \u001b[39mgoogle\u001b[39;00m\u001b[39m.\u001b[39;00m\u001b[39mcolab\u001b[39;00m \u001b[39mimport\u001b[39;00m drive\n\u001b[1;32m      3\u001b[0m drive\u001b[39m.\u001b[39mmount(\u001b[39m\"\u001b[39m\u001b[39m/content/gdrive\u001b[39m\u001b[39m\"\u001b[39m, force_remount \u001b[39m=\u001b[39m \u001b[39mTrue\u001b[39;00m)\n\u001b[1;32m      4\u001b[0m folder \u001b[39m=\u001b[39m \u001b[39m'\u001b[39m\u001b[39m/content/gdrive/My Drive/Edu/Chia se hoc lieu/LDS3/Bai tap HV/Ch1_Linear_Algebra\u001b[39m\u001b[39m'\u001b[39m\n",
      "\u001b[0;31mModuleNotFoundError\u001b[0m: No module named 'google'"
     ]
    }
   ],
   "source": [
    "## Môi trường lập trình\n",
    "from google.colab import drive\n",
    "drive.mount(\"/content/gdrive\", force_remount = True)\n",
    "folder = '/content/gdrive/My Drive/Edu/Chia se hoc lieu/LDS3/Bai tap HV/Ch1_Linear_Algebra'"
   ]
  },
  {
   "cell_type": "code",
   "execution_count": 1,
   "id": "material-ownership",
   "metadata": {
    "executionInfo": {
     "elapsed": 497,
     "status": "ok",
     "timestamp": 1688745587742,
     "user": {
      "displayName": "Nguyễn An Tế - Khoa CNTTKD",
      "userId": "03515761134611870843"
     },
     "user_tz": -420
    },
    "id": "material-ownership"
   },
   "outputs": [],
   "source": [
    "## Thư viện\n",
    "import numpy      as np\n",
    "import pandas     as pd\n",
    "import warnings\n",
    "warnings.filterwarnings('ignore')\n",
    "\n",
    "from numpy.linalg import norm"
   ]
  },
  {
   "cell_type": "markdown",
   "id": "blocked-israeli",
   "metadata": {
    "id": "blocked-israeli"
   },
   "source": [
    "---\n",
    "## **Yêu cầu 1:**\n",
    "*   Tính các khoảng cách từ vector v (hoa mới) đến mỗi dòng (mẫu hoa) trong **iris.csv**\n",
    "---\n"
   ]
  },
  {
   "cell_type": "code",
   "execution_count": 2,
   "id": "crucial-burlington",
   "metadata": {
    "executionInfo": {
     "elapsed": 1179,
     "status": "ok",
     "timestamp": 1688745593675,
     "user": {
      "displayName": "Nguyễn An Tế - Khoa CNTTKD",
      "userId": "03515761134611870843"
     },
     "user_tz": -420
    },
    "id": "crucial-burlington"
   },
   "outputs": [],
   "source": [
    "## Khởi tạo (tùy ý) v là hoa mới mua rất đẹp, nhưng không biết là loại hoa gì !\n",
    "##    Phương pháp: tìm những mẫu hoa có các đặc tính gần giống với hoa mới mua nhất\n",
    "v = np.array([5.2, 3.2, 1.3, 0.1])"
   ]
  },
  {
   "cell_type": "code",
   "execution_count": 3,
   "id": "f3Rw5lqBlpbt",
   "metadata": {
    "colab": {
     "base_uri": "https://localhost:8080/"
    },
    "executionInfo": {
     "elapsed": 1598,
     "status": "ok",
     "timestamp": 1688745597587,
     "user": {
      "displayName": "Nguyễn An Tế - Khoa CNTTKD",
      "userId": "03515761134611870843"
     },
     "user_tz": -420
    },
    "id": "f3Rw5lqBlpbt",
    "outputId": "4362bec6-dfa1-4e20-c8bf-2d24ba37a9cc"
   },
   "outputs": [
    {
     "name": "stdout",
     "output_type": "stream",
     "text": [
      "[[5.1 3.5 1.4 0.2]\n",
      " [4.9 3.  1.4 0.2]\n",
      " [4.7 3.2 1.3 0.2]\n",
      " [4.6 3.1 1.5 0.2]\n",
      " [5.  3.6 1.4 0.2]\n",
      " [5.4 3.9 1.7 0.4]\n",
      " [4.6 3.4 1.4 0.3]\n",
      " [5.  3.4 1.5 0.2]\n",
      " [4.4 2.9 1.4 0.2]\n",
      " [4.9 3.1 1.5 0.1]\n",
      " [5.4 3.7 1.5 0.2]\n",
      " [4.8 3.4 1.6 0.2]\n",
      " [4.8 3.  1.4 0.1]\n",
      " [4.3 3.  1.1 0.1]\n",
      " [5.8 4.  1.2 0.2]\n",
      " [5.7 4.4 1.5 0.4]\n",
      " [5.4 3.9 1.3 0.4]\n",
      " [5.1 3.5 1.4 0.3]\n",
      " [5.7 3.8 1.7 0.3]\n",
      " [5.1 3.8 1.5 0.3]\n",
      " [5.4 3.4 1.7 0.2]\n",
      " [5.1 3.7 1.5 0.4]\n",
      " [4.6 3.6 1.  0.2]\n",
      " [5.1 3.3 1.7 0.5]\n",
      " [4.8 3.4 1.9 0.2]\n",
      " [5.  3.  1.6 0.2]\n",
      " [5.  3.4 1.6 0.4]\n",
      " [5.2 3.5 1.5 0.2]\n",
      " [5.2 3.4 1.4 0.2]\n",
      " [4.7 3.2 1.6 0.2]\n",
      " [4.8 3.1 1.6 0.2]\n",
      " [5.4 3.4 1.5 0.4]\n",
      " [5.2 4.1 1.5 0.1]\n",
      " [5.5 4.2 1.4 0.2]\n",
      " [4.9 3.1 1.5 0.1]\n",
      " [5.  3.2 1.2 0.2]\n",
      " [5.5 3.5 1.3 0.2]\n",
      " [4.9 3.1 1.5 0.1]\n",
      " [4.4 3.  1.3 0.2]\n",
      " [5.1 3.4 1.5 0.2]\n",
      " [5.  3.5 1.3 0.3]\n",
      " [4.5 2.3 1.3 0.3]\n",
      " [4.4 3.2 1.3 0.2]\n",
      " [5.  3.5 1.6 0.6]\n",
      " [5.1 3.8 1.9 0.4]\n",
      " [4.8 3.  1.4 0.3]\n",
      " [5.1 3.8 1.6 0.2]\n",
      " [4.6 3.2 1.4 0.2]\n",
      " [5.3 3.7 1.5 0.2]\n",
      " [5.  3.3 1.4 0.2]\n",
      " [7.  3.2 4.7 1.4]\n",
      " [6.4 3.2 4.5 1.5]\n",
      " [6.9 3.1 4.9 1.5]\n",
      " [5.5 2.3 4.  1.3]\n",
      " [6.5 2.8 4.6 1.5]\n",
      " [5.7 2.8 4.5 1.3]\n",
      " [6.3 3.3 4.7 1.6]\n",
      " [4.9 2.4 3.3 1. ]\n",
      " [6.6 2.9 4.6 1.3]\n",
      " [5.2 2.7 3.9 1.4]\n",
      " [5.  2.  3.5 1. ]\n",
      " [5.9 3.  4.2 1.5]\n",
      " [6.  2.2 4.  1. ]\n",
      " [6.1 2.9 4.7 1.4]\n",
      " [5.6 2.9 3.6 1.3]\n",
      " [6.7 3.1 4.4 1.4]\n",
      " [5.6 3.  4.5 1.5]\n",
      " [5.8 2.7 4.1 1. ]\n",
      " [6.2 2.2 4.5 1.5]\n",
      " [5.6 2.5 3.9 1.1]\n",
      " [5.9 3.2 4.8 1.8]\n",
      " [6.1 2.8 4.  1.3]\n",
      " [6.3 2.5 4.9 1.5]\n",
      " [6.1 2.8 4.7 1.2]\n",
      " [6.4 2.9 4.3 1.3]\n",
      " [6.6 3.  4.4 1.4]\n",
      " [6.8 2.8 4.8 1.4]\n",
      " [6.7 3.  5.  1.7]\n",
      " [6.  2.9 4.5 1.5]\n",
      " [5.7 2.6 3.5 1. ]\n",
      " [5.5 2.4 3.8 1.1]\n",
      " [5.5 2.4 3.7 1. ]\n",
      " [5.8 2.7 3.9 1.2]\n",
      " [6.  2.7 5.1 1.6]\n",
      " [5.4 3.  4.5 1.5]\n",
      " [6.  3.4 4.5 1.6]\n",
      " [6.7 3.1 4.7 1.5]\n",
      " [6.3 2.3 4.4 1.3]\n",
      " [5.6 3.  4.1 1.3]\n",
      " [5.5 2.5 4.  1.3]\n",
      " [5.5 2.6 4.4 1.2]\n",
      " [6.1 3.  4.6 1.4]\n",
      " [5.8 2.6 4.  1.2]\n",
      " [5.  2.3 3.3 1. ]\n",
      " [5.6 2.7 4.2 1.3]\n",
      " [5.7 3.  4.2 1.2]\n",
      " [5.7 2.9 4.2 1.3]\n",
      " [6.2 2.9 4.3 1.3]\n",
      " [5.1 2.5 3.  1.1]\n",
      " [5.7 2.8 4.1 1.3]\n",
      " [6.3 3.3 6.  2.5]\n",
      " [5.8 2.7 5.1 1.9]\n",
      " [7.1 3.  5.9 2.1]\n",
      " [6.3 2.9 5.6 1.8]\n",
      " [6.5 3.  5.8 2.2]\n",
      " [7.6 3.  6.6 2.1]\n",
      " [4.9 2.5 4.5 1.7]\n",
      " [7.3 2.9 6.3 1.8]\n",
      " [6.7 2.5 5.8 1.8]\n",
      " [7.2 3.6 6.1 2.5]\n",
      " [6.5 3.2 5.1 2. ]\n",
      " [6.4 2.7 5.3 1.9]\n",
      " [6.8 3.  5.5 2.1]\n",
      " [5.7 2.5 5.  2. ]\n",
      " [5.8 2.8 5.1 2.4]\n",
      " [6.4 3.2 5.3 2.3]\n",
      " [6.5 3.  5.5 1.8]\n",
      " [7.7 3.8 6.7 2.2]\n",
      " [7.7 2.6 6.9 2.3]\n",
      " [6.  2.2 5.  1.5]\n",
      " [6.9 3.2 5.7 2.3]\n",
      " [5.6 2.8 4.9 2. ]\n",
      " [7.7 2.8 6.7 2. ]\n",
      " [6.3 2.7 4.9 1.8]\n",
      " [6.7 3.3 5.7 2.1]\n",
      " [7.2 3.2 6.  1.8]\n",
      " [6.2 2.8 4.8 1.8]\n",
      " [6.1 3.  4.9 1.8]\n",
      " [6.4 2.8 5.6 2.1]\n",
      " [7.2 3.  5.8 1.6]\n",
      " [7.4 2.8 6.1 1.9]\n",
      " [7.9 3.8 6.4 2. ]\n",
      " [6.4 2.8 5.6 2.2]\n",
      " [6.3 2.8 5.1 1.5]\n",
      " [6.1 2.6 5.6 1.4]\n",
      " [7.7 3.  6.1 2.3]\n",
      " [6.3 3.4 5.6 2.4]\n",
      " [6.4 3.1 5.5 1.8]\n",
      " [6.  3.  4.8 1.8]\n",
      " [6.9 3.1 5.4 2.1]\n",
      " [6.7 3.1 5.6 2.4]\n",
      " [6.9 3.1 5.1 2.3]\n",
      " [5.8 2.7 5.1 1.9]\n",
      " [6.8 3.2 5.9 2.3]\n",
      " [6.7 3.3 5.7 2.5]\n",
      " [6.7 3.  5.2 2.3]\n",
      " [6.3 2.5 5.  1.9]\n",
      " [6.5 3.  5.2 2. ]\n",
      " [6.2 3.4 5.4 2.3]\n",
      " [5.9 3.  5.1 1.8]]\n"
     ]
    }
   ],
   "source": [
    "## Đọc tập tin iris.csv vào dataframe và tạo ma trận A\n",
    "df = pd.read_csv('Data/iris.csv')\n",
    "A  = np.array(df[['sepal_length', 'sepal_width', 'petal_length', 'petal_width']])\n",
    "print(A)"
   ]
  },
  {
   "cell_type": "code",
   "execution_count": 5,
   "id": "behavioral-memphis",
   "metadata": {
    "colab": {
     "base_uri": "https://localhost:8080/"
    },
    "executionInfo": {
     "elapsed": 304,
     "status": "ok",
     "timestamp": 1688745600883,
     "user": {
      "displayName": "Nguyễn An Tế - Khoa CNTTKD",
      "userId": "03515761134611870843"
     },
     "user_tz": -420
    },
    "id": "behavioral-memphis",
    "outputId": "fbcc1b27-7399-4e32-d2c8-0bc7b58940f1"
   },
   "outputs": [
    {
     "data": {
      "text/plain": [
       "array([0.34641016, 0.38729833, 0.50990195, 0.64807407, 0.46904158])"
      ]
     },
     "execution_count": 5,
     "metadata": {},
     "output_type": "execute_result"
    }
   ],
   "source": [
    "## Tính khoảng cách (Euclidean) từ v_new đến mỗi dòng của ma trận A (150 mẫu đã thu thập)\n",
    "A_v       = (A - v) # chuyển từ khái niệm NORM của vector sang KHOẢNG CÁCH giữa 2 điểm\n",
    "distances = []\n",
    "for i in range(A_v.shape[0]):\n",
    "    distances.append(norm(A_v[i, :])) # L2 norm\n",
    "result = np.array(distances)\n",
    "\n",
    "result[:5]"
   ]
  },
  {
   "cell_type": "code",
   "execution_count": 5,
   "id": "57d4b55a",
   "metadata": {},
   "outputs": [
    {
     "data": {
      "text/plain": [
       "array([[-0.1,  0.3,  0.1,  0.1],\n",
       "       [-0.3, -0.2,  0.1,  0.1],\n",
       "       [-0.5,  0. ,  0. ,  0.1],\n",
       "       [-0.6, -0.1,  0.2,  0.1],\n",
       "       [-0.2,  0.4,  0.1,  0.1],\n",
       "       [ 0.2,  0.7,  0.4,  0.3],\n",
       "       [-0.6,  0.2,  0.1,  0.2],\n",
       "       [-0.2,  0.2,  0.2,  0.1],\n",
       "       [-0.8, -0.3,  0.1,  0.1],\n",
       "       [-0.3, -0.1,  0.2,  0. ],\n",
       "       [ 0.2,  0.5,  0.2,  0.1],\n",
       "       [-0.4,  0.2,  0.3,  0.1],\n",
       "       [-0.4, -0.2,  0.1,  0. ],\n",
       "       [-0.9, -0.2, -0.2,  0. ],\n",
       "       [ 0.6,  0.8, -0.1,  0.1],\n",
       "       [ 0.5,  1.2,  0.2,  0.3],\n",
       "       [ 0.2,  0.7,  0. ,  0.3],\n",
       "       [-0.1,  0.3,  0.1,  0.2],\n",
       "       [ 0.5,  0.6,  0.4,  0.2],\n",
       "       [-0.1,  0.6,  0.2,  0.2],\n",
       "       [ 0.2,  0.2,  0.4,  0.1],\n",
       "       [-0.1,  0.5,  0.2,  0.3],\n",
       "       [-0.6,  0.4, -0.3,  0.1],\n",
       "       [-0.1,  0.1,  0.4,  0.4],\n",
       "       [-0.4,  0.2,  0.6,  0.1],\n",
       "       [-0.2, -0.2,  0.3,  0.1],\n",
       "       [-0.2,  0.2,  0.3,  0.3],\n",
       "       [ 0. ,  0.3,  0.2,  0.1],\n",
       "       [ 0. ,  0.2,  0.1,  0.1],\n",
       "       [-0.5,  0. ,  0.3,  0.1],\n",
       "       [-0.4, -0.1,  0.3,  0.1],\n",
       "       [ 0.2,  0.2,  0.2,  0.3],\n",
       "       [ 0. ,  0.9,  0.2,  0. ],\n",
       "       [ 0.3,  1. ,  0.1,  0.1],\n",
       "       [-0.3, -0.1,  0.2,  0. ],\n",
       "       [-0.2,  0. , -0.1,  0.1],\n",
       "       [ 0.3,  0.3,  0. ,  0.1],\n",
       "       [-0.3, -0.1,  0.2,  0. ],\n",
       "       [-0.8, -0.2,  0. ,  0.1],\n",
       "       [-0.1,  0.2,  0.2,  0.1],\n",
       "       [-0.2,  0.3,  0. ,  0.2],\n",
       "       [-0.7, -0.9,  0. ,  0.2],\n",
       "       [-0.8,  0. ,  0. ,  0.1],\n",
       "       [-0.2,  0.3,  0.3,  0.5],\n",
       "       [-0.1,  0.6,  0.6,  0.3],\n",
       "       [-0.4, -0.2,  0.1,  0.2],\n",
       "       [-0.1,  0.6,  0.3,  0.1],\n",
       "       [-0.6,  0. ,  0.1,  0.1],\n",
       "       [ 0.1,  0.5,  0.2,  0.1],\n",
       "       [-0.2,  0.1,  0.1,  0.1],\n",
       "       [ 1.8,  0. ,  3.4,  1.3],\n",
       "       [ 1.2,  0. ,  3.2,  1.4],\n",
       "       [ 1.7, -0.1,  3.6,  1.4],\n",
       "       [ 0.3, -0.9,  2.7,  1.2],\n",
       "       [ 1.3, -0.4,  3.3,  1.4],\n",
       "       [ 0.5, -0.4,  3.2,  1.2],\n",
       "       [ 1.1,  0.1,  3.4,  1.5],\n",
       "       [-0.3, -0.8,  2. ,  0.9],\n",
       "       [ 1.4, -0.3,  3.3,  1.2],\n",
       "       [ 0. , -0.5,  2.6,  1.3],\n",
       "       [-0.2, -1.2,  2.2,  0.9],\n",
       "       [ 0.7, -0.2,  2.9,  1.4],\n",
       "       [ 0.8, -1. ,  2.7,  0.9],\n",
       "       [ 0.9, -0.3,  3.4,  1.3],\n",
       "       [ 0.4, -0.3,  2.3,  1.2],\n",
       "       [ 1.5, -0.1,  3.1,  1.3],\n",
       "       [ 0.4, -0.2,  3.2,  1.4],\n",
       "       [ 0.6, -0.5,  2.8,  0.9],\n",
       "       [ 1. , -1. ,  3.2,  1.4],\n",
       "       [ 0.4, -0.7,  2.6,  1. ],\n",
       "       [ 0.7,  0. ,  3.5,  1.7],\n",
       "       [ 0.9, -0.4,  2.7,  1.2],\n",
       "       [ 1.1, -0.7,  3.6,  1.4],\n",
       "       [ 0.9, -0.4,  3.4,  1.1],\n",
       "       [ 1.2, -0.3,  3. ,  1.2],\n",
       "       [ 1.4, -0.2,  3.1,  1.3],\n",
       "       [ 1.6, -0.4,  3.5,  1.3],\n",
       "       [ 1.5, -0.2,  3.7,  1.6],\n",
       "       [ 0.8, -0.3,  3.2,  1.4],\n",
       "       [ 0.5, -0.6,  2.2,  0.9],\n",
       "       [ 0.3, -0.8,  2.5,  1. ],\n",
       "       [ 0.3, -0.8,  2.4,  0.9],\n",
       "       [ 0.6, -0.5,  2.6,  1.1],\n",
       "       [ 0.8, -0.5,  3.8,  1.5],\n",
       "       [ 0.2, -0.2,  3.2,  1.4],\n",
       "       [ 0.8,  0.2,  3.2,  1.5],\n",
       "       [ 1.5, -0.1,  3.4,  1.4],\n",
       "       [ 1.1, -0.9,  3.1,  1.2],\n",
       "       [ 0.4, -0.2,  2.8,  1.2],\n",
       "       [ 0.3, -0.7,  2.7,  1.2],\n",
       "       [ 0.3, -0.6,  3.1,  1.1],\n",
       "       [ 0.9, -0.2,  3.3,  1.3],\n",
       "       [ 0.6, -0.6,  2.7,  1.1],\n",
       "       [-0.2, -0.9,  2. ,  0.9],\n",
       "       [ 0.4, -0.5,  2.9,  1.2],\n",
       "       [ 0.5, -0.2,  2.9,  1.1],\n",
       "       [ 0.5, -0.3,  2.9,  1.2],\n",
       "       [ 1. , -0.3,  3. ,  1.2],\n",
       "       [-0.1, -0.7,  1.7,  1. ],\n",
       "       [ 0.5, -0.4,  2.8,  1.2],\n",
       "       [ 1.1,  0.1,  4.7,  2.4],\n",
       "       [ 0.6, -0.5,  3.8,  1.8],\n",
       "       [ 1.9, -0.2,  4.6,  2. ],\n",
       "       [ 1.1, -0.3,  4.3,  1.7],\n",
       "       [ 1.3, -0.2,  4.5,  2.1],\n",
       "       [ 2.4, -0.2,  5.3,  2. ],\n",
       "       [-0.3, -0.7,  3.2,  1.6],\n",
       "       [ 2.1, -0.3,  5. ,  1.7],\n",
       "       [ 1.5, -0.7,  4.5,  1.7],\n",
       "       [ 2. ,  0.4,  4.8,  2.4],\n",
       "       [ 1.3,  0. ,  3.8,  1.9],\n",
       "       [ 1.2, -0.5,  4. ,  1.8],\n",
       "       [ 1.6, -0.2,  4.2,  2. ],\n",
       "       [ 0.5, -0.7,  3.7,  1.9],\n",
       "       [ 0.6, -0.4,  3.8,  2.3],\n",
       "       [ 1.2,  0. ,  4. ,  2.2],\n",
       "       [ 1.3, -0.2,  4.2,  1.7],\n",
       "       [ 2.5,  0.6,  5.4,  2.1],\n",
       "       [ 2.5, -0.6,  5.6,  2.2],\n",
       "       [ 0.8, -1. ,  3.7,  1.4],\n",
       "       [ 1.7,  0. ,  4.4,  2.2],\n",
       "       [ 0.4, -0.4,  3.6,  1.9],\n",
       "       [ 2.5, -0.4,  5.4,  1.9],\n",
       "       [ 1.1, -0.5,  3.6,  1.7],\n",
       "       [ 1.5,  0.1,  4.4,  2. ],\n",
       "       [ 2. ,  0. ,  4.7,  1.7],\n",
       "       [ 1. , -0.4,  3.5,  1.7],\n",
       "       [ 0.9, -0.2,  3.6,  1.7],\n",
       "       [ 1.2, -0.4,  4.3,  2. ],\n",
       "       [ 2. , -0.2,  4.5,  1.5],\n",
       "       [ 2.2, -0.4,  4.8,  1.8],\n",
       "       [ 2.7,  0.6,  5.1,  1.9],\n",
       "       [ 1.2, -0.4,  4.3,  2.1],\n",
       "       [ 1.1, -0.4,  3.8,  1.4],\n",
       "       [ 0.9, -0.6,  4.3,  1.3],\n",
       "       [ 2.5, -0.2,  4.8,  2.2],\n",
       "       [ 1.1,  0.2,  4.3,  2.3],\n",
       "       [ 1.2, -0.1,  4.2,  1.7],\n",
       "       [ 0.8, -0.2,  3.5,  1.7],\n",
       "       [ 1.7, -0.1,  4.1,  2. ],\n",
       "       [ 1.5, -0.1,  4.3,  2.3],\n",
       "       [ 1.7, -0.1,  3.8,  2.2],\n",
       "       [ 0.6, -0.5,  3.8,  1.8],\n",
       "       [ 1.6,  0. ,  4.6,  2.2],\n",
       "       [ 1.5,  0.1,  4.4,  2.4],\n",
       "       [ 1.5, -0.2,  3.9,  2.2],\n",
       "       [ 1.1, -0.7,  3.7,  1.8],\n",
       "       [ 1.3, -0.2,  3.9,  1.9],\n",
       "       [ 1. ,  0.2,  4.1,  2.2],\n",
       "       [ 0.7, -0.2,  3.8,  1.7]])"
      ]
     },
     "execution_count": 5,
     "metadata": {},
     "output_type": "execute_result"
    }
   ],
   "source": [
    "A_v       = (A - v)\n",
    "A_v"
   ]
  },
  {
   "cell_type": "markdown",
   "id": "loose-donna",
   "metadata": {
    "id": "loose-donna"
   },
   "source": [
    "---\n",
    "## **Yêu cầu 2:**\n",
    "- Viết hàm Distance(A, v) để tính khoảng cách từ vector v đến ma trận A\n",
    "- Hàm trả về vector là các khoảng cách (tính theo norm 2)\n",
    "---"
   ]
  },
  {
   "cell_type": "code",
   "execution_count": 6,
   "id": "consolidated-denver",
   "metadata": {
    "executionInfo": {
     "elapsed": 374,
     "status": "ok",
     "timestamp": 1688745604656,
     "user": {
      "displayName": "Nguyễn An Tế - Khoa CNTTKD",
      "userId": "03515761134611870843"
     },
     "user_tz": -420
    },
    "id": "consolidated-denver"
   },
   "outputs": [],
   "source": [
    "def Distance(A, v):\n",
    "    A_v       = (A - v)\n",
    "    distances = []\n",
    "    for i in range(A_v.shape[0]):\n",
    "        distances.append(norm(A_v[i, :]))\n",
    "    return np.array(distances)"
   ]
  },
  {
   "cell_type": "code",
   "execution_count": 7,
   "id": "adult-heaven",
   "metadata": {
    "colab": {
     "base_uri": "https://localhost:8080/"
    },
    "executionInfo": {
     "elapsed": 320,
     "status": "ok",
     "timestamp": 1688745608033,
     "user": {
      "displayName": "Nguyễn An Tế - Khoa CNTTKD",
      "userId": "03515761134611870843"
     },
     "user_tz": -420
    },
    "id": "adult-heaven",
    "outputId": "38d401d9-4f1d-4f7e-81b6-8ac6fc59d29d"
   },
   "outputs": [
    {
     "data": {
      "text/plain": [
       "array([0.34641016, 0.38729833, 0.50990195, 0.64807407, 0.46904158])"
      ]
     },
     "execution_count": 7,
     "metadata": {},
     "output_type": "execute_result"
    }
   ],
   "source": [
    "result = Distance(A, v)\n",
    "result[:5]"
   ]
  },
  {
   "cell_type": "markdown",
   "id": "latest-elimination",
   "metadata": {
    "id": "latest-elimination"
   },
   "source": [
    "---\n",
    "## **Yêu cầu 3: Viết hàm KNN(A, v, k = 3) để tìm k phần tử gần nhất (ngầm định 3)**\n",
    "- B1: Gọi đến hàm Distance để tính khoảng cách từ vector v đến ma trận A\n",
    "- B2: Tạo ma trận D có 2 cột: D[index (bắt đầu từ 0), distance]\n",
    "- B3: Sắp xếp D tăng dần theo khoảng cách và chọn ra k phần tử có khoảng cách nhỏ nhất\n",
    "\n",
    "##### ==> Hàm trả về 2 arrays: $index$ và $distance$\n",
    "---"
   ]
  },
  {
   "cell_type": "code",
   "execution_count": 8,
   "id": "proper-converter",
   "metadata": {
    "executionInfo": {
     "elapsed": 330,
     "status": "ok",
     "timestamp": 1688745611296,
     "user": {
      "displayName": "Nguyễn An Tế - Khoa CNTTKD",
      "userId": "03515761134611870843"
     },
     "user_tz": -420
    },
    "id": "proper-converter"
   },
   "outputs": [],
   "source": [
    "## Hàm tìm k láng giềng gần nhất với v (ngầm định k = 3)\n",
    "def KNN(A, v, k = 3):\n",
    "    # Khoảng cách từ v đến ma trận A\n",
    "    distances = Distance(A, v)\n",
    "\n",
    "    # Tạo 2 arrays: index và distance\n",
    "    D1 = np.arange(distances.shape[0]) # index\n",
    "    D  = np.c_[D1, distances] # Ghép nối theo CỘT để tạo ma trận có 2 cột (numpy.r_ : ghép nối theo DÒNG)\n",
    "    D  = D[np.argsort(D[:, 1])][:k] # sắp xếp tăng dần theo distance và chọn k phần tử có distance nhỏ nhất\n",
    "    return (D[:,0], D[:,1]) # trả về 2 array: index, distance"
   ]
  },
  {
   "cell_type": "code",
   "execution_count": 89,
   "id": "11267235",
   "metadata": {},
   "outputs": [],
   "source": [
    "## Hàm tìm k láng giềng gần nhất với v (ngầm định k = 3)\n",
    "def KNN3(A, v, k = 3):\n",
    "    # Khoảng cách từ v đến ma trận A\n",
    "    distances = Distance(A, v)\n",
    "\n",
    "    # Tạo 2 arrays: index và distance\n",
    "    # D1 = np.arange(distances.shape[0]) # index\n",
    "    # D  = np.c_[D1, distances] # Ghép nối theo CỘT để tạo ma trận có 2 cột (numpy.r_ : ghép nối theo DÒNG)\n",
    "    id3  = np.argsort(distances)[:k] # sắp xếp tăng dần theo distance và chọn k phần tử có distance nhỏ nhất\n",
    "    return id3 , distances[id3] # trả về 2 array: index, "
   ]
  },
  {
   "cell_type": "code",
   "execution_count": 90,
   "id": "1d772c86",
   "metadata": {},
   "outputs": [],
   "source": [
    "id3, dis = KNN3(A,v,10)"
   ]
  },
  {
   "cell_type": "code",
   "execution_count": 86,
   "id": "0cfe872d",
   "metadata": {},
   "outputs": [
    {
     "data": {
      "text/plain": [
       "array([28, 35, 49, 39,  0,  7, 27, 34,  9, 37])"
      ]
     },
     "execution_count": 86,
     "metadata": {},
     "output_type": "execute_result"
    }
   ],
   "source": [
    "id3"
   ]
  },
  {
   "cell_type": "code",
   "execution_count": null,
   "id": "e1c6ac6f",
   "metadata": {},
   "outputs": [],
   "source": [
    "distances"
   ]
  },
  {
   "cell_type": "code",
   "execution_count": 83,
   "id": "a9d38357",
   "metadata": {},
   "outputs": [
    {
     "data": {
      "text/html": [
       "<div>\n",
       "<style scoped>\n",
       "    .dataframe tbody tr th:only-of-type {\n",
       "        vertical-align: middle;\n",
       "    }\n",
       "\n",
       "    .dataframe tbody tr th {\n",
       "        vertical-align: top;\n",
       "    }\n",
       "\n",
       "    .dataframe thead th {\n",
       "        text-align: right;\n",
       "    }\n",
       "</style>\n",
       "<table border=\"1\" class=\"dataframe\">\n",
       "  <thead>\n",
       "    <tr style=\"text-align: right;\">\n",
       "      <th></th>\n",
       "      <th>sepal_length</th>\n",
       "      <th>sepal_width</th>\n",
       "      <th>petal_length</th>\n",
       "      <th>petal_width</th>\n",
       "      <th>species</th>\n",
       "    </tr>\n",
       "  </thead>\n",
       "  <tbody>\n",
       "    <tr>\n",
       "      <th>28</th>\n",
       "      <td>5.2</td>\n",
       "      <td>3.4</td>\n",
       "      <td>1.4</td>\n",
       "      <td>0.2</td>\n",
       "      <td>setosa</td>\n",
       "    </tr>\n",
       "    <tr>\n",
       "      <th>35</th>\n",
       "      <td>5.0</td>\n",
       "      <td>3.2</td>\n",
       "      <td>1.2</td>\n",
       "      <td>0.2</td>\n",
       "      <td>setosa</td>\n",
       "    </tr>\n",
       "    <tr>\n",
       "      <th>49</th>\n",
       "      <td>5.0</td>\n",
       "      <td>3.3</td>\n",
       "      <td>1.4</td>\n",
       "      <td>0.2</td>\n",
       "      <td>setosa</td>\n",
       "    </tr>\n",
       "    <tr>\n",
       "      <th>39</th>\n",
       "      <td>5.1</td>\n",
       "      <td>3.4</td>\n",
       "      <td>1.5</td>\n",
       "      <td>0.2</td>\n",
       "      <td>setosa</td>\n",
       "    </tr>\n",
       "    <tr>\n",
       "      <th>0</th>\n",
       "      <td>5.1</td>\n",
       "      <td>3.5</td>\n",
       "      <td>1.4</td>\n",
       "      <td>0.2</td>\n",
       "      <td>setosa</td>\n",
       "    </tr>\n",
       "    <tr>\n",
       "      <th>7</th>\n",
       "      <td>5.0</td>\n",
       "      <td>3.4</td>\n",
       "      <td>1.5</td>\n",
       "      <td>0.2</td>\n",
       "      <td>setosa</td>\n",
       "    </tr>\n",
       "    <tr>\n",
       "      <th>27</th>\n",
       "      <td>5.2</td>\n",
       "      <td>3.5</td>\n",
       "      <td>1.5</td>\n",
       "      <td>0.2</td>\n",
       "      <td>setosa</td>\n",
       "    </tr>\n",
       "    <tr>\n",
       "      <th>34</th>\n",
       "      <td>4.9</td>\n",
       "      <td>3.1</td>\n",
       "      <td>1.5</td>\n",
       "      <td>0.1</td>\n",
       "      <td>setosa</td>\n",
       "    </tr>\n",
       "    <tr>\n",
       "      <th>9</th>\n",
       "      <td>4.9</td>\n",
       "      <td>3.1</td>\n",
       "      <td>1.5</td>\n",
       "      <td>0.1</td>\n",
       "      <td>setosa</td>\n",
       "    </tr>\n",
       "    <tr>\n",
       "      <th>37</th>\n",
       "      <td>4.9</td>\n",
       "      <td>3.1</td>\n",
       "      <td>1.5</td>\n",
       "      <td>0.1</td>\n",
       "      <td>setosa</td>\n",
       "    </tr>\n",
       "  </tbody>\n",
       "</table>\n",
       "</div>"
      ],
      "text/plain": [
       "    sepal_length  sepal_width  petal_length  petal_width species\n",
       "28           5.2          3.4           1.4          0.2  setosa\n",
       "35           5.0          3.2           1.2          0.2  setosa\n",
       "49           5.0          3.3           1.4          0.2  setosa\n",
       "39           5.1          3.4           1.5          0.2  setosa\n",
       "0            5.1          3.5           1.4          0.2  setosa\n",
       "7            5.0          3.4           1.5          0.2  setosa\n",
       "27           5.2          3.5           1.5          0.2  setosa\n",
       "34           4.9          3.1           1.5          0.1  setosa\n",
       "9            4.9          3.1           1.5          0.1  setosa\n",
       "37           4.9          3.1           1.5          0.1  setosa"
      ]
     },
     "execution_count": 83,
     "metadata": {},
     "output_type": "execute_result"
    }
   ],
   "source": [
    "df.iloc[id3]"
   ]
  },
  {
   "cell_type": "code",
   "execution_count": 63,
   "id": "161e8f1b",
   "metadata": {},
   "outputs": [],
   "source": [
    "## Hàm tìm k láng giềng gần nhất với v (ngầm định k = 3)\n",
    "def KNN2(A, v, k = 3):\n",
    "    # Khoảng cách từ v đến ma trận A\n",
    "    distances = Distance(A, v)\n",
    "    D1 = pd.DataFrame(distances, index = np.arange(distances.shape[0]),columns =['distance'])\n",
    "    D1 = D1.sort_values(by=['distance'], ascending = True)[:k]\n",
    "    D1 = D1.reset_index()\n",
    "    return D1"
   ]
  },
  {
   "cell_type": "code",
   "execution_count": 76,
   "id": "75872560",
   "metadata": {},
   "outputs": [],
   "source": [
    "distances2 = Distance(A, v)\n",
    "index = np.arange(distances2.shape[0]) # index\n",
    "D2  = np.c_[index, distances2] "
   ]
  },
  {
   "cell_type": "code",
   "execution_count": 78,
   "id": "9159aa01",
   "metadata": {},
   "outputs": [
    {
     "data": {
      "text/plain": [
       "array([ 28,  35,  49,  39,   0,   7,  27,  34,   9,  37,   1,  17,  40,\n",
       "        25,  36,  31,  12,   4,  20,  45,   2,  26,  30,  11,  48,  23,\n",
       "        10,  29,  47,  21,   3,  19,   6,  46,  43,  24,  16,  22,  42,\n",
       "        38,   8,   5,  18,  44,  32,  13,  14,  33,  41,  15,  98,  57,\n",
       "        93,  79,  64,  60,  81,  80,  69,  82,  59,  92,  67,  89,  88,\n",
       "        53,  99,  71,  62,  95,  96,  94,  61,  90,  97,  74,  55,  84,\n",
       "        66,  78,  87,  85,  75, 106,  91,  65,  51,  73,  63,  68,  58,\n",
       "        54,  56,  70,  86, 138, 126,  50,  72,  76, 127, 121, 119, 123,\n",
       "        83, 133,  52, 149, 113, 101, 142,  77, 146, 110, 114, 147, 111,\n",
       "       134, 137, 141, 116, 115, 145, 103, 148, 139, 128, 112, 132, 136,\n",
       "       124, 108, 140, 104, 129, 120, 144, 143, 102, 125, 100, 130, 107,\n",
       "       109, 135, 131, 105, 122, 117, 118])"
      ]
     },
     "execution_count": 78,
     "metadata": {},
     "output_type": "execute_result"
    }
   ],
   "source": [
    "D3  = np.argsort(D2[:, 1])\n",
    "D3"
   ]
  },
  {
   "cell_type": "code",
   "execution_count": 79,
   "id": "bd0b92dd",
   "metadata": {},
   "outputs": [
    {
     "data": {
      "text/plain": [
       "array([0.34641016, 0.38729833, 0.50990195, 0.64807407, 0.46904158,\n",
       "       0.88317609, 0.67082039, 0.36055513, 0.8660254 , 0.37416574,\n",
       "       0.58309519, 0.54772256, 0.45825757, 0.94339811, 1.00995049,\n",
       "       1.34907376, 0.78740079, 0.38729833, 0.9       , 0.67082039,\n",
       "       0.5       , 0.6244998 , 0.78740079, 0.58309519, 0.75498344,\n",
       "       0.42426407, 0.50990195, 0.37416574, 0.24494897, 0.59160798,\n",
       "       0.51961524, 0.45825757, 0.92195445, 1.05356538, 0.37416574,\n",
       "       0.24494897, 0.43588989, 0.37416574, 0.83066239, 0.31622777,\n",
       "       0.41231056, 1.15758369, 0.80622577, 0.68556546, 0.90553851,\n",
       "       0.5       , 0.68556546, 0.6164414 , 0.55677644, 0.26457513,\n",
       "       4.0607881 , 3.69323706, 4.22137418, 3.10322413, 3.8340579 ,\n",
       "       3.47706773, 3.87685439, 2.35372046, 3.79209705, 2.94957624,\n",
       "       2.67020598, 3.3015148 , 3.12089731, 3.76164857, 2.64196896,\n",
       "       3.68239053, 3.52136337, 3.04302481, 3.76828874, 2.9       ,\n",
       "       3.95347948, 3.1144823 , 4.07676342, 3.7067506 , 3.45976878,\n",
       "       3.64691651, 4.08166633, 4.30581003, 3.59583092, 2.5019992 ,\n",
       "       2.82488938, 2.70185122, 2.9291637 , 4.19285106, 3.50428309,\n",
       "       3.62904946, 3.97240481, 3.6152455 , 3.07896086, 3.05122926,\n",
       "       3.35708207, 3.66469644, 3.03644529, 2.37907545, 3.20312348,\n",
       "       3.14801525, 3.19217794, 3.39558537, 2.09523268, 3.11287648,\n",
       "       5.39166023, 4.27668096, 5.36749476, 4.76235236, 5.13711982,\n",
       "       6.15548536, 3.65786823, 5.69122131, 5.08723894, 5.74108004,\n",
       "       4.44297198, 4.57493169, 4.92341345, 4.24735212, 4.5       ,\n",
       "       4.72016949, 4.71805044, 6.3387696 , 6.54293512, 4.15812458,\n",
       "       5.20480547, 4.10974452, 6.25939294, 4.16052881, 5.06162029,\n",
       "       5.38330753, 4.03732585, 4.08656335, 4.90815648, 5.15169875,\n",
       "       5.59285258, 6.10491605, 4.94974747, 4.21544778, 4.62060602,\n",
       "       5.8455111 , 5.0029991 , 4.68828327, 3.97743636, 4.86929153,\n",
       "       5.10294033, 4.70956474, 4.27668096, 5.34415569, 5.23259018,\n",
       "       4.72652092, 4.31624837, 4.53321078, 4.76340215, 4.22610932])"
      ]
     },
     "execution_count": 79,
     "metadata": {},
     "output_type": "execute_result"
    }
   ],
   "source": [
    "D2[:, 1]"
   ]
  },
  {
   "cell_type": "code",
   "execution_count": 74,
   "id": "368ec5ab",
   "metadata": {},
   "outputs": [],
   "source": [
    "id2 = np.array(150)"
   ]
  },
  {
   "cell_type": "code",
   "execution_count": 75,
   "id": "0032b5f2",
   "metadata": {},
   "outputs": [
    {
     "data": {
      "text/plain": [
       "array(150)"
      ]
     },
     "execution_count": 75,
     "metadata": {},
     "output_type": "execute_result"
    }
   ],
   "source": [
    "id2"
   ]
  },
  {
   "cell_type": "code",
   "execution_count": 64,
   "id": "ab8279f3",
   "metadata": {},
   "outputs": [],
   "source": [
    "D1 = KNN2(A,v,10)"
   ]
  },
  {
   "cell_type": "code",
   "execution_count": 40,
   "id": "94c9a352",
   "metadata": {},
   "outputs": [
    {
     "data": {
      "text/html": [
       "<div>\n",
       "<style scoped>\n",
       "    .dataframe tbody tr th:only-of-type {\n",
       "        vertical-align: middle;\n",
       "    }\n",
       "\n",
       "    .dataframe tbody tr th {\n",
       "        vertical-align: top;\n",
       "    }\n",
       "\n",
       "    .dataframe thead th {\n",
       "        text-align: right;\n",
       "    }\n",
       "</style>\n",
       "<table border=\"1\" class=\"dataframe\">\n",
       "  <thead>\n",
       "    <tr style=\"text-align: right;\">\n",
       "      <th></th>\n",
       "      <th>val</th>\n",
       "    </tr>\n",
       "  </thead>\n",
       "  <tbody>\n",
       "    <tr>\n",
       "      <th>28</th>\n",
       "      <td>0.244949</td>\n",
       "    </tr>\n",
       "    <tr>\n",
       "      <th>35</th>\n",
       "      <td>0.244949</td>\n",
       "    </tr>\n",
       "    <tr>\n",
       "      <th>49</th>\n",
       "      <td>0.264575</td>\n",
       "    </tr>\n",
       "    <tr>\n",
       "      <th>39</th>\n",
       "      <td>0.316228</td>\n",
       "    </tr>\n",
       "    <tr>\n",
       "      <th>0</th>\n",
       "      <td>0.346410</td>\n",
       "    </tr>\n",
       "    <tr>\n",
       "      <th>7</th>\n",
       "      <td>0.360555</td>\n",
       "    </tr>\n",
       "    <tr>\n",
       "      <th>27</th>\n",
       "      <td>0.374166</td>\n",
       "    </tr>\n",
       "    <tr>\n",
       "      <th>34</th>\n",
       "      <td>0.374166</td>\n",
       "    </tr>\n",
       "    <tr>\n",
       "      <th>9</th>\n",
       "      <td>0.374166</td>\n",
       "    </tr>\n",
       "    <tr>\n",
       "      <th>37</th>\n",
       "      <td>0.374166</td>\n",
       "    </tr>\n",
       "  </tbody>\n",
       "</table>\n",
       "</div>"
      ],
      "text/plain": [
       "         val\n",
       "28  0.244949\n",
       "35  0.244949\n",
       "49  0.264575\n",
       "39  0.316228\n",
       "0   0.346410\n",
       "7   0.360555\n",
       "27  0.374166\n",
       "34  0.374166\n",
       "9   0.374166\n",
       "37  0.374166"
      ]
     },
     "execution_count": 40,
     "metadata": {},
     "output_type": "execute_result"
    }
   ],
   "source": [
    "D1"
   ]
  },
  {
   "cell_type": "code",
   "execution_count": 65,
   "id": "36522974",
   "metadata": {},
   "outputs": [],
   "source": [
    "idx = D1.iloc[0:]"
   ]
  },
  {
   "cell_type": "code",
   "execution_count": 69,
   "id": "77fe13c8",
   "metadata": {},
   "outputs": [],
   "source": [
    "idx_arr = np.array(idx['index'], dtype = np.integer)"
   ]
  },
  {
   "cell_type": "code",
   "execution_count": 70,
   "id": "4bd670f4",
   "metadata": {},
   "outputs": [
    {
     "data": {
      "text/plain": [
       "array([28, 35, 49, 39,  0,  7, 27, 34,  9, 37])"
      ]
     },
     "execution_count": 70,
     "metadata": {},
     "output_type": "execute_result"
    }
   ],
   "source": [
    "idx_arr"
   ]
  },
  {
   "cell_type": "code",
   "execution_count": 71,
   "id": "127f80c1",
   "metadata": {},
   "outputs": [
    {
     "data": {
      "text/html": [
       "<div>\n",
       "<style scoped>\n",
       "    .dataframe tbody tr th:only-of-type {\n",
       "        vertical-align: middle;\n",
       "    }\n",
       "\n",
       "    .dataframe tbody tr th {\n",
       "        vertical-align: top;\n",
       "    }\n",
       "\n",
       "    .dataframe thead th {\n",
       "        text-align: right;\n",
       "    }\n",
       "</style>\n",
       "<table border=\"1\" class=\"dataframe\">\n",
       "  <thead>\n",
       "    <tr style=\"text-align: right;\">\n",
       "      <th></th>\n",
       "      <th>sepal_length</th>\n",
       "      <th>sepal_width</th>\n",
       "      <th>petal_length</th>\n",
       "      <th>petal_width</th>\n",
       "      <th>species</th>\n",
       "    </tr>\n",
       "  </thead>\n",
       "  <tbody>\n",
       "    <tr>\n",
       "      <th>28</th>\n",
       "      <td>5.2</td>\n",
       "      <td>3.4</td>\n",
       "      <td>1.4</td>\n",
       "      <td>0.2</td>\n",
       "      <td>setosa</td>\n",
       "    </tr>\n",
       "    <tr>\n",
       "      <th>35</th>\n",
       "      <td>5.0</td>\n",
       "      <td>3.2</td>\n",
       "      <td>1.2</td>\n",
       "      <td>0.2</td>\n",
       "      <td>setosa</td>\n",
       "    </tr>\n",
       "    <tr>\n",
       "      <th>49</th>\n",
       "      <td>5.0</td>\n",
       "      <td>3.3</td>\n",
       "      <td>1.4</td>\n",
       "      <td>0.2</td>\n",
       "      <td>setosa</td>\n",
       "    </tr>\n",
       "    <tr>\n",
       "      <th>39</th>\n",
       "      <td>5.1</td>\n",
       "      <td>3.4</td>\n",
       "      <td>1.5</td>\n",
       "      <td>0.2</td>\n",
       "      <td>setosa</td>\n",
       "    </tr>\n",
       "    <tr>\n",
       "      <th>0</th>\n",
       "      <td>5.1</td>\n",
       "      <td>3.5</td>\n",
       "      <td>1.4</td>\n",
       "      <td>0.2</td>\n",
       "      <td>setosa</td>\n",
       "    </tr>\n",
       "    <tr>\n",
       "      <th>7</th>\n",
       "      <td>5.0</td>\n",
       "      <td>3.4</td>\n",
       "      <td>1.5</td>\n",
       "      <td>0.2</td>\n",
       "      <td>setosa</td>\n",
       "    </tr>\n",
       "    <tr>\n",
       "      <th>27</th>\n",
       "      <td>5.2</td>\n",
       "      <td>3.5</td>\n",
       "      <td>1.5</td>\n",
       "      <td>0.2</td>\n",
       "      <td>setosa</td>\n",
       "    </tr>\n",
       "    <tr>\n",
       "      <th>34</th>\n",
       "      <td>4.9</td>\n",
       "      <td>3.1</td>\n",
       "      <td>1.5</td>\n",
       "      <td>0.1</td>\n",
       "      <td>setosa</td>\n",
       "    </tr>\n",
       "    <tr>\n",
       "      <th>9</th>\n",
       "      <td>4.9</td>\n",
       "      <td>3.1</td>\n",
       "      <td>1.5</td>\n",
       "      <td>0.1</td>\n",
       "      <td>setosa</td>\n",
       "    </tr>\n",
       "    <tr>\n",
       "      <th>37</th>\n",
       "      <td>4.9</td>\n",
       "      <td>3.1</td>\n",
       "      <td>1.5</td>\n",
       "      <td>0.1</td>\n",
       "      <td>setosa</td>\n",
       "    </tr>\n",
       "  </tbody>\n",
       "</table>\n",
       "</div>"
      ],
      "text/plain": [
       "    sepal_length  sepal_width  petal_length  petal_width species\n",
       "28           5.2          3.4           1.4          0.2  setosa\n",
       "35           5.0          3.2           1.2          0.2  setosa\n",
       "49           5.0          3.3           1.4          0.2  setosa\n",
       "39           5.1          3.4           1.5          0.2  setosa\n",
       "0            5.1          3.5           1.4          0.2  setosa\n",
       "7            5.0          3.4           1.5          0.2  setosa\n",
       "27           5.2          3.5           1.5          0.2  setosa\n",
       "34           4.9          3.1           1.5          0.1  setosa\n",
       "9            4.9          3.1           1.5          0.1  setosa\n",
       "37           4.9          3.1           1.5          0.1  setosa"
      ]
     },
     "execution_count": 71,
     "metadata": {},
     "output_type": "execute_result"
    }
   ],
   "source": [
    "df.iloc[idx_arr]"
   ]
  },
  {
   "cell_type": "markdown",
   "id": "concerned-acceptance",
   "metadata": {
    "id": "concerned-acceptance"
   },
   "source": [
    "---\n",
    "## **Yêu cầu 4:**\n",
    "- Tìm k phần tử gần vector v nhất\n",
    "- In ra index và distance\n",
    "- In ra df.iloc[ind] và cho nhận xét\n",
    "---"
   ]
  },
  {
   "cell_type": "code",
   "execution_count": 9,
   "id": "senior-kernel",
   "metadata": {
    "executionInfo": {
     "elapsed": 504,
     "status": "ok",
     "timestamp": 1688745615739,
     "user": {
      "displayName": "Nguyễn An Tế - Khoa CNTTKD",
      "userId": "03515761134611870843"
     },
     "user_tz": -420
    },
    "id": "senior-kernel"
   },
   "outputs": [],
   "source": [
    "## Tìm k láng giềng gần nhất\n",
    "k        = 9 # chọn tùy ý\n",
    "idx, dist = KNN(A, v, k)"
   ]
  },
  {
   "cell_type": "code",
   "execution_count": 10,
   "id": "imposed-mailman",
   "metadata": {
    "colab": {
     "base_uri": "https://localhost:8080/"
    },
    "executionInfo": {
     "elapsed": 309,
     "status": "ok",
     "timestamp": 1688745617891,
     "user": {
      "displayName": "Nguyễn An Tế - Khoa CNTTKD",
      "userId": "03515761134611870843"
     },
     "user_tz": -420
    },
    "id": "imposed-mailman",
    "outputId": "ac3d6a80-5365-4f61-f344-be5de9c16260"
   },
   "outputs": [
    {
     "data": {
      "text/plain": [
       "array([28, 35, 49, 39,  0,  7, 34, 27,  9])"
      ]
     },
     "execution_count": 10,
     "metadata": {},
     "output_type": "execute_result"
    }
   ],
   "source": [
    "## Index của các láng giềng gần vector v nhất\n",
    "idx.astype(int)"
   ]
  },
  {
   "cell_type": "code",
   "execution_count": 11,
   "id": "earlier-rachel",
   "metadata": {
    "colab": {
     "base_uri": "https://localhost:8080/"
    },
    "executionInfo": {
     "elapsed": 522,
     "status": "ok",
     "timestamp": 1688745620140,
     "user": {
      "displayName": "Nguyễn An Tế - Khoa CNTTKD",
      "userId": "03515761134611870843"
     },
     "user_tz": -420
    },
    "id": "earlier-rachel",
    "outputId": "95c0db9e-d145-448d-f849-49e3cb5fef08"
   },
   "outputs": [
    {
     "data": {
      "text/plain": [
       "array([0.24494897, 0.24494897, 0.26457513, 0.31622777, 0.34641016,\n",
       "       0.36055513, 0.37416574, 0.37416574, 0.37416574])"
      ]
     },
     "execution_count": 11,
     "metadata": {},
     "output_type": "execute_result"
    }
   ],
   "source": [
    "## Khoảng cách tương ứng giữa v và các láng giềng gần nhất\n",
    "dist"
   ]
  },
  {
   "cell_type": "code",
   "execution_count": 12,
   "id": "fresh-cooling",
   "metadata": {
    "colab": {
     "base_uri": "https://localhost:8080/",
     "height": 332
    },
    "executionInfo": {
     "elapsed": 335,
     "status": "ok",
     "timestamp": 1688745622640,
     "user": {
      "displayName": "Nguyễn An Tế - Khoa CNTTKD",
      "userId": "03515761134611870843"
     },
     "user_tz": -420
    },
    "id": "fresh-cooling",
    "outputId": "3606b6cc-1fca-47a8-8b9a-ba5011a6acc9"
   },
   "outputs": [
    {
     "data": {
      "text/html": [
       "\n",
       "  <div id=\"df-0e9fa6cb-a17e-4569-8da6-ac23dbb2ae1c\">\n",
       "    <div class=\"colab-df-container\">\n",
       "      <div>\n",
       "<style scoped>\n",
       "    .dataframe tbody tr th:only-of-type {\n",
       "        vertical-align: middle;\n",
       "    }\n",
       "\n",
       "    .dataframe tbody tr th {\n",
       "        vertical-align: top;\n",
       "    }\n",
       "\n",
       "    .dataframe thead th {\n",
       "        text-align: right;\n",
       "    }\n",
       "</style>\n",
       "<table border=\"1\" class=\"dataframe\">\n",
       "  <thead>\n",
       "    <tr style=\"text-align: right;\">\n",
       "      <th></th>\n",
       "      <th>sepal_length</th>\n",
       "      <th>sepal_width</th>\n",
       "      <th>petal_length</th>\n",
       "      <th>petal_width</th>\n",
       "      <th>species</th>\n",
       "    </tr>\n",
       "  </thead>\n",
       "  <tbody>\n",
       "    <tr>\n",
       "      <th>28</th>\n",
       "      <td>5.2</td>\n",
       "      <td>3.4</td>\n",
       "      <td>1.4</td>\n",
       "      <td>0.2</td>\n",
       "      <td>setosa</td>\n",
       "    </tr>\n",
       "    <tr>\n",
       "      <th>35</th>\n",
       "      <td>5.0</td>\n",
       "      <td>3.2</td>\n",
       "      <td>1.2</td>\n",
       "      <td>0.2</td>\n",
       "      <td>setosa</td>\n",
       "    </tr>\n",
       "    <tr>\n",
       "      <th>49</th>\n",
       "      <td>5.0</td>\n",
       "      <td>3.3</td>\n",
       "      <td>1.4</td>\n",
       "      <td>0.2</td>\n",
       "      <td>setosa</td>\n",
       "    </tr>\n",
       "    <tr>\n",
       "      <th>39</th>\n",
       "      <td>5.1</td>\n",
       "      <td>3.4</td>\n",
       "      <td>1.5</td>\n",
       "      <td>0.2</td>\n",
       "      <td>setosa</td>\n",
       "    </tr>\n",
       "    <tr>\n",
       "      <th>0</th>\n",
       "      <td>5.1</td>\n",
       "      <td>3.5</td>\n",
       "      <td>1.4</td>\n",
       "      <td>0.2</td>\n",
       "      <td>setosa</td>\n",
       "    </tr>\n",
       "    <tr>\n",
       "      <th>7</th>\n",
       "      <td>5.0</td>\n",
       "      <td>3.4</td>\n",
       "      <td>1.5</td>\n",
       "      <td>0.2</td>\n",
       "      <td>setosa</td>\n",
       "    </tr>\n",
       "    <tr>\n",
       "      <th>34</th>\n",
       "      <td>4.9</td>\n",
       "      <td>3.1</td>\n",
       "      <td>1.5</td>\n",
       "      <td>0.1</td>\n",
       "      <td>setosa</td>\n",
       "    </tr>\n",
       "    <tr>\n",
       "      <th>27</th>\n",
       "      <td>5.2</td>\n",
       "      <td>3.5</td>\n",
       "      <td>1.5</td>\n",
       "      <td>0.2</td>\n",
       "      <td>setosa</td>\n",
       "    </tr>\n",
       "    <tr>\n",
       "      <th>9</th>\n",
       "      <td>4.9</td>\n",
       "      <td>3.1</td>\n",
       "      <td>1.5</td>\n",
       "      <td>0.1</td>\n",
       "      <td>setosa</td>\n",
       "    </tr>\n",
       "  </tbody>\n",
       "</table>\n",
       "</div>\n",
       "      <button class=\"colab-df-convert\" onclick=\"convertToInteractive('df-0e9fa6cb-a17e-4569-8da6-ac23dbb2ae1c')\"\n",
       "              title=\"Convert this dataframe to an interactive table.\"\n",
       "              style=\"display:none;\">\n",
       "        \n",
       "  <svg xmlns=\"http://www.w3.org/2000/svg\" height=\"24px\"viewBox=\"0 0 24 24\"\n",
       "       width=\"24px\">\n",
       "    <path d=\"M0 0h24v24H0V0z\" fill=\"none\"/>\n",
       "    <path d=\"M18.56 5.44l.94 2.06.94-2.06 2.06-.94-2.06-.94-.94-2.06-.94 2.06-2.06.94zm-11 1L8.5 8.5l.94-2.06 2.06-.94-2.06-.94L8.5 2.5l-.94 2.06-2.06.94zm10 10l.94 2.06.94-2.06 2.06-.94-2.06-.94-.94-2.06-.94 2.06-2.06.94z\"/><path d=\"M17.41 7.96l-1.37-1.37c-.4-.4-.92-.59-1.43-.59-.52 0-1.04.2-1.43.59L10.3 9.45l-7.72 7.72c-.78.78-.78 2.05 0 2.83L4 21.41c.39.39.9.59 1.41.59.51 0 1.02-.2 1.41-.59l7.78-7.78 2.81-2.81c.8-.78.8-2.07 0-2.86zM5.41 20L4 18.59l7.72-7.72 1.47 1.35L5.41 20z\"/>\n",
       "  </svg>\n",
       "      </button>\n",
       "      \n",
       "  <style>\n",
       "    .colab-df-container {\n",
       "      display:flex;\n",
       "      flex-wrap:wrap;\n",
       "      gap: 12px;\n",
       "    }\n",
       "\n",
       "    .colab-df-convert {\n",
       "      background-color: #E8F0FE;\n",
       "      border: none;\n",
       "      border-radius: 50%;\n",
       "      cursor: pointer;\n",
       "      display: none;\n",
       "      fill: #1967D2;\n",
       "      height: 32px;\n",
       "      padding: 0 0 0 0;\n",
       "      width: 32px;\n",
       "    }\n",
       "\n",
       "    .colab-df-convert:hover {\n",
       "      background-color: #E2EBFA;\n",
       "      box-shadow: 0px 1px 2px rgba(60, 64, 67, 0.3), 0px 1px 3px 1px rgba(60, 64, 67, 0.15);\n",
       "      fill: #174EA6;\n",
       "    }\n",
       "\n",
       "    [theme=dark] .colab-df-convert {\n",
       "      background-color: #3B4455;\n",
       "      fill: #D2E3FC;\n",
       "    }\n",
       "\n",
       "    [theme=dark] .colab-df-convert:hover {\n",
       "      background-color: #434B5C;\n",
       "      box-shadow: 0px 1px 3px 1px rgba(0, 0, 0, 0.15);\n",
       "      filter: drop-shadow(0px 1px 2px rgba(0, 0, 0, 0.3));\n",
       "      fill: #FFFFFF;\n",
       "    }\n",
       "  </style>\n",
       "\n",
       "      <script>\n",
       "        const buttonEl =\n",
       "          document.querySelector('#df-0e9fa6cb-a17e-4569-8da6-ac23dbb2ae1c button.colab-df-convert');\n",
       "        buttonEl.style.display =\n",
       "          google.colab.kernel.accessAllowed ? 'block' : 'none';\n",
       "\n",
       "        async function convertToInteractive(key) {\n",
       "          const element = document.querySelector('#df-0e9fa6cb-a17e-4569-8da6-ac23dbb2ae1c');\n",
       "          const dataTable =\n",
       "            await google.colab.kernel.invokeFunction('convertToInteractive',\n",
       "                                                     [key], {});\n",
       "          if (!dataTable) return;\n",
       "\n",
       "          const docLinkHtml = 'Like what you see? Visit the ' +\n",
       "            '<a target=\"_blank\" href=https://colab.research.google.com/notebooks/data_table.ipynb>data table notebook</a>'\n",
       "            + ' to learn more about interactive tables.';\n",
       "          element.innerHTML = '';\n",
       "          dataTable['output_type'] = 'display_data';\n",
       "          await google.colab.output.renderOutput(dataTable, element);\n",
       "          const docLink = document.createElement('div');\n",
       "          docLink.innerHTML = docLinkHtml;\n",
       "          element.appendChild(docLink);\n",
       "        }\n",
       "      </script>\n",
       "    </div>\n",
       "  </div>\n",
       "  "
      ],
      "text/plain": [
       "    sepal_length  sepal_width  petal_length  petal_width species\n",
       "28           5.2          3.4           1.4          0.2  setosa\n",
       "35           5.0          3.2           1.2          0.2  setosa\n",
       "49           5.0          3.3           1.4          0.2  setosa\n",
       "39           5.1          3.4           1.5          0.2  setosa\n",
       "0            5.1          3.5           1.4          0.2  setosa\n",
       "7            5.0          3.4           1.5          0.2  setosa\n",
       "34           4.9          3.1           1.5          0.1  setosa\n",
       "27           5.2          3.5           1.5          0.2  setosa\n",
       "9            4.9          3.1           1.5          0.1  setosa"
      ]
     },
     "execution_count": 12,
     "metadata": {},
     "output_type": "execute_result"
    }
   ],
   "source": [
    "## Xem dữ liệu của k láng giềng gần nhất\n",
    "df.iloc[idx]"
   ]
  },
  {
   "cell_type": "code",
   "execution_count": null,
   "id": "aerial-driving",
   "metadata": {
    "id": "aerial-driving"
   },
   "outputs": [],
   "source": [
    "## Nhận xét: với v = [5.2, 3.2, 1.3, 0.1] thì các láng giềng gần nhất thuộc nhóm hoa setosa"
   ]
  },
  {
   "cell_type": "code",
   "execution_count": 13,
   "id": "committed-denial",
   "metadata": {
    "colab": {
     "base_uri": "https://localhost:8080/",
     "height": 143
    },
    "executionInfo": {
     "elapsed": 331,
     "status": "ok",
     "timestamp": 1688745629638,
     "user": {
      "displayName": "Nguyễn An Tế - Khoa CNTTKD",
      "userId": "03515761134611870843"
     },
     "user_tz": -420
    },
    "id": "committed-denial",
    "outputId": "91cd0d6b-b04b-4c76-a903-469ddf235656"
   },
   "outputs": [
    {
     "data": {
      "text/html": [
       "\n",
       "  <div id=\"df-43c9ee08-c4b1-4f6b-a40e-213d01c19392\">\n",
       "    <div class=\"colab-df-container\">\n",
       "      <div>\n",
       "<style scoped>\n",
       "    .dataframe tbody tr th:only-of-type {\n",
       "        vertical-align: middle;\n",
       "    }\n",
       "\n",
       "    .dataframe tbody tr th {\n",
       "        vertical-align: top;\n",
       "    }\n",
       "\n",
       "    .dataframe thead th {\n",
       "        text-align: right;\n",
       "    }\n",
       "</style>\n",
       "<table border=\"1\" class=\"dataframe\">\n",
       "  <thead>\n",
       "    <tr style=\"text-align: right;\">\n",
       "      <th></th>\n",
       "      <th>sepal_length</th>\n",
       "      <th>sepal_width</th>\n",
       "      <th>petal_length</th>\n",
       "      <th>petal_width</th>\n",
       "      <th>species</th>\n",
       "    </tr>\n",
       "  </thead>\n",
       "  <tbody>\n",
       "    <tr>\n",
       "      <th>28</th>\n",
       "      <td>5.2</td>\n",
       "      <td>3.4</td>\n",
       "      <td>1.4</td>\n",
       "      <td>0.2</td>\n",
       "      <td>setosa</td>\n",
       "    </tr>\n",
       "    <tr>\n",
       "      <th>35</th>\n",
       "      <td>5.0</td>\n",
       "      <td>3.2</td>\n",
       "      <td>1.2</td>\n",
       "      <td>0.2</td>\n",
       "      <td>setosa</td>\n",
       "    </tr>\n",
       "    <tr>\n",
       "      <th>49</th>\n",
       "      <td>5.0</td>\n",
       "      <td>3.3</td>\n",
       "      <td>1.4</td>\n",
       "      <td>0.2</td>\n",
       "      <td>setosa</td>\n",
       "    </tr>\n",
       "  </tbody>\n",
       "</table>\n",
       "</div>\n",
       "      <button class=\"colab-df-convert\" onclick=\"convertToInteractive('df-43c9ee08-c4b1-4f6b-a40e-213d01c19392')\"\n",
       "              title=\"Convert this dataframe to an interactive table.\"\n",
       "              style=\"display:none;\">\n",
       "        \n",
       "  <svg xmlns=\"http://www.w3.org/2000/svg\" height=\"24px\"viewBox=\"0 0 24 24\"\n",
       "       width=\"24px\">\n",
       "    <path d=\"M0 0h24v24H0V0z\" fill=\"none\"/>\n",
       "    <path d=\"M18.56 5.44l.94 2.06.94-2.06 2.06-.94-2.06-.94-.94-2.06-.94 2.06-2.06.94zm-11 1L8.5 8.5l.94-2.06 2.06-.94-2.06-.94L8.5 2.5l-.94 2.06-2.06.94zm10 10l.94 2.06.94-2.06 2.06-.94-2.06-.94-.94-2.06-.94 2.06-2.06.94z\"/><path d=\"M17.41 7.96l-1.37-1.37c-.4-.4-.92-.59-1.43-.59-.52 0-1.04.2-1.43.59L10.3 9.45l-7.72 7.72c-.78.78-.78 2.05 0 2.83L4 21.41c.39.39.9.59 1.41.59.51 0 1.02-.2 1.41-.59l7.78-7.78 2.81-2.81c.8-.78.8-2.07 0-2.86zM5.41 20L4 18.59l7.72-7.72 1.47 1.35L5.41 20z\"/>\n",
       "  </svg>\n",
       "      </button>\n",
       "      \n",
       "  <style>\n",
       "    .colab-df-container {\n",
       "      display:flex;\n",
       "      flex-wrap:wrap;\n",
       "      gap: 12px;\n",
       "    }\n",
       "\n",
       "    .colab-df-convert {\n",
       "      background-color: #E8F0FE;\n",
       "      border: none;\n",
       "      border-radius: 50%;\n",
       "      cursor: pointer;\n",
       "      display: none;\n",
       "      fill: #1967D2;\n",
       "      height: 32px;\n",
       "      padding: 0 0 0 0;\n",
       "      width: 32px;\n",
       "    }\n",
       "\n",
       "    .colab-df-convert:hover {\n",
       "      background-color: #E2EBFA;\n",
       "      box-shadow: 0px 1px 2px rgba(60, 64, 67, 0.3), 0px 1px 3px 1px rgba(60, 64, 67, 0.15);\n",
       "      fill: #174EA6;\n",
       "    }\n",
       "\n",
       "    [theme=dark] .colab-df-convert {\n",
       "      background-color: #3B4455;\n",
       "      fill: #D2E3FC;\n",
       "    }\n",
       "\n",
       "    [theme=dark] .colab-df-convert:hover {\n",
       "      background-color: #434B5C;\n",
       "      box-shadow: 0px 1px 3px 1px rgba(0, 0, 0, 0.15);\n",
       "      filter: drop-shadow(0px 1px 2px rgba(0, 0, 0, 0.3));\n",
       "      fill: #FFFFFF;\n",
       "    }\n",
       "  </style>\n",
       "\n",
       "      <script>\n",
       "        const buttonEl =\n",
       "          document.querySelector('#df-43c9ee08-c4b1-4f6b-a40e-213d01c19392 button.colab-df-convert');\n",
       "        buttonEl.style.display =\n",
       "          google.colab.kernel.accessAllowed ? 'block' : 'none';\n",
       "\n",
       "        async function convertToInteractive(key) {\n",
       "          const element = document.querySelector('#df-43c9ee08-c4b1-4f6b-a40e-213d01c19392');\n",
       "          const dataTable =\n",
       "            await google.colab.kernel.invokeFunction('convertToInteractive',\n",
       "                                                     [key], {});\n",
       "          if (!dataTable) return;\n",
       "\n",
       "          const docLinkHtml = 'Like what you see? Visit the ' +\n",
       "            '<a target=\"_blank\" href=https://colab.research.google.com/notebooks/data_table.ipynb>data table notebook</a>'\n",
       "            + ' to learn more about interactive tables.';\n",
       "          element.innerHTML = '';\n",
       "          dataTable['output_type'] = 'display_data';\n",
       "          await google.colab.output.renderOutput(dataTable, element);\n",
       "          const docLink = document.createElement('div');\n",
       "          docLink.innerHTML = docLinkHtml;\n",
       "          element.appendChild(docLink);\n",
       "        }\n",
       "      </script>\n",
       "    </div>\n",
       "  </div>\n",
       "  "
      ],
      "text/plain": [
       "    sepal_length  sepal_width  petal_length  petal_width species\n",
       "28           5.2          3.4           1.4          0.2  setosa\n",
       "35           5.0          3.2           1.2          0.2  setosa\n",
       "49           5.0          3.3           1.4          0.2  setosa"
      ]
     },
     "execution_count": 13,
     "metadata": {},
     "output_type": "execute_result"
    }
   ],
   "source": [
    "## Nếu chọn 3 láng giềng gần nhất (giá trị ngầm định): không cần gởi tham số k\n",
    "idx, dist = KNN(A, v)\n",
    "df.iloc[idx]"
   ]
  }
 ],
 "metadata": {
  "colab": {
   "provenance": []
  },
  "kernelspec": {
   "display_name": "Python 3.11.4 64-bit",
   "language": "python",
   "name": "python3"
  },
  "language_info": {
   "codemirror_mode": {
    "name": "ipython",
    "version": 3
   },
   "file_extension": ".py",
   "mimetype": "text/x-python",
   "name": "python",
   "nbconvert_exporter": "python",
   "pygments_lexer": "ipython3",
   "version": "3.11.4"
  },
  "vscode": {
   "interpreter": {
    "hash": "aee8b7b246df8f9039afb4144a1f6fd8d2ca17a180786b69acc140d282b71a49"
   }
  }
 },
 "nbformat": 4,
 "nbformat_minor": 5
}
