{
 "cells": [
  {
   "cell_type": "markdown",
   "id": "vulnerable-procurement",
   "metadata": {
    "id": "vulnerable-procurement"
   },
   "source": [
    "# **BT thực hành 1.2: Ma trận**\n",
    "\n",
    "\n",
    "> Cập nhật: **07/2023**\n",
    "\n"
   ]
  },
  {
   "cell_type": "code",
   "execution_count": 1,
   "id": "FBRq_7Hn7HDu",
   "metadata": {
    "colab": {
     "base_uri": "https://localhost:8080/"
    },
    "executionInfo": {
     "elapsed": 23640,
     "status": "ok",
     "timestamp": 1688745218709,
     "user": {
      "displayName": "Nguyễn An Tế - Khoa CNTTKD",
      "userId": "03515761134611870843"
     },
     "user_tz": -420
    },
    "id": "FBRq_7Hn7HDu",
    "outputId": "c4a492c1-37c4-45b7-bfc8-37f068aaf97d"
   },
   "outputs": [
    {
     "name": "stdout",
     "output_type": "stream",
     "text": [
      "Mounted at /content/gdrive\n"
     ]
    }
   ],
   "source": [
    "## Môi trường lập trình\n",
    "from google.colab import drive\n",
    "drive.mount(\"/content/gdrive\", force_remount = True)\n",
    "folder = '/content/gdrive/My Drive/Edu/Chia se hoc lieu/LDS3/Bai tap HV/Ch1_Linear_Algebra'"
   ]
  },
  {
   "cell_type": "code",
   "execution_count": 15,
   "id": "OooF4nfc7I0m",
   "metadata": {
    "executionInfo": {
     "elapsed": 1043,
     "status": "ok",
     "timestamp": 1688745231609,
     "user": {
      "displayName": "Nguyễn An Tế - Khoa CNTTKD",
      "userId": "03515761134611870843"
     },
     "user_tz": -420
    },
    "id": "OooF4nfc7I0m"
   },
   "outputs": [],
   "source": [
    "## Thư viện\n",
    "import numpy        as np\n",
    "import pandas       as pd\n",
    "import warnings\n",
    "warnings.filterwarnings('ignore')\n",
    "\n",
    "from   numpy.linalg import norm, inv, det"
   ]
  },
  {
   "cell_type": "markdown",
   "id": "usual-consultation",
   "metadata": {
    "id": "usual-consultation"
   },
   "source": [
    "---\n",
    "## **Yêu cầu 1: Nhân ma trận**\n",
    "- Tạo ma trận A: [[2,5,4], [3,6,1]]\n",
    "- Tạo ma trận B: [[3,2], [1,4], [5,7]]\n",
    "- Nhân 2 ma trận: C = A.B\n",
    "---\n"
   ]
  },
  {
   "cell_type": "code",
   "execution_count": 2,
   "id": "surprised-diagram",
   "metadata": {
    "executionInfo": {
     "elapsed": 370,
     "status": "ok",
     "timestamp": 1688745236419,
     "user": {
      "displayName": "Nguyễn An Tế - Khoa CNTTKD",
      "userId": "03515761134611870843"
     },
     "user_tz": -420
    },
    "id": "surprised-diagram"
   },
   "outputs": [],
   "source": [
    "## Tạo các ma trận A và B\n",
    "A = np.array([[2, 5, 4], [3, 6, 1]])\n",
    "B = np.array([[3, 2], [1, 4], [5, 7]])"
   ]
  },
  {
   "cell_type": "code",
   "execution_count": 3,
   "id": "weighted-times",
   "metadata": {
    "colab": {
     "base_uri": "https://localhost:8080/"
    },
    "executionInfo": {
     "elapsed": 350,
     "status": "ok",
     "timestamp": 1688745238893,
     "user": {
      "displayName": "Nguyễn An Tế - Khoa CNTTKD",
      "userId": "03515761134611870843"
     },
     "user_tz": -420
    },
    "id": "weighted-times",
    "outputId": "b0284e73-15de-4970-a181-1e2ce1cda0a2"
   },
   "outputs": [
    {
     "name": "stdout",
     "output_type": "stream",
     "text": [
      "Ma trận A:\n",
      " [[2 5 4]\n",
      " [3 6 1]]\n",
      "Ma trận B:\n",
      " [[3 2]\n",
      " [1 4]\n",
      " [5 7]]\n",
      "Ma trận A.B:\n",
      " [[31 52]\n",
      " [20 37]]\n",
      "Ma trận A.B:\n",
      " [[31 52]\n",
      " [20 37]]\n"
     ]
    }
   ],
   "source": [
    "## Nhân các ma trận A và B\n",
    "print('Ma trận A:\\n', A)\n",
    "print('Ma trận B:\\n', B)\n",
    "print('Ma trận A.B:\\n', A.dot(B))\n",
    "print('Ma trận A.B:\\n', A @ B)"
   ]
  },
  {
   "cell_type": "markdown",
   "id": "egyptian-still",
   "metadata": {
    "id": "egyptian-still"
   },
   "source": [
    "---\n",
    "## **Yêu cầu 2: Nhân ma trận với vector**\n",
    "- Tạo ma trận A: [[2, 4, 6], [1, 3, 5], [4, 1, 2]]\n",
    "- Tạo vector v: [1, 2, 3]\n",
    "- Nhân A với v : c = A.v\n",
    "---"
   ]
  },
  {
   "cell_type": "code",
   "execution_count": 16,
   "id": "minute-adrian",
   "metadata": {
    "colab": {
     "base_uri": "https://localhost:8080/"
    },
    "executionInfo": {
     "elapsed": 348,
     "status": "ok",
     "timestamp": 1688745243304,
     "user": {
      "displayName": "Nguyễn An Tế - Khoa CNTTKD",
      "userId": "03515761134611870843"
     },
     "user_tz": -420
    },
    "id": "minute-adrian",
    "outputId": "69c43860-fef3-47ee-fcf5-ac9ad9075e70"
   },
   "outputs": [
    {
     "name": "stdout",
     "output_type": "stream",
     "text": [
      "Ma trận A:\n",
      " [[2 4 6]\n",
      " [1 3 5]\n",
      " [4 1 2]]\n",
      "Vector v:\n",
      " [1 2 3]\n",
      "Vector A.v:\n",
      " [28 22 12] [28 22 12]\n"
     ]
    }
   ],
   "source": [
    "A = np.array([[2, 4, 6], [1, 3, 5], [4, 1, 2]])\n",
    "v = np.array([1, 2, 3])\n",
    "print('Ma trận A:\\n', A)\n",
    "print('Vector v:\\n', v)\n",
    "print('Vector A.v:\\n', A.dot(v), A @ v)"
   ]
  },
  {
   "cell_type": "markdown",
   "id": "PQ9PmCRwlpbr",
   "metadata": {
    "id": "PQ9PmCRwlpbr"
   },
   "source": [
    "---\n",
    "## **Yêu cầu 3: Tính L2 norm của các vectors (dòng) trong tập tin**\n",
    "- Đọc tập tin **iris.csv** vào dataframe df\n",
    "- Từ dataframe df hãy tạo ma trận A với các thuộc tính: 'sepal_length', 'sepal_width', 'petal_length', 'petal_width'\n",
    "- Tính L2 norm cho mỗi vector dòng của ma trận A\n",
    "---"
   ]
  },
  {
   "cell_type": "code",
   "execution_count": 5,
   "id": "f3Rw5lqBlpbt",
   "metadata": {
    "executionInfo": {
     "elapsed": 2084,
     "status": "ok",
     "timestamp": 1688745251818,
     "user": {
      "displayName": "Nguyễn An Tế - Khoa CNTTKD",
      "userId": "03515761134611870843"
     },
     "user_tz": -420
    },
    "id": "f3Rw5lqBlpbt"
   },
   "outputs": [],
   "source": [
    "## Đọc tập tin iris.csv vào dataframe và tạo ma trận A\n",
    "df = pd.read_csv('Data/iris.csv')\n",
    "A  = np.array(df[['sepal_length', 'sepal_width', 'petal_length', 'petal_width']])"
   ]
  },
  {
   "cell_type": "code",
   "execution_count": 6,
   "id": "cjikoQOMlpbv",
   "metadata": {
    "colab": {
     "base_uri": "https://localhost:8080/"
    },
    "executionInfo": {
     "elapsed": 358,
     "status": "ok",
     "timestamp": 1688745256318,
     "user": {
      "displayName": "Nguyễn An Tế - Khoa CNTTKD",
      "userId": "03515761134611870843"
     },
     "user_tz": -420
    },
    "id": "cjikoQOMlpbv",
    "outputId": "ffadd6d8-290d-4c9c-841b-4a5cf715bb4f"
   },
   "outputs": [
    {
     "data": {
      "text/plain": [
       "(150, 4)"
      ]
     },
     "execution_count": 6,
     "metadata": {},
     "output_type": "execute_result"
    }
   ],
   "source": [
    "## Kích thước của ma trận\n",
    "A.shape"
   ]
  },
  {
   "cell_type": "code",
   "execution_count": 7,
   "id": "JQyWZhL9CdmJ",
   "metadata": {
    "colab": {
     "base_uri": "https://localhost:8080/"
    },
    "executionInfo": {
     "elapsed": 7,
     "status": "ok",
     "timestamp": 1688745258720,
     "user": {
      "displayName": "Nguyễn An Tế - Khoa CNTTKD",
      "userId": "03515761134611870843"
     },
     "user_tz": -420
    },
    "id": "JQyWZhL9CdmJ",
    "outputId": "0fd4e217-130c-4903-88c6-f645761bef10"
   },
   "outputs": [
    {
     "data": {
      "text/plain": [
       "array([[5.1, 3.5, 1.4, 0.2],\n",
       "       [4.9, 3. , 1.4, 0.2],\n",
       "       [4.7, 3.2, 1.3, 0.2],\n",
       "       [4.6, 3.1, 1.5, 0.2],\n",
       "       [5. , 3.6, 1.4, 0.2]])"
      ]
     },
     "execution_count": 7,
     "metadata": {},
     "output_type": "execute_result"
    }
   ],
   "source": [
    "## 5 dòng đầu tiên\n",
    "A[:5]"
   ]
  },
  {
   "cell_type": "code",
   "execution_count": 8,
   "id": "cELyFQfBCagI",
   "metadata": {
    "colab": {
     "base_uri": "https://localhost:8080/"
    },
    "executionInfo": {
     "elapsed": 24,
     "status": "ok",
     "timestamp": 1688745260756,
     "user": {
      "displayName": "Nguyễn An Tế - Khoa CNTTKD",
      "userId": "03515761134611870843"
     },
     "user_tz": -420
    },
    "id": "cELyFQfBCagI",
    "outputId": "715be01b-13f0-4c82-a19b-a29d33a88bf2"
   },
   "outputs": [
    {
     "data": {
      "text/plain": [
       "array([[6.7, 3. , 5.2, 2.3],\n",
       "       [6.3, 2.5, 5. , 1.9],\n",
       "       [6.5, 3. , 5.2, 2. ],\n",
       "       [6.2, 3.4, 5.4, 2.3],\n",
       "       [5.9, 3. , 5.1, 1.8]])"
      ]
     },
     "execution_count": 8,
     "metadata": {},
     "output_type": "execute_result"
    }
   ],
   "source": [
    "## 5 dòng cuối cùng\n",
    "A[-5:]"
   ]
  },
  {
   "cell_type": "code",
   "execution_count": 9,
   "id": "7bRdIqHhlpb1",
   "metadata": {
    "colab": {
     "base_uri": "https://localhost:8080/"
    },
    "executionInfo": {
     "elapsed": 443,
     "status": "ok",
     "timestamp": 1688745264512,
     "user": {
      "displayName": "Nguyễn An Tế - Khoa CNTTKD",
      "userId": "03515761134611870843"
     },
     "user_tz": -420
    },
    "id": "7bRdIqHhlpb1",
    "outputId": "92a8cb2a-820f-4e20-9bb5-70cd789d58a8"
   },
   "outputs": [
    {
     "name": "stdout",
     "output_type": "stream",
     "text": [
      "[6.34507683 5.91692488 5.83609458 5.7497826  6.32139225]\n"
     ]
    }
   ],
   "source": [
    "## Tính L2 norm của mỗi dòng A[i] và lưu kết quả trong norms[]\n",
    "norms = []\n",
    "for i in range(A.shape[0]): #shape[0] để duyệt từng dòng trong tổng số dòng\n",
    "    norms.append(norm(A[i, :]))\n",
    "\n",
    "result = np.array(norms)\n",
    "print(result[:5])"
   ]
  },
  {
   "cell_type": "markdown",
   "id": "chubby-wedding",
   "metadata": {
    "id": "chubby-wedding"
   },
   "source": [
    "---\n",
    "## **Yêu cầu 4: Tìm ma trận chuyển vị của A = [[1, 2, 3], [4, 5, 6]]**\n",
    "## -> A.T\n",
    "---"
   ]
  },
  {
   "cell_type": "code",
   "execution_count": 11,
   "id": "reasonable-difference",
   "metadata": {
    "colab": {
     "base_uri": "https://localhost:8080/"
    },
    "executionInfo": {
     "elapsed": 358,
     "status": "ok",
     "timestamp": 1688745267722,
     "user": {
      "displayName": "Nguyễn An Tế - Khoa CNTTKD",
      "userId": "03515761134611870843"
     },
     "user_tz": -420
    },
    "id": "reasonable-difference",
    "outputId": "5965198e-f53d-4080-b5cb-dc487f336e1f"
   },
   "outputs": [
    {
     "data": {
      "text/plain": [
       "array([[1, 4],\n",
       "       [2, 5],\n",
       "       [3, 6]])"
      ]
     },
     "execution_count": 11,
     "metadata": {},
     "output_type": "execute_result"
    }
   ],
   "source": [
    "## Ma trận chuyển vị dòng -> cột\n",
    "A = np.array([[1, 2, 3], [4, 5, 6]])\n",
    "A.T"
   ]
  },
  {
   "cell_type": "markdown",
   "id": "julian-gauge",
   "metadata": {
    "id": "julian-gauge"
   },
   "source": [
    "---\n",
    "## **Yêu cầu 5: Tìm ma trận nghịch đảo của A = [[1,2,3], [4,5,6], [3,2,4]]**\n",
    "---"
   ]
  },
  {
   "cell_type": "code",
   "execution_count": 12,
   "id": "clear-robin",
   "metadata": {
    "colab": {
     "base_uri": "https://localhost:8080/"
    },
    "executionInfo": {
     "elapsed": 5,
     "status": "ok",
     "timestamp": 1688745272669,
     "user": {
      "displayName": "Nguyễn An Tế - Khoa CNTTKD",
      "userId": "03515761134611870843"
     },
     "user_tz": -420
    },
    "id": "clear-robin",
    "outputId": "e13bc3eb-1390-49eb-9e5b-af42a8294424"
   },
   "outputs": [
    {
     "data": {
      "text/plain": [
       "array([[1, 2, 3],\n",
       "       [4, 5, 6],\n",
       "       [3, 2, 4]])"
      ]
     },
     "execution_count": 12,
     "metadata": {},
     "output_type": "execute_result"
    }
   ],
   "source": [
    "A = np.array([[1, 2, 3], [4, 5, 6], [3, 2, 4]])\n",
    "A"
   ]
  },
  {
   "cell_type": "code",
   "execution_count": 13,
   "id": "respiratory-silver",
   "metadata": {
    "colab": {
     "base_uri": "https://localhost:8080/"
    },
    "executionInfo": {
     "elapsed": 6,
     "status": "ok",
     "timestamp": 1688745275832,
     "user": {
      "displayName": "Nguyễn An Tế - Khoa CNTTKD",
      "userId": "03515761134611870843"
     },
     "user_tz": -420
    },
    "id": "respiratory-silver",
    "outputId": "e129bf49-08ee-46e9-a1fe-8630c836c995"
   },
   "outputs": [
    {
     "data": {
      "text/plain": [
       "-9.000000000000002"
      ]
     },
     "execution_count": 13,
     "metadata": {},
     "output_type": "execute_result"
    }
   ],
   "source": [
    "## Kiểm tra định thức khác 0 để biết ma trận có ma trận nghịch đảo hay ko. Det A # 0: A có nghịch đảo\n",
    "det(A)"
   ]
  },
  {
   "cell_type": "code",
   "execution_count": 14,
   "id": "valuable-handling",
   "metadata": {
    "colab": {
     "base_uri": "https://localhost:8080/"
    },
    "executionInfo": {
     "elapsed": 412,
     "status": "ok",
     "timestamp": 1688745279586,
     "user": {
      "displayName": "Nguyễn An Tế - Khoa CNTTKD",
      "userId": "03515761134611870843"
     },
     "user_tz": -420
    },
    "id": "valuable-handling",
    "outputId": "582aca94-c9a1-4b0f-e44c-fbb22badea14"
   },
   "outputs": [
    {
     "data": {
      "text/plain": [
       "array([[-0.88888889,  0.22222222,  0.33333333],\n",
       "       [-0.22222222,  0.55555556, -0.66666667],\n",
       "       [ 0.77777778, -0.44444444,  0.33333333]])"
      ]
     },
     "execution_count": 14,
     "metadata": {},
     "output_type": "execute_result"
    }
   ],
   "source": [
    "## Ma trận nghịch đảo\n",
    "inv(A)"
   ]
  },
  {
   "cell_type": "code",
   "execution_count": 15,
   "id": "secret-fellowship",
   "metadata": {
    "colab": {
     "base_uri": "https://localhost:8080/"
    },
    "executionInfo": {
     "elapsed": 339,
     "status": "ok",
     "timestamp": 1688745283884,
     "user": {
      "displayName": "Nguyễn An Tế - Khoa CNTTKD",
      "userId": "03515761134611870843"
     },
     "user_tz": -420
    },
    "id": "secret-fellowship",
    "outputId": "f3e8448b-b999-444d-e008-495e5df1eb76"
   },
   "outputs": [
    {
     "name": "stdout",
     "output_type": "stream",
     "text": [
      "[[1 0 0]\n",
      " [0 1 0]\n",
      " [0 0 1]]\n"
     ]
    }
   ],
   "source": [
    "## Kiểm chứng ma trận nghịch đảo: # A.A_1 = I\n",
    "print(np.rint(A @ inv(A)).astype(int))"
   ]
  },
  {
   "cell_type": "code",
   "execution_count": 16,
   "id": "lmPxfNY0LkjS",
   "metadata": {
    "colab": {
     "base_uri": "https://localhost:8080/",
     "height": 372
    },
    "executionInfo": {
     "elapsed": 355,
     "status": "error",
     "timestamp": 1688745288939,
     "user": {
      "displayName": "Nguyễn An Tế - Khoa CNTTKD",
      "userId": "03515761134611870843"
     },
     "user_tz": -420
    },
    "id": "lmPxfNY0LkjS",
    "outputId": "06e98cdc-54bf-45d5-d414-901ae6f431f1"
   },
   "outputs": [
    {
     "name": "stdout",
     "output_type": "stream",
     "text": [
      "Định thức của A = 0.0\n"
     ]
    },
    {
     "ename": "LinAlgError",
     "evalue": "ignored",
     "output_type": "error",
     "traceback": [
      "\u001b[0;31m---------------------------------------------------------------------------\u001b[0m",
      "\u001b[0;31mLinAlgError\u001b[0m                               Traceback (most recent call last)",
      "\u001b[0;32m<ipython-input-16-49a9fa1565e3>\u001b[0m in \u001b[0;36m<cell line: 5>\u001b[0;34m()\u001b[0m\n\u001b[1;32m      3\u001b[0m \u001b[0mprint\u001b[0m\u001b[0;34m(\u001b[0m\u001b[0;34mf'Định thức của A = {det(A)}'\u001b[0m\u001b[0;34m)\u001b[0m\u001b[0;34m\u001b[0m\u001b[0;34m\u001b[0m\u001b[0m\n\u001b[1;32m      4\u001b[0m \u001b[0;34m\u001b[0m\u001b[0m\n\u001b[0;32m----> 5\u001b[0;31m \u001b[0mprint\u001b[0m\u001b[0;34m(\u001b[0m\u001b[0minv\u001b[0m\u001b[0;34m(\u001b[0m\u001b[0mA\u001b[0m\u001b[0;34m)\u001b[0m\u001b[0;34m)\u001b[0m \u001b[0;31m# Báo lỗi sai\u001b[0m\u001b[0;34m\u001b[0m\u001b[0;34m\u001b[0m\u001b[0m\n\u001b[0m",
      "\u001b[0;32m/usr/local/lib/python3.10/dist-packages/numpy/core/overrides.py\u001b[0m in \u001b[0;36minv\u001b[0;34m(*args, **kwargs)\u001b[0m\n",
      "\u001b[0;32m/usr/local/lib/python3.10/dist-packages/numpy/linalg/linalg.py\u001b[0m in \u001b[0;36minv\u001b[0;34m(a)\u001b[0m\n\u001b[1;32m    543\u001b[0m     \u001b[0msignature\u001b[0m \u001b[0;34m=\u001b[0m \u001b[0;34m'D->D'\u001b[0m \u001b[0;32mif\u001b[0m \u001b[0misComplexType\u001b[0m\u001b[0;34m(\u001b[0m\u001b[0mt\u001b[0m\u001b[0;34m)\u001b[0m \u001b[0;32melse\u001b[0m \u001b[0;34m'd->d'\u001b[0m\u001b[0;34m\u001b[0m\u001b[0;34m\u001b[0m\u001b[0m\n\u001b[1;32m    544\u001b[0m     \u001b[0mextobj\u001b[0m \u001b[0;34m=\u001b[0m \u001b[0mget_linalg_error_extobj\u001b[0m\u001b[0;34m(\u001b[0m\u001b[0m_raise_linalgerror_singular\u001b[0m\u001b[0;34m)\u001b[0m\u001b[0;34m\u001b[0m\u001b[0;34m\u001b[0m\u001b[0m\n\u001b[0;32m--> 545\u001b[0;31m     \u001b[0mainv\u001b[0m \u001b[0;34m=\u001b[0m \u001b[0m_umath_linalg\u001b[0m\u001b[0;34m.\u001b[0m\u001b[0minv\u001b[0m\u001b[0;34m(\u001b[0m\u001b[0ma\u001b[0m\u001b[0;34m,\u001b[0m \u001b[0msignature\u001b[0m\u001b[0;34m=\u001b[0m\u001b[0msignature\u001b[0m\u001b[0;34m,\u001b[0m \u001b[0mextobj\u001b[0m\u001b[0;34m=\u001b[0m\u001b[0mextobj\u001b[0m\u001b[0;34m)\u001b[0m\u001b[0;34m\u001b[0m\u001b[0;34m\u001b[0m\u001b[0m\n\u001b[0m\u001b[1;32m    546\u001b[0m     \u001b[0;32mreturn\u001b[0m \u001b[0mwrap\u001b[0m\u001b[0;34m(\u001b[0m\u001b[0mainv\u001b[0m\u001b[0;34m.\u001b[0m\u001b[0mastype\u001b[0m\u001b[0;34m(\u001b[0m\u001b[0mresult_t\u001b[0m\u001b[0;34m,\u001b[0m \u001b[0mcopy\u001b[0m\u001b[0;34m=\u001b[0m\u001b[0;32mFalse\u001b[0m\u001b[0;34m)\u001b[0m\u001b[0;34m)\u001b[0m\u001b[0;34m\u001b[0m\u001b[0;34m\u001b[0m\u001b[0m\n\u001b[1;32m    547\u001b[0m \u001b[0;34m\u001b[0m\u001b[0m\n",
      "\u001b[0;32m/usr/local/lib/python3.10/dist-packages/numpy/linalg/linalg.py\u001b[0m in \u001b[0;36m_raise_linalgerror_singular\u001b[0;34m(err, flag)\u001b[0m\n\u001b[1;32m     86\u001b[0m \u001b[0;34m\u001b[0m\u001b[0m\n\u001b[1;32m     87\u001b[0m \u001b[0;32mdef\u001b[0m \u001b[0m_raise_linalgerror_singular\u001b[0m\u001b[0;34m(\u001b[0m\u001b[0merr\u001b[0m\u001b[0;34m,\u001b[0m \u001b[0mflag\u001b[0m\u001b[0;34m)\u001b[0m\u001b[0;34m:\u001b[0m\u001b[0;34m\u001b[0m\u001b[0;34m\u001b[0m\u001b[0m\n\u001b[0;32m---> 88\u001b[0;31m     \u001b[0;32mraise\u001b[0m \u001b[0mLinAlgError\u001b[0m\u001b[0;34m(\u001b[0m\u001b[0;34m\"Singular matrix\"\u001b[0m\u001b[0;34m)\u001b[0m\u001b[0;34m\u001b[0m\u001b[0;34m\u001b[0m\u001b[0m\n\u001b[0m\u001b[1;32m     89\u001b[0m \u001b[0;34m\u001b[0m\u001b[0m\n\u001b[1;32m     90\u001b[0m \u001b[0;32mdef\u001b[0m \u001b[0m_raise_linalgerror_nonposdef\u001b[0m\u001b[0;34m(\u001b[0m\u001b[0merr\u001b[0m\u001b[0;34m,\u001b[0m \u001b[0mflag\u001b[0m\u001b[0;34m)\u001b[0m\u001b[0;34m:\u001b[0m\u001b[0;34m\u001b[0m\u001b[0;34m\u001b[0m\u001b[0m\n",
      "\u001b[0;31mLinAlgError\u001b[0m: Singular matrix"
     ]
    }
   ],
   "source": [
    "## Ma trận suy biến (singular matrix): định thức = 0\n",
    "A = np.array([[1, 2], [2, 4]])\n",
    "print(f'Định thức của A = {det(A)}')\n",
    "\n",
    "print(inv(A)) # Báo lỗi sai"
   ]
  }
 ],
 "metadata": {
  "colab": {
   "provenance": []
  },
  "kernelspec": {
   "display_name": "Python 3 (ipykernel)",
   "language": "python",
   "name": "python3"
  },
  "language_info": {
   "codemirror_mode": {
    "name": "ipython",
    "version": 3
   },
   "file_extension": ".py",
   "mimetype": "text/x-python",
   "name": "python",
   "nbconvert_exporter": "python",
   "pygments_lexer": "ipython3",
   "version": "3.8.10"
  }
 },
 "nbformat": 4,
 "nbformat_minor": 5
}
