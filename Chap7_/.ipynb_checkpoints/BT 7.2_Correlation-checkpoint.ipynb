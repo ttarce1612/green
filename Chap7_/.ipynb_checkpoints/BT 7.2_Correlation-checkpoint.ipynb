{
 "cells": [
  {
   "cell_type": "markdown",
   "metadata": {
    "id": "t_bxpWt4bEZc"
   },
   "source": [
    "# **BT thực hành 7.2: Correlation**\n",
    "\n",
    "\n",
    "> Cập nhật: **07/2023**\n",
    "\n"
   ]
  },
  {
   "cell_type": "code",
   "execution_count": 2,
   "metadata": {
    "colab": {
     "base_uri": "https://localhost:8080/"
    },
    "executionInfo": {
     "elapsed": 24157,
     "status": "ok",
     "timestamp": 1690958078389,
     "user": {
      "displayName": "Nguyễn An Tế - Khoa CNTTKD",
      "userId": "03515761134611870843"
     },
     "user_tz": -420
    },
    "id": "CCiZ0HGhbEZq",
    "outputId": "56a8f653-88a1-4b00-dda6-c30922c451db"
   },
   "outputs": [
    {
     "name": "stdout",
     "output_type": "stream",
     "text": [
      "Mounted at /content/gdrive\n"
     ]
    }
   ],
   "source": [
    "## Môi trường lập trình\n",
    "from google.colab import drive\n",
    "drive.mount(\"/content/gdrive\", force_remount = True)\n",
    "folder = '/content/gdrive/My Drive/Colab Notebooks/LDS3/Thuc hanh/Ch7_Inferential_Statistics'"
   ]
  },
  {
   "cell_type": "code",
   "execution_count": 2,
   "metadata": {
    "executionInfo": {
     "elapsed": 1985,
     "status": "ok",
     "timestamp": 1690958092876,
     "user": {
      "displayName": "Nguyễn An Tế - Khoa CNTTKD",
      "userId": "03515761134611870843"
     },
     "user_tz": -420
    },
    "id": "kyhcwkbGbEZo"
   },
   "outputs": [],
   "source": [
    "## Thư viện\n",
    "import matplotlib.pyplot as plt\n",
    "import numpy             as np\n",
    "import pandas            as pd\n",
    "import seaborn           as sbn\n",
    "\n",
    "from scipy               import stats"
   ]
  },
  {
   "cell_type": "markdown",
   "metadata": {
    "id": "jxhNdkC5bEZn"
   },
   "source": [
    "---\n",
    "## **Yêu cầu:**\n",
    "Tập tin Master.csv lưu trữ dữ liệu về các cầu thủ bóng chày.\n",
    "1. Đọc 2 cột dữ liệu height và weight vào dataframe (loại bỏ những dòng có dữ liệu null).\n",
    "2. Vẽ biểu đồ để xem xét tính tương quan.\n",
    "3. Vẽ boxplot để tìm outliers và loại bỏ (nếu có).\n",
    "4. Tính các hệ số tương quan Pearson và Spearsman.\n",
    "---\n"
   ]
  },
  {
   "cell_type": "code",
   "execution_count": 3,
   "metadata": {
    "colab": {
     "base_uri": "https://localhost:8080/",
     "height": 387
    },
    "executionInfo": {
     "elapsed": 1914,
     "status": "ok",
     "timestamp": 1690958133750,
     "user": {
      "displayName": "Nguyễn An Tế - Khoa CNTTKD",
      "userId": "03515761134611870843"
     },
     "user_tz": -420
    },
    "id": "SLn3KKKEbEZw",
    "outputId": "6afb03ac-82a5-4914-c555-7376e578f7a3"
   },
   "outputs": [
    {
     "name": "stdout",
     "output_type": "stream",
     "text": [
      "(18846, 24)\n"
     ]
    },
    {
     "data": {
      "text/html": [
       "<div>\n",
       "<style scoped>\n",
       "    .dataframe tbody tr th:only-of-type {\n",
       "        vertical-align: middle;\n",
       "    }\n",
       "\n",
       "    .dataframe tbody tr th {\n",
       "        vertical-align: top;\n",
       "    }\n",
       "\n",
       "    .dataframe thead th {\n",
       "        text-align: right;\n",
       "    }\n",
       "</style>\n",
       "<table border=\"1\" class=\"dataframe\">\n",
       "  <thead>\n",
       "    <tr style=\"text-align: right;\">\n",
       "      <th></th>\n",
       "      <th>playerID</th>\n",
       "      <th>birthYear</th>\n",
       "      <th>birthMonth</th>\n",
       "      <th>birthDay</th>\n",
       "      <th>birthCountry</th>\n",
       "      <th>birthState</th>\n",
       "      <th>birthCity</th>\n",
       "      <th>deathYear</th>\n",
       "      <th>deathMonth</th>\n",
       "      <th>deathDay</th>\n",
       "      <th>...</th>\n",
       "      <th>nameLast</th>\n",
       "      <th>nameGiven</th>\n",
       "      <th>weight</th>\n",
       "      <th>height</th>\n",
       "      <th>bats</th>\n",
       "      <th>throws</th>\n",
       "      <th>debut</th>\n",
       "      <th>finalGame</th>\n",
       "      <th>retroID</th>\n",
       "      <th>bbrefID</th>\n",
       "    </tr>\n",
       "  </thead>\n",
       "  <tbody>\n",
       "    <tr>\n",
       "      <th>0</th>\n",
       "      <td>aardsda01</td>\n",
       "      <td>1981.0</td>\n",
       "      <td>12.0</td>\n",
       "      <td>27.0</td>\n",
       "      <td>USA</td>\n",
       "      <td>CO</td>\n",
       "      <td>Denver</td>\n",
       "      <td>NaN</td>\n",
       "      <td>NaN</td>\n",
       "      <td>NaN</td>\n",
       "      <td>...</td>\n",
       "      <td>Aardsma</td>\n",
       "      <td>David Allan</td>\n",
       "      <td>220.0</td>\n",
       "      <td>75.0</td>\n",
       "      <td>R</td>\n",
       "      <td>R</td>\n",
       "      <td>2004-04-06</td>\n",
       "      <td>2015-08-23</td>\n",
       "      <td>aardd001</td>\n",
       "      <td>aardsda01</td>\n",
       "    </tr>\n",
       "    <tr>\n",
       "      <th>1</th>\n",
       "      <td>aaronha01</td>\n",
       "      <td>1934.0</td>\n",
       "      <td>2.0</td>\n",
       "      <td>5.0</td>\n",
       "      <td>USA</td>\n",
       "      <td>AL</td>\n",
       "      <td>Mobile</td>\n",
       "      <td>NaN</td>\n",
       "      <td>NaN</td>\n",
       "      <td>NaN</td>\n",
       "      <td>...</td>\n",
       "      <td>Aaron</td>\n",
       "      <td>Henry Louis</td>\n",
       "      <td>180.0</td>\n",
       "      <td>72.0</td>\n",
       "      <td>R</td>\n",
       "      <td>R</td>\n",
       "      <td>1954-04-13</td>\n",
       "      <td>1976-10-03</td>\n",
       "      <td>aaroh101</td>\n",
       "      <td>aaronha01</td>\n",
       "    </tr>\n",
       "    <tr>\n",
       "      <th>2</th>\n",
       "      <td>aaronto01</td>\n",
       "      <td>1939.0</td>\n",
       "      <td>8.0</td>\n",
       "      <td>5.0</td>\n",
       "      <td>USA</td>\n",
       "      <td>AL</td>\n",
       "      <td>Mobile</td>\n",
       "      <td>1984.0</td>\n",
       "      <td>8.0</td>\n",
       "      <td>16.0</td>\n",
       "      <td>...</td>\n",
       "      <td>Aaron</td>\n",
       "      <td>Tommie Lee</td>\n",
       "      <td>190.0</td>\n",
       "      <td>75.0</td>\n",
       "      <td>R</td>\n",
       "      <td>R</td>\n",
       "      <td>1962-04-10</td>\n",
       "      <td>1971-09-26</td>\n",
       "      <td>aarot101</td>\n",
       "      <td>aaronto01</td>\n",
       "    </tr>\n",
       "    <tr>\n",
       "      <th>3</th>\n",
       "      <td>aasedo01</td>\n",
       "      <td>1954.0</td>\n",
       "      <td>9.0</td>\n",
       "      <td>8.0</td>\n",
       "      <td>USA</td>\n",
       "      <td>CA</td>\n",
       "      <td>Orange</td>\n",
       "      <td>NaN</td>\n",
       "      <td>NaN</td>\n",
       "      <td>NaN</td>\n",
       "      <td>...</td>\n",
       "      <td>Aase</td>\n",
       "      <td>Donald William</td>\n",
       "      <td>190.0</td>\n",
       "      <td>75.0</td>\n",
       "      <td>R</td>\n",
       "      <td>R</td>\n",
       "      <td>1977-07-26</td>\n",
       "      <td>1990-10-03</td>\n",
       "      <td>aased001</td>\n",
       "      <td>aasedo01</td>\n",
       "    </tr>\n",
       "    <tr>\n",
       "      <th>4</th>\n",
       "      <td>abadan01</td>\n",
       "      <td>1972.0</td>\n",
       "      <td>8.0</td>\n",
       "      <td>25.0</td>\n",
       "      <td>USA</td>\n",
       "      <td>FL</td>\n",
       "      <td>Palm Beach</td>\n",
       "      <td>NaN</td>\n",
       "      <td>NaN</td>\n",
       "      <td>NaN</td>\n",
       "      <td>...</td>\n",
       "      <td>Abad</td>\n",
       "      <td>Fausto Andres</td>\n",
       "      <td>184.0</td>\n",
       "      <td>73.0</td>\n",
       "      <td>L</td>\n",
       "      <td>L</td>\n",
       "      <td>2001-09-10</td>\n",
       "      <td>2006-04-13</td>\n",
       "      <td>abada001</td>\n",
       "      <td>abadan01</td>\n",
       "    </tr>\n",
       "  </tbody>\n",
       "</table>\n",
       "<p>5 rows × 24 columns</p>\n",
       "</div>"
      ],
      "text/plain": [
       "    playerID  birthYear  birthMonth  birthDay birthCountry birthState  \\\n",
       "0  aardsda01     1981.0        12.0      27.0          USA         CO   \n",
       "1  aaronha01     1934.0         2.0       5.0          USA         AL   \n",
       "2  aaronto01     1939.0         8.0       5.0          USA         AL   \n",
       "3   aasedo01     1954.0         9.0       8.0          USA         CA   \n",
       "4   abadan01     1972.0         8.0      25.0          USA         FL   \n",
       "\n",
       "    birthCity  deathYear  deathMonth  deathDay  ... nameLast       nameGiven  \\\n",
       "0      Denver        NaN         NaN       NaN  ...  Aardsma     David Allan   \n",
       "1      Mobile        NaN         NaN       NaN  ...    Aaron     Henry Louis   \n",
       "2      Mobile     1984.0         8.0      16.0  ...    Aaron      Tommie Lee   \n",
       "3      Orange        NaN         NaN       NaN  ...     Aase  Donald William   \n",
       "4  Palm Beach        NaN         NaN       NaN  ...     Abad   Fausto Andres   \n",
       "\n",
       "  weight height bats throws       debut   finalGame   retroID    bbrefID  \n",
       "0  220.0   75.0    R      R  2004-04-06  2015-08-23  aardd001  aardsda01  \n",
       "1  180.0   72.0    R      R  1954-04-13  1976-10-03  aaroh101  aaronha01  \n",
       "2  190.0   75.0    R      R  1962-04-10  1971-09-26  aarot101  aaronto01  \n",
       "3  190.0   75.0    R      R  1977-07-26  1990-10-03  aased001   aasedo01  \n",
       "4  184.0   73.0    L      L  2001-09-10  2006-04-13  abada001   abadan01  \n",
       "\n",
       "[5 rows x 24 columns]"
      ]
     },
     "execution_count": 3,
     "metadata": {},
     "output_type": "execute_result"
    }
   ],
   "source": [
    "## Mở tập tin dữ liệu\n",
    "df = pd.read_csv(\"Data/Master.csv\")\n",
    "\n",
    "print(df.shape)\n",
    "df.head()"
   ]
  },
  {
   "cell_type": "code",
   "execution_count": 5,
   "metadata": {
    "colab": {
     "base_uri": "https://localhost:8080/"
    },
    "executionInfo": {
     "elapsed": 414,
     "status": "ok",
     "timestamp": 1690958142154,
     "user": {
      "displayName": "Nguyễn An Tế - Khoa CNTTKD",
      "userId": "03515761134611870843"
     },
     "user_tz": -420
    },
    "id": "_hOXvOrFbEZy",
    "outputId": "97586d45-fce0-422c-9e46-88cf73eb2cf5"
   },
   "outputs": [
    {
     "name": "stdout",
     "output_type": "stream",
     "text": [
      "<class 'pandas.core.frame.DataFrame'>\n",
      "RangeIndex: 18846 entries, 0 to 18845\n",
      "Data columns (total 2 columns):\n",
      " #   Column  Non-Null Count  Dtype  \n",
      "---  ------  --------------  -----  \n",
      " 0   weight  17975 non-null  float64\n",
      " 1   height  18041 non-null  float64\n",
      "dtypes: float64(2)\n",
      "memory usage: 294.6 KB\n"
     ]
    }
   ],
   "source": [
    "## 1. Đọc 2 cột dữ liệu height và weight vào dataframe.\n",
    "hw = df[[\"weight\", \"height\"]]\n",
    "hw.info()"
   ]
  },
  {
   "cell_type": "code",
   "execution_count": 6,
   "metadata": {
    "colab": {
     "base_uri": "https://localhost:8080/"
    },
    "executionInfo": {
     "elapsed": 413,
     "status": "ok",
     "timestamp": 1690958176106,
     "user": {
      "displayName": "Nguyễn An Tế - Khoa CNTTKD",
      "userId": "03515761134611870843"
     },
     "user_tz": -420
    },
    "id": "J9G2zUpEbEZz",
    "outputId": "017e50f9-82f6-40cf-a9da-b514e721ac37"
   },
   "outputs": [
    {
     "name": "stdout",
     "output_type": "stream",
     "text": [
      "<class 'pandas.core.frame.DataFrame'>\n",
      "Int64Index: 17918 entries, 0 to 18845\n",
      "Data columns (total 2 columns):\n",
      " #   Column  Non-Null Count  Dtype  \n",
      "---  ------  --------------  -----  \n",
      " 0   weight  17918 non-null  float64\n",
      " 1   height  17918 non-null  float64\n",
      "dtypes: float64(2)\n",
      "memory usage: 420.0 KB\n"
     ]
    }
   ],
   "source": [
    "## Loại bỏ những dòng có chứa ít nhất 1 giá trị null.\n",
    "hw = hw.dropna()\n",
    "hw.info()"
   ]
  },
  {
   "cell_type": "code",
   "execution_count": 8,
   "metadata": {
    "colab": {
     "base_uri": "https://localhost:8080/"
    },
    "executionInfo": {
     "elapsed": 385,
     "status": "ok",
     "timestamp": 1690958193315,
     "user": {
      "displayName": "Nguyễn An Tế - Khoa CNTTKD",
      "userId": "03515761134611870843"
     },
     "user_tz": -420
    },
    "id": "3YyvPrrVbEZ0",
    "outputId": "e34e1f78-4708-47e7-881a-80fca3fd9477"
   },
   "outputs": [
    {
     "name": "stdout",
     "output_type": "stream",
     "text": [
      "   weight  height\n",
      "0   220.0    75.0\n",
      "1   180.0    72.0\n",
      "2   190.0    75.0\n",
      "3   190.0    75.0\n",
      "4   184.0    73.0\n"
     ]
    }
   ],
   "source": [
    "## Quan sát dữ liệu\n",
    "print(hw.head())"
   ]
  },
  {
   "cell_type": "code",
   "execution_count": 9,
   "metadata": {
    "colab": {
     "base_uri": "https://localhost:8080/",
     "height": 625
    },
    "executionInfo": {
     "elapsed": 1875,
     "status": "ok",
     "timestamp": 1690958202321,
     "user": {
      "displayName": "Nguyễn An Tế - Khoa CNTTKD",
      "userId": "03515761134611870843"
     },
     "user_tz": -420
    },
    "id": "3WV1EaMbbEZ3",
    "outputId": "6464b6a1-9a30-4f2f-e738-3b0875cfdf87"
   },
   "outputs": [
    {
     "data": {
      "text/plain": [
       "<Figure size 800x800 with 0 Axes>"
      ]
     },
     "metadata": {},
     "output_type": "display_data"
    },
    {
     "data": {
      "image/png": "[encoded data removed]",
      "text/plain": [
       "<Figure size 600x600 with 3 Axes>"
      ]
     },
     "metadata": {},
     "output_type": "display_data"
    }
   ],
   "source": [
    "## 2. Vẽ biểu đồ để xem xét tính tương quan.\n",
    "plt.figure(figsize = (8, 8))\n",
    "sbn.jointplot(x = 'weight', y = 'height', data = hw)\n",
    "plt.show()"
   ]
  },
  {
   "cell_type": "code",
   "execution_count": 10,
   "metadata": {
    "colab": {
     "base_uri": "https://localhost:8080/",
     "height": 682
    },
    "executionInfo": {
     "elapsed": 415,
     "status": "ok",
     "timestamp": 1690958212731,
     "user": {
      "displayName": "Nguyễn An Tế - Khoa CNTTKD",
      "userId": "03515761134611870843"
     },
     "user_tz": -420
    },
    "id": "ncAasfrdbEZ4",
    "outputId": "df8ffcab-401e-4d20-e1d1-2b5cabd42083"
   },
   "outputs": [
    {
     "data": {
      "image/png": "[encoded data removed]",
      "text/plain": [
       "<Figure size 800x800 with 2 Axes>"
      ]
     },
     "metadata": {},
     "output_type": "display_data"
    }
   ],
   "source": [
    "## 3. Vẽ boxplot để tìm outliers và loại bỏ, nếu có.\n",
    "plt.figure(figsize = (8, 8))\n",
    "\n",
    "plt.subplot(1, 2, 1)\n",
    "sbn.boxplot(data = hw.height)\n",
    "\n",
    "plt.subplot(1, 2, 2)\n",
    "sbn.boxplot(data = hw.weight)\n",
    "plt.show()"
   ]
  },
  {
   "cell_type": "code",
   "execution_count": 11,
   "metadata": {
    "colab": {
     "base_uri": "https://localhost:8080/"
    },
    "executionInfo": {
     "elapsed": 359,
     "status": "ok",
     "timestamp": 1690958218569,
     "user": {
      "displayName": "Nguyễn An Tế - Khoa CNTTKD",
      "userId": "03515761134611870843"
     },
     "user_tz": -420
    },
    "id": "V0ZXcbt2bEZ5",
    "outputId": "7232c0b4-f096-44b0-9837-7e81d1008e1e"
   },
   "outputs": [
    {
     "data": {
      "text/plain": [
       "(array([71., 74.]), 3.0)"
      ]
     },
     "execution_count": 11,
     "metadata": {},
     "output_type": "execute_result"
    }
   ],
   "source": [
    "## Sử dụng IQR\n",
    "percentiles = np.array([25, 75])  # Q1, Q3\n",
    "\n",
    "## Giới hạn phạm vi cho height: (1.5 * IQR)\n",
    "x_h   = np.percentile(hw.height, percentiles)\n",
    "IQR_h = stats.iqr(hw.height)\n",
    "\n",
    "x_h, IQR_h"
   ]
  },
  {
   "cell_type": "code",
   "execution_count": 12,
   "metadata": {
    "colab": {
     "base_uri": "https://localhost:8080/"
    },
    "executionInfo": {
     "elapsed": 357,
     "status": "ok",
     "timestamp": 1690958227335,
     "user": {
      "displayName": "Nguyễn An Tế - Khoa CNTTKD",
      "userId": "03515761134611870843"
     },
     "user_tz": -420
    },
    "id": "GY86ixhNbEZ6",
    "outputId": "46fe3f30-0769-416f-f030-c8160b8824fc"
   },
   "outputs": [
    {
     "data": {
      "text/plain": [
       "(array([170., 200.]), 30.0)"
      ]
     },
     "execution_count": 12,
     "metadata": {},
     "output_type": "execute_result"
    }
   ],
   "source": [
    "## Giới hạn phạm vi cho weight: (1.5 * IQR)\n",
    "x_w   = np.percentile(hw.weight, percentiles)\n",
    "IQR_w = stats.iqr(hw.weight)\n",
    "x_w, IQR_w"
   ]
  },
  {
   "cell_type": "code",
   "execution_count": 13,
   "metadata": {
    "colab": {
     "base_uri": "https://localhost:8080/"
    },
    "executionInfo": {
     "elapsed": 490,
     "status": "ok",
     "timestamp": 1690958237047,
     "user": {
      "displayName": "Nguyễn An Tế - Khoa CNTTKD",
      "userId": "03515761134611870843"
     },
     "user_tz": -420
    },
    "id": "G7qE0xQwbEZ8",
    "outputId": "f0a37b82-3b48-4ede-84ea-2a16b9e5792f"
   },
   "outputs": [
    {
     "data": {
      "text/plain": [
       "(17374, 2)"
      ]
     },
     "execution_count": 13,
     "metadata": {},
     "output_type": "execute_result"
    }
   ],
   "source": [
    "## Loại bỏ các outlier(s), nếu có.\n",
    "hw = hw[(hw.height >= (x_h[0] - 1.5 * IQR_h)) & (hw.height <= (x_h[1] + 1.5 * IQR_h))]\n",
    "hw = hw[(hw.weight >= (x_w[0] - 1.5 * IQR_w)) & (hw.weight <= (x_w[1] + 1.5 * IQR_w))]\n",
    "\n",
    "hw.shape"
   ]
  },
  {
   "cell_type": "code",
   "execution_count": 14,
   "metadata": {
    "colab": {
     "base_uri": "https://localhost:8080/",
     "height": 676
    },
    "executionInfo": {
     "elapsed": 789,
     "status": "ok",
     "timestamp": 1690958241280,
     "user": {
      "displayName": "Nguyễn An Tế - Khoa CNTTKD",
      "userId": "03515761134611870843"
     },
     "user_tz": -420
    },
    "id": "smm6SCmfbEZ-",
    "outputId": "4cb2315c-7087-4513-9f93-8280e0339df0"
   },
   "outputs": [
    {
     "data": {
      "image/png": "[encoded data removed]",
      "text/plain": [
       "<Figure size 800x800 with 2 Axes>"
      ]
     },
     "metadata": {},
     "output_type": "display_data"
    }
   ],
   "source": [
    "## Vẽ boxplot để kiểm tra lại\n",
    "plt.figure(figsize = (8, 8))\n",
    "\n",
    "plt.subplot(1, 2, 1)\n",
    "sbn.boxplot(data = hw.height)\n",
    "\n",
    "plt.subplot(1, 2, 2)\n",
    "sbn.boxplot(data = hw.weight)\n",
    "\n",
    "plt.show()"
   ]
  },
  {
   "cell_type": "code",
   "execution_count": 15,
   "metadata": {
    "colab": {
     "base_uri": "https://localhost:8080/"
    },
    "executionInfo": {
     "elapsed": 379,
     "status": "ok",
     "timestamp": 1690958247529,
     "user": {
      "displayName": "Nguyễn An Tế - Khoa CNTTKD",
      "userId": "03515761134611870843"
     },
     "user_tz": -420
    },
    "id": "oLR4bBUgbEZ_",
    "outputId": "1f048c17-ca94-41b3-9306-b34d62e9bdcf"
   },
   "outputs": [
    {
     "data": {
      "text/plain": [
       "0.6708146812914391"
      ]
     },
     "execution_count": 15,
     "metadata": {},
     "output_type": "execute_result"
    }
   ],
   "source": [
    "## 4. Tính hệ số tương quan Pearson\n",
    "hw['weight'].corr(hw['height']) ## default method = Pearson"
   ]
  },
  {
   "cell_type": "code",
   "execution_count": 16,
   "metadata": {
    "colab": {
     "base_uri": "https://localhost:8080/"
    },
    "executionInfo": {
     "elapsed": 372,
     "status": "ok",
     "timestamp": 1690958252237,
     "user": {
      "displayName": "Nguyễn An Tế - Khoa CNTTKD",
      "userId": "03515761134611870843"
     },
     "user_tz": -420
    },
    "id": "IZy209scbEZ_",
    "outputId": "3ec15596-4833-426e-af0a-26cee94d7bd1"
   },
   "outputs": [
    {
     "data": {
      "text/plain": [
       "0.676640911865143"
      ]
     },
     "execution_count": 16,
     "metadata": {},
     "output_type": "execute_result"
    }
   ],
   "source": [
    "## Hệ số tương quan Spearman\n",
    "hw['weight'].corr(hw['height'], method = 'spearman')"
   ]
  }
 ],
 "metadata": {
  "colab": {
   "provenance": []
  },
  "kernelspec": {
   "display_name": "Python 3 (ipykernel)",
   "language": "python",
   "name": "python3"
  },
  "language_info": {
   "codemirror_mode": {
    "name": "ipython",
    "version": 3
   },
   "file_extension": ".py",
   "mimetype": "text/x-python",
   "name": "python",
   "nbconvert_exporter": "python",
   "pygments_lexer": "ipython3",
   "version": "3.8.10"
  },
  "toc": {
   "base_numbering": 1,
   "nav_menu": {},
   "number_sections": true,
   "sideBar": true,
   "skip_h1_title": false,
   "title_cell": "Table of Contents",
   "title_sidebar": "Contents",
   "toc_cell": false,
   "toc_position": {},
   "toc_section_display": true,
   "toc_window_display": false
  }
 },
 "nbformat": 4,
 "nbformat_minor": 1
}
