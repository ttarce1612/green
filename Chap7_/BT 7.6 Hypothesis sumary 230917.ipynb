{
 "cells": [
  {
   "cell_type": "markdown",
   "id": "6f13b501",
   "metadata": {},
   "source": [
    "## Kiểm định t độc lập (Independent t-Test):"
   ]
  },
  {
   "cell_type": "code",
   "execution_count": null,
   "id": "4d300ea9",
   "metadata": {},
   "outputs": [],
   "source": [
    "import scipy.stats as stats\n",
    "\n",
    "# Dữ liệu từ hai mẫu\n",
    "sample_1 = [data_point_1, data_point_2, ..., data_point_n1]\n",
    "sample_2 = [data_point_1, data_point_2, ..., data_point_n2]\n",
    "\n",
    "# Thực hiện kiểm định t độc lập\n",
    "t_stat, p_value = stats.ttest_ind(sample_1, sample_2)\n",
    "\n",
    "# In kết quả\n",
    "print(f\"T-Statistic: {t_stat}\")\n",
    "print(f\"P-Value: {p_value}\")\n",
    "\n",
    "# Quyết định dựa trên giá trị p-value\n",
    "alpha = 0.05  # Ngưỡng đáng tin cậy\n",
    "if p_value < alpha:\n",
    "    print(\"Có sự khác biệt đáng kể giữa hai mẫu.\")\n",
    "else:\n",
    "    print(\"Không có sự khác biệt đáng kể giữa hai mẫu.\")\n"
   ]
  },
  {
   "cell_type": "markdown",
   "id": "97399089",
   "metadata": {},
   "source": [
    "## Kiểm định chi-squared:"
   ]
  },
  {
   "cell_type": "code",
   "execution_count": null,
   "id": "74072734",
   "metadata": {},
   "outputs": [],
   "source": [
    "import scipy.stats as stats\n",
    "\n",
    "# Tạo bảng tần số quan sát (observed frequencies)\n",
    "observed = [[O11, O12, ...],\n",
    "            [O21, O22, ...],\n",
    "            ...]\n",
    "\n",
    "# Thực hiện kiểm định chi-squared\n",
    "chi2_stat, p_value, dof, expected = stats.chi2_contingency(observed)\n",
    "\n",
    "# In kết quả\n",
    "print(f\"Chi-squared Statistic: {chi2_stat}\")\n",
    "print(f\"P-Value: {p_value}\")\n",
    "\n",
    "# Quyết định dựa trên giá trị p-value\n",
    "alpha = 0.05  # Ngưỡng đáng tin cậy\n",
    "if p_value < alpha:\n",
    "    print(\"Có sự tương quan hoặc độc lập khác biệt đáng kể giữa các biến.\")\n",
    "else:\n",
    "    print(\"Không có sự tương quan hoặc độc lập khác biệt đáng kể giữa các biến.\")\n"
   ]
  },
  {
   "cell_type": "markdown",
   "id": "4e5001ec",
   "metadata": {},
   "source": [
    "### Kiểm định Anova (Analysis of Variance):\n"
   ]
  },
  {
   "cell_type": "code",
   "execution_count": null,
   "id": "8172335e",
   "metadata": {},
   "outputs": [],
   "source": [
    "import scipy.stats as stats\n",
    "\n",
    "# Dữ liệu từ các nhóm\n",
    "group1 = [data_point_1, data_point_2, ..., data_point_n1]\n",
    "group2 = [data_point_1, data_point_2, ..., data_point_n2]\n",
    "group3 = [data_point_1, data_point_2, ..., data_point_n3]\n",
    "# Thêm dữ liệu từ các nhóm khác nếu cần\n",
    "\n",
    "# Thực hiện kiểm định Anova\n",
    "f_stat, p_value = stats.f_oneway(group1, group2, group3)\n",
    "# Thêm các nhóm khác vào hàm f_oneway nếu cần so sánh nhiều hơn\n",
    "\n",
    "# In kết quả\n",
    "print(f\"F-Statistic: {f_stat}\")\n",
    "print(f\"P-Value: {p_value}\")\n",
    "\n",
    "# Quyết định dựa trên giá trị p-value\n",
    "alpha = 0.05  # Ngưỡng đáng tin cậy\n",
    "if p_value < alpha:\n",
    "    print(\"Có sự khác biệt đáng kể giữa các nhóm.\")\n",
    "else:\n",
    "    print(\"Không có sự khác biệt đáng kể giữa các nhóm.\")\n"
   ]
  }
 ],
 "metadata": {
  "kernelspec": {
   "display_name": "Python 3 (ipykernel)",
   "language": "python",
   "name": "python3"
  },
  "language_info": {
   "codemirror_mode": {
    "name": "ipython",
    "version": 3
   },
   "file_extension": ".py",
   "mimetype": "text/x-python",
   "name": "python",
   "nbconvert_exporter": "python",
   "pygments_lexer": "ipython3",
   "version": "3.8.10"
  },
  "toc": {
   "base_numbering": 1,
   "nav_menu": {},
   "number_sections": true,
   "sideBar": true,
   "skip_h1_title": false,
   "title_cell": "Table of Contents",
   "title_sidebar": "Contents",
   "toc_cell": false,
   "toc_position": {},
   "toc_section_display": true,
   "toc_window_display": false
  }
 },
 "nbformat": 4,
 "nbformat_minor": 5
}
