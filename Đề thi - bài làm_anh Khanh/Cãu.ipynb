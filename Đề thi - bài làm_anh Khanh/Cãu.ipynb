{
 "cells": [
  {
   "cell_type": "markdown",
   "id": "8d66bb35",
   "metadata": {},
   "source": [
    "## Câu 4. Kiểm định trung bình 2 mẫu\n",
    "(1 điểm)\n",
    "\n",
    "Hai tập tin Duong_huyet_TRUOC.txt và Duong_huyet_SAU.txt lưu trữ hai mẫu dữ liệu về chỉ số đường huyết (mg/dL) của các bệnh nhân được đo trước và sau khi sử dụng thử nghiệm một loại thuốc mới T của hãng dược phẩm D.\n",
    "\n",
    "4.1) Đọc và xem thông tin của dữ liệu.\n",
    "\n",
    "4.2) Với alpha = 0.05, hãy cho kết luận về giả thuyết H0: “Hai quần thể có cùng giá trị trung bình.” bằng 2 phương pháp:\n",
    "\n",
    "a) Tính toán truyền thống, và\n",
    "\n",
    "b) Dùng các hàm thống kê có sẵn."
   ]
  },
  {
   "cell_type": "code",
   "execution_count": 3,
   "id": "0f05316a",
   "metadata": {},
   "outputs": [],
   "source": [
    "import numpy as np\n",
    "from scipy   import stats\n",
    "\n"
   ]
  },
  {
   "cell_type": "code",
   "execution_count": 52,
   "id": "2fd76e09",
   "metadata": {
    "scrolled": true
   },
   "outputs": [
    {
     "name": "stdout",
     "output_type": "stream",
     "text": [
      "Data before: [[134. 130. 140. 151.]\n",
      " [143. 134. 136. 144.]\n",
      " [150. 135. 160. 141.]\n",
      " [143. 140. 138. 141.]\n",
      " [148. 146. 140. 146.]\n",
      " [151. 138. 151. 139.]\n",
      " [151. 128. 146. 147.]\n",
      " [152. 142. 144. 134.]\n",
      " [142. 146. 142. 136.]\n",
      " [122. 134. 145. 147.]]\n",
      "Data after: [[130. 145. 126. 146.]\n",
      " [164. 130. 132. 152.]\n",
      " [145. 129. 133. 155.]\n",
      " [140. 127. 139. 137.]\n",
      " [131. 126. 145. 148.]\n",
      " [125. 132. 126. 126.]\n",
      " [126. 135. 131. 129.]\n",
      " [147. 136. 129. 136.]\n",
      " [156. 146. 130. 146.]\n",
      " [132. 142. 132. 132.]]\n"
     ]
    }
   ],
   "source": [
    "# 4.1) Read and view information about the data\n",
    "data_before = np.loadtxt(\"Data/Duong_huyet_TRUOC.txt\")\n",
    "data_after = np.loadtxt(\"Data/Duong_huyet_SAU.txt\")\n",
    "\n",
    "print(\"Data before:\", data_before)\n",
    "print(\"Data after:\", data_after)"
   ]
  },
  {
   "cell_type": "code",
   "execution_count": 55,
   "id": "e1ec2ac2",
   "metadata": {},
   "outputs": [
    {
     "ename": "SyntaxError",
     "evalue": "invalid syntax (1738225503.py, line 1)",
     "output_type": "error",
     "traceback": [
      "\u001b[0;36m  Cell \u001b[0;32mIn[55], line 1\u001b[0;36m\u001b[0m\n\u001b[0;31m    xem lại bài 7.4\u001b[0m\n\u001b[0m        ^\u001b[0m\n\u001b[0;31mSyntaxError\u001b[0m\u001b[0;31m:\u001b[0m invalid syntax\n"
     ]
    }
   ],
   "source": [
    "xem lại bài 7.4"
   ]
  },
  {
   "cell_type": "code",
   "execution_count": 53,
   "id": "0b319ce0",
   "metadata": {
    "scrolled": true
   },
   "outputs": [
    {
     "name": "stdout",
     "output_type": "stream",
     "text": [
      "141.925\n",
      "0.20809883413832475\n",
      "Traditional calculation conclusion: Fail to reject H0: The two populations have the same mean.\n"
     ]
    }
   ],
   "source": [
    "# 4.2) Test the hypothesis H0: \"Hai quần thể có cùng giá trị trung bình.\"\n",
    "# a) Traditional calculation\n",
    "\n",
    "mean_before = np.mean(data_before)\n",
    "print(mean_before)\n",
    "mean_after = np.mean(data_after)\n",
    "std_before = np.std(data_before, ddof=1)\n",
    "std_after = np.std(data_after, ddof=1)\n",
    "n_before = len(data_before)\n",
    "n_after = len(data_after)\n",
    "\n",
    "# Calculate the t-value and p-value using the two-sample t-test formula\n",
    "t_value = (mean_before - mean_after) / np.sqrt((std_before**2/n_before) + (std_after**2/n_after))\n",
    "p_value = 2 * (1 - stats.t.cdf(np.abs(t_value), n_before + n_after - 2))\n",
    "print(p_value)\n",
    "# Compare p-value with alpha\n",
    "alpha = 0.05\n",
    "if p_value < alpha:\n",
    "    conclusion_a = \"Reject H0: The two populations have different means.\"\n",
    "else:\n",
    "    conclusion_a = \"Fail to reject H0: The two populations have the same mean.\"\n",
    "\n",
    "print(\"Traditional calculation conclusion:\", conclusion_a)\n",
    "\n"
   ]
  },
  {
   "cell_type": "code",
   "execution_count": 54,
   "id": "52de547d",
   "metadata": {},
   "outputs": [
    {
     "name": "stdout",
     "output_type": "stream",
     "text": [
      "141.925\n",
      "[0.0109464]\n",
      "Using statistical functions conclusion: Reject H0: The two populations have different means.\n"
     ]
    }
   ],
   "source": [
    "# b) Using available statistical functions\n",
    "data_before.shape = (40,1)\n",
    "data_after.shape = (40,1)\n",
    "mean_before = np.mean(data_before)\n",
    "print(mean_before)\n",
    "# print(data_before)\n",
    "t_value, p_value = stats.ttest_ind(data_before, data_after, equal_var = False)\n",
    "# p_value = [0.4460874  0.42216337 0.00063854 0.60380677]\n",
    "print(p_value)\n",
    "# Compare p-value with alpha\n",
    "if p_value[0] < alpha:\n",
    "    conclusion_b = \"Reject H0: The two populations have different means.\"\n",
    "else:\n",
    "    conclusion_b = \"Fail to reject H0: The two populations have the same mean.\"\n",
    "\n",
    "print(\"Using statistical functions conclusion:\", conclusion_b)"
   ]
  },
  {
   "cell_type": "code",
   "execution_count": 21,
   "id": "df774b23",
   "metadata": {},
   "outputs": [
    {
     "name": "stdout",
     "output_type": "stream",
     "text": [
      "Using statistical functions conclusion: Fail to reject H0: The two populations have the same mean.\n",
      "Using statistical functions conclusion: Fail to reject H0: The two populations have the same mean.\n",
      "Using statistical functions conclusion: Reject H0: The two populations have different means.\n",
      "Using statistical functions conclusion: Fail to reject H0: The two populations have the same mean.\n"
     ]
    }
   ],
   "source": [
    "# b) Using available statistical functions\n",
    "t_value, p_value = stats.ttest_ind(data_before, data_after, equal_var = False)\n",
    "p_value = [0.4460874  0.42216337 0.00063854 0.60380677]\n",
    "\n",
    "# Compare p-value with alpha\n",
    "for p in p_value:\n",
    "    if p < alpha:\n",
    "        conclusion_b = \"Reject H0: The two populations have different means.\"\n",
    "    else:\n",
    "        conclusion_b = \"Fail to reject H0: The two populations have the same mean.\"\n",
    "\n",
    "    print(\"Using statistical functions conclusion:\", conclusion_b)"
   ]
  },
  {
   "cell_type": "code",
   "execution_count": 37,
   "id": "b0f6608e",
   "metadata": {},
   "outputs": [
    {
     "name": "stdout",
     "output_type": "stream",
     "text": [
      "[0.0109464]\n",
      "Overall conclusion: Reject H0: The two populations have different means.\n"
     ]
    }
   ],
   "source": [
    "# b) Using available statistical functions\n",
    "t_value, p_value = stats.ttest_ind(data_before, data_after, equal_var = False)\n",
    "p_values = [0.4460874, 0.42216337, 0.00063854, 0.60380677]\n",
    "print(p_value)\n",
    "alpha = 0.05\n",
    "\n",
    "reject_h0 = any(p < alpha for p in p_values)\n",
    "\n",
    "if reject_h0:\n",
    "    overall_conclusion = \"Reject H0: The two populations have different means.\"\n",
    "else:\n",
    "    overall_conclusion = \"Fail to reject H0: The two populations have the same mean.\"\n",
    "\n",
    "print(\"Overall conclusion:\", overall_conclusion)"
   ]
  },
  {
   "cell_type": "code",
   "execution_count": 24,
   "id": "e1535ba3",
   "metadata": {},
   "outputs": [
    {
     "data": {
      "text/plain": [
       "(10, 4)"
      ]
     },
     "execution_count": 24,
     "metadata": {},
     "output_type": "execute_result"
    }
   ],
   "source": [
    "data_before.shape"
   ]
  },
  {
   "cell_type": "code",
   "execution_count": 31,
   "id": "ff59515f",
   "metadata": {},
   "outputs": [],
   "source": [
    "data_before.shape = (40,1)"
   ]
  },
  {
   "cell_type": "code",
   "execution_count": 33,
   "id": "7aa3c6cb",
   "metadata": {},
   "outputs": [],
   "source": [
    "data_after.shape = (40,1)"
   ]
  },
  {
   "cell_type": "code",
   "execution_count": 36,
   "id": "93ecf2fd",
   "metadata": {},
   "outputs": [
    {
     "data": {
      "text/plain": [
       "array([[134.],\n",
       "       [130.],\n",
       "       [140.],\n",
       "       [151.],\n",
       "       [143.],\n",
       "       [134.],\n",
       "       [136.],\n",
       "       [144.],\n",
       "       [150.],\n",
       "       [135.],\n",
       "       [160.],\n",
       "       [141.],\n",
       "       [143.],\n",
       "       [140.],\n",
       "       [138.],\n",
       "       [141.],\n",
       "       [148.],\n",
       "       [146.],\n",
       "       [140.],\n",
       "       [146.],\n",
       "       [151.],\n",
       "       [138.],\n",
       "       [151.],\n",
       "       [139.],\n",
       "       [151.],\n",
       "       [128.],\n",
       "       [146.],\n",
       "       [147.],\n",
       "       [152.],\n",
       "       [142.],\n",
       "       [144.],\n",
       "       [134.],\n",
       "       [142.],\n",
       "       [146.],\n",
       "       [142.],\n",
       "       [136.],\n",
       "       [122.],\n",
       "       [134.],\n",
       "       [145.],\n",
       "       [147.]])"
      ]
     },
     "execution_count": 36,
     "metadata": {},
     "output_type": "execute_result"
    }
   ],
   "source": [
    "data_before"
   ]
  },
  {
   "cell_type": "code",
   "execution_count": null,
   "id": "48c318af",
   "metadata": {},
   "outputs": [],
   "source": []
  }
 ],
 "metadata": {
  "kernelspec": {
   "display_name": "Python 3 (ipykernel)",
   "language": "python",
   "name": "python3"
  },
  "language_info": {
   "codemirror_mode": {
    "name": "ipython",
    "version": 3
   },
   "file_extension": ".py",
   "mimetype": "text/x-python",
   "name": "python",
   "nbconvert_exporter": "python",
   "pygments_lexer": "ipython3",
   "version": "3.8.10"
  },
  "toc": {
   "base_numbering": 1,
   "nav_menu": {},
   "number_sections": true,
   "sideBar": true,
   "skip_h1_title": false,
   "title_cell": "Table of Contents",
   "title_sidebar": "Contents",
   "toc_cell": false,
   "toc_position": {},
   "toc_section_display": true,
   "toc_window_display": false
  }
 },
 "nbformat": 4,
 "nbformat_minor": 5
}
