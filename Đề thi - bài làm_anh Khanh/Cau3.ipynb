{
 "cells": [
  {
   "cell_type": "markdown",
   "id": "72d5c420",
   "metadata": {},
   "source": [
    "## Câu 3. Thống kê mô tả\n",
    "Một vận động viên bơi lội 200m hỗn hợp có thành tích như sau: 50m bơi bướm với vận tốc 1.92m/s,\n",
    "\n",
    "50m bơi ngửa với vận tốc 1.67m/s,\n",
    "\n",
    "50m bơi ếch với vận tốc 1.56m/s, và\n",
    "\n",
    "50m bơi tự do với vận tốc 1.85m/s.\n",
    "\n",
    "Hãy cho biết vận tốc bơi trung bình của vận động viên."
   ]
  },
  {
   "cell_type": "code",
   "execution_count": null,
   "id": "62e44cb0",
   "metadata": {},
   "outputs": [],
   "source": [
    "import numpy as np\n"
   ]
  },
  {
   "cell_type": "code",
   "execution_count": 3,
   "id": "37bf115e",
   "metadata": {},
   "outputs": [
    {
     "name": "stdout",
     "output_type": "stream",
     "text": [
      "Average swimming speed: 1.7382220927369068 m/s\n"
     ]
    }
   ],
   "source": [
    "distances = [50, 50, 50, 50]\n",
    "speeds = [1.92, 1.67, 1.56, 1.85]\n",
    "\n",
    "total_distance = sum(distances)\n",
    "total_time = sum(distance / speed for distance, speed in zip(distances, speeds))\n",
    "\n",
    "average_speed = total_distance / total_time\n",
    "\n",
    "print(\"Average swimming speed:\", average_speed, \"m/s\")"
   ]
  }
 ],
 "metadata": {
  "kernelspec": {
   "display_name": "Python 3 (ipykernel)",
   "language": "python",
   "name": "python3"
  },
  "language_info": {
   "codemirror_mode": {
    "name": "ipython",
    "version": 3
   },
   "file_extension": ".py",
   "mimetype": "text/x-python",
   "name": "python",
   "nbconvert_exporter": "python",
   "pygments_lexer": "ipython3",
   "version": "3.8.10"
  },
  "toc": {
   "base_numbering": 1,
   "nav_menu": {},
   "number_sections": true,
   "sideBar": true,
   "skip_h1_title": false,
   "title_cell": "Table of Contents",
   "title_sidebar": "Contents",
   "toc_cell": false,
   "toc_position": {},
   "toc_section_display": true,
   "toc_window_display": false
  }
 },
 "nbformat": 4,
 "nbformat_minor": 5
}
