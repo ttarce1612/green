{
 "cells": [
  {
   "cell_type": "code",
   "execution_count": 2,
   "metadata": {},
   "outputs": [],
   "source": [
    "## Thư viện\n",
    "import  matplotlib.pyplot as plt\n",
    "import numpy             as np\n",
    "import pandas            as pd\n",
    "import seaborn           as sns\n",
    "from numpy               import mean, median\n",
    "from scipy               import stats\n",
    "\n",
    "from sklearn             import linear_model"
   ]
  },
  {
   "cell_type": "code",
   "execution_count": null,
   "metadata": {},
   "outputs": [],
   "source": [
    "# 2.1) Thể hiện những thông tin của dữ liệu. Vẽ biểu đồ phân phối tần số điểm thi của các môn."
   ]
  },
  {
   "cell_type": "code",
   "execution_count": 3,
   "metadata": {},
   "outputs": [
    {
     "data": {
      "text/html": [
       "<div>\n",
       "<style scoped>\n",
       "    .dataframe tbody tr th:only-of-type {\n",
       "        vertical-align: middle;\n",
       "    }\n",
       "\n",
       "    .dataframe tbody tr th {\n",
       "        vertical-align: top;\n",
       "    }\n",
       "\n",
       "    .dataframe thead th {\n",
       "        text-align: right;\n",
       "    }\n",
       "</style>\n",
       "<table border=\"1\" class=\"dataframe\">\n",
       "  <thead>\n",
       "    <tr style=\"text-align: right;\">\n",
       "      <th></th>\n",
       "      <th>diem_1</th>\n",
       "      <th>diem_2</th>\n",
       "      <th>diem_3</th>\n",
       "      <th>diem_4</th>\n",
       "      <th>IQ</th>\n",
       "    </tr>\n",
       "  </thead>\n",
       "  <tbody>\n",
       "    <tr>\n",
       "      <th>0</th>\n",
       "      <td>8</td>\n",
       "      <td>2.0</td>\n",
       "      <td>7.0</td>\n",
       "      <td>7</td>\n",
       "      <td>68</td>\n",
       "    </tr>\n",
       "    <tr>\n",
       "      <th>1</th>\n",
       "      <td>8</td>\n",
       "      <td>8.4</td>\n",
       "      <td>6.4</td>\n",
       "      <td>8</td>\n",
       "      <td>137</td>\n",
       "    </tr>\n",
       "    <tr>\n",
       "      <th>2</th>\n",
       "      <td>7</td>\n",
       "      <td>7.6</td>\n",
       "      <td>7.8</td>\n",
       "      <td>8</td>\n",
       "      <td>135</td>\n",
       "    </tr>\n",
       "    <tr>\n",
       "      <th>3</th>\n",
       "      <td>8</td>\n",
       "      <td>3.0</td>\n",
       "      <td>2.5</td>\n",
       "      <td>6</td>\n",
       "      <td>79</td>\n",
       "    </tr>\n",
       "    <tr>\n",
       "      <th>4</th>\n",
       "      <td>8</td>\n",
       "      <td>4.4</td>\n",
       "      <td>3.8</td>\n",
       "      <td>6</td>\n",
       "      <td>107</td>\n",
       "    </tr>\n",
       "  </tbody>\n",
       "</table>\n",
       "</div>"
      ],
      "text/plain": [
       "   diem_1  diem_2  diem_3  diem_4   IQ\n",
       "0       8     2.0     7.0       7   68\n",
       "1       8     8.4     6.4       8  137\n",
       "2       7     7.6     7.8       8  135\n",
       "3       8     3.0     2.5       6   79\n",
       "4       8     4.4     3.8       6  107"
      ]
     },
     "execution_count": 3,
     "metadata": {},
     "output_type": "execute_result"
    }
   ],
   "source": [
    "iq = pd.read_excel('../Data/IQ4.xls')\n",
    "iq.drop('stt', axis=1, inplace=True)\n",
    "iq.head()"
   ]
  },
  {
   "cell_type": "code",
   "execution_count": 3,
   "metadata": {},
   "outputs": [
    {
     "data": {
      "text/html": [
       "<div>\n",
       "<style scoped>\n",
       "    .dataframe tbody tr th:only-of-type {\n",
       "        vertical-align: middle;\n",
       "    }\n",
       "\n",
       "    .dataframe tbody tr th {\n",
       "        vertical-align: top;\n",
       "    }\n",
       "\n",
       "    .dataframe thead th {\n",
       "        text-align: right;\n",
       "    }\n",
       "</style>\n",
       "<table border=\"1\" class=\"dataframe\">\n",
       "  <thead>\n",
       "    <tr style=\"text-align: right;\">\n",
       "      <th></th>\n",
       "      <th>diem_1</th>\n",
       "      <th>diem_2</th>\n",
       "      <th>diem_3</th>\n",
       "      <th>diem_4</th>\n",
       "      <th>IQ</th>\n",
       "    </tr>\n",
       "  </thead>\n",
       "  <tbody>\n",
       "    <tr>\n",
       "      <th>diem_1</th>\n",
       "      <td>1.000000</td>\n",
       "      <td>0.026545</td>\n",
       "      <td>0.283750</td>\n",
       "      <td>-0.084275</td>\n",
       "      <td>-0.088168</td>\n",
       "    </tr>\n",
       "    <tr>\n",
       "      <th>diem_2</th>\n",
       "      <td>0.026545</td>\n",
       "      <td>1.000000</td>\n",
       "      <td>0.544166</td>\n",
       "      <td>0.834065</td>\n",
       "      <td>0.872419</td>\n",
       "    </tr>\n",
       "    <tr>\n",
       "      <th>diem_3</th>\n",
       "      <td>0.283750</td>\n",
       "      <td>0.544166</td>\n",
       "      <td>1.000000</td>\n",
       "      <td>0.441337</td>\n",
       "      <td>0.471522</td>\n",
       "    </tr>\n",
       "    <tr>\n",
       "      <th>diem_4</th>\n",
       "      <td>-0.084275</td>\n",
       "      <td>0.834065</td>\n",
       "      <td>0.441337</td>\n",
       "      <td>1.000000</td>\n",
       "      <td>0.622977</td>\n",
       "    </tr>\n",
       "    <tr>\n",
       "      <th>IQ</th>\n",
       "      <td>-0.088168</td>\n",
       "      <td>0.872419</td>\n",
       "      <td>0.471522</td>\n",
       "      <td>0.622977</td>\n",
       "      <td>1.000000</td>\n",
       "    </tr>\n",
       "  </tbody>\n",
       "</table>\n",
       "</div>"
      ],
      "text/plain": [
       "          diem_1    diem_2    diem_3    diem_4        IQ\n",
       "diem_1  1.000000  0.026545  0.283750 -0.084275 -0.088168\n",
       "diem_2  0.026545  1.000000  0.544166  0.834065  0.872419\n",
       "diem_3  0.283750  0.544166  1.000000  0.441337  0.471522\n",
       "diem_4 -0.084275  0.834065  0.441337  1.000000  0.622977\n",
       "IQ     -0.088168  0.872419  0.471522  0.622977  1.000000"
      ]
     },
     "execution_count": 3,
     "metadata": {},
     "output_type": "execute_result"
    }
   ],
   "source": [
    "iq.corr()"
   ]
  },
  {
   "cell_type": "code",
   "execution_count": 4,
   "metadata": {},
   "outputs": [
    {
     "data": {
      "text/html": [
       "<div>\n",
       "<style scoped>\n",
       "    .dataframe tbody tr th:only-of-type {\n",
       "        vertical-align: middle;\n",
       "    }\n",
       "\n",
       "    .dataframe tbody tr th {\n",
       "        vertical-align: top;\n",
       "    }\n",
       "\n",
       "    .dataframe thead th {\n",
       "        text-align: right;\n",
       "    }\n",
       "</style>\n",
       "<table border=\"1\" class=\"dataframe\">\n",
       "  <thead>\n",
       "    <tr style=\"text-align: right;\">\n",
       "      <th></th>\n",
       "      <th>stt</th>\n",
       "      <th>diem_1</th>\n",
       "      <th>diem_2</th>\n",
       "      <th>diem_3</th>\n",
       "      <th>diem_4</th>\n",
       "      <th>IQ</th>\n",
       "    </tr>\n",
       "  </thead>\n",
       "  <tbody>\n",
       "    <tr>\n",
       "      <th>count</th>\n",
       "      <td>20.00000</td>\n",
       "      <td>20.000000</td>\n",
       "      <td>20.000000</td>\n",
       "      <td>20.00000</td>\n",
       "      <td>20.000000</td>\n",
       "      <td>20.000000</td>\n",
       "    </tr>\n",
       "    <tr>\n",
       "      <th>mean</th>\n",
       "      <td>10.50000</td>\n",
       "      <td>7.600000</td>\n",
       "      <td>5.920000</td>\n",
       "      <td>6.86000</td>\n",
       "      <td>7.000000</td>\n",
       "      <td>115.200000</td>\n",
       "    </tr>\n",
       "    <tr>\n",
       "      <th>std</th>\n",
       "      <td>5.91608</td>\n",
       "      <td>0.680557</td>\n",
       "      <td>2.214212</td>\n",
       "      <td>1.79338</td>\n",
       "      <td>0.917663</td>\n",
       "      <td>22.279563</td>\n",
       "    </tr>\n",
       "    <tr>\n",
       "      <th>min</th>\n",
       "      <td>1.00000</td>\n",
       "      <td>6.000000</td>\n",
       "      <td>2.000000</td>\n",
       "      <td>2.50000</td>\n",
       "      <td>6.000000</td>\n",
       "      <td>68.000000</td>\n",
       "    </tr>\n",
       "    <tr>\n",
       "      <th>25%</th>\n",
       "      <td>5.75000</td>\n",
       "      <td>7.000000</td>\n",
       "      <td>4.400000</td>\n",
       "      <td>6.07500</td>\n",
       "      <td>6.000000</td>\n",
       "      <td>109.250000</td>\n",
       "    </tr>\n",
       "    <tr>\n",
       "      <th>50%</th>\n",
       "      <td>10.50000</td>\n",
       "      <td>8.000000</td>\n",
       "      <td>5.800000</td>\n",
       "      <td>7.10000</td>\n",
       "      <td>7.000000</td>\n",
       "      <td>120.000000</td>\n",
       "    </tr>\n",
       "    <tr>\n",
       "      <th>75%</th>\n",
       "      <td>15.25000</td>\n",
       "      <td>8.000000</td>\n",
       "      <td>7.700000</td>\n",
       "      <td>8.17500</td>\n",
       "      <td>8.000000</td>\n",
       "      <td>134.250000</td>\n",
       "    </tr>\n",
       "    <tr>\n",
       "      <th>max</th>\n",
       "      <td>20.00000</td>\n",
       "      <td>8.000000</td>\n",
       "      <td>9.600000</td>\n",
       "      <td>9.20000</td>\n",
       "      <td>9.000000</td>\n",
       "      <td>140.000000</td>\n",
       "    </tr>\n",
       "  </tbody>\n",
       "</table>\n",
       "</div>"
      ],
      "text/plain": [
       "            stt     diem_1     diem_2    diem_3     diem_4          IQ\n",
       "count  20.00000  20.000000  20.000000  20.00000  20.000000   20.000000\n",
       "mean   10.50000   7.600000   5.920000   6.86000   7.000000  115.200000\n",
       "std     5.91608   0.680557   2.214212   1.79338   0.917663   22.279563\n",
       "min     1.00000   6.000000   2.000000   2.50000   6.000000   68.000000\n",
       "25%     5.75000   7.000000   4.400000   6.07500   6.000000  109.250000\n",
       "50%    10.50000   8.000000   5.800000   7.10000   7.000000  120.000000\n",
       "75%    15.25000   8.000000   7.700000   8.17500   8.000000  134.250000\n",
       "max    20.00000   8.000000   9.600000   9.20000   9.000000  140.000000"
      ]
     },
     "execution_count": 4,
     "metadata": {},
     "output_type": "execute_result"
    }
   ],
   "source": [
    "iq.describe()"
   ]
  },
  {
   "cell_type": "code",
   "execution_count": 3,
   "metadata": {},
   "outputs": [
    {
     "data": {
      "image/png": "[encoded data removed]",
      "text/plain": [
       "<Figure size 640x480 with 4 Axes>"
      ]
     },
     "metadata": {},
     "output_type": "display_data"
    }
   ],
   "source": [
    "fig, axes = plt.subplots(2, 2)\n",
    "axes[0, 0].hist(iq['diem_1']) #dòng 0, cột 0\n",
    "axes[0, 0].set_title('Điểm 1')\n",
    "axes[0, 1].hist(iq['diem_2']) # dòng 0, cột 1\n",
    "axes[0, 1].set_title('Điểm 2')\n",
    "axes[1, 0].hist(iq['diem_3'])\n",
    "axes[1, 0].set_title('Điểm 3')\n",
    "axes[1, 1].hist(iq['diem_4'])\n",
    "axes[1, 1].set_title('Điểm 4')\n",
    "plt.tight_layout()  # Đảm bảo các biểu đồ không bị trùng lên nhau\n",
    "plt.show()"
   ]
  },
  {
   "cell_type": "markdown",
   "metadata": {},
   "source": [
    "# 2.2) Dùng các hàm để tính các giá trị thống kê cơ bản của chỉ số IQ và điểm thi của các môn."
   ]
  },
  {
   "cell_type": "code",
   "execution_count": 3,
   "metadata": {},
   "outputs": [],
   "source": [
    "def printBaseStatiѕtic(arr):\n",
    "    print('====================')\n",
    "    print('Mean    =', mean(arr))\n",
    "    print('MIN     =', min(arr))\n",
    "    print('MAX     =', max(arr))\n",
    "    print('Median  =', median(arr))\n",
    "    print('STD  =', np.std(arr))\n",
    "    x_mod = stats.mode(arr)\n",
    "    print('Gia tri xuat hien nhieu nhat = %d' %x_mod[0], 'so lan xuat hien %d' %x_mod[1])"
   ]
  },
  {
   "cell_type": "code",
   "execution_count": 4,
   "metadata": {},
   "outputs": [
    {
     "name": "stdout",
     "output_type": "stream",
     "text": [
      "====================\n",
      "Mean    = 7.6\n",
      "MIN     = 6\n",
      "MAX     = 8\n",
      "Median  = 8.0\n",
      "STD  = 0.6633249580710799\n",
      "Gia tri xuat hien nhieu nhat = 8 so lan xuat hien 14\n",
      "====================\n",
      "Mean    = 5.92\n",
      "MIN     = 2.0\n",
      "MAX     = 9.6\n",
      "Median  = 5.8\n",
      "STD  = 2.1581473536345936\n",
      "Gia tri xuat hien nhieu nhat = 4 so lan xuat hien 2\n",
      "====================\n",
      "Mean    = 6.859999999999999\n",
      "MIN     = 2.5\n",
      "MAX     = 9.2\n",
      "Median  = 7.1\n",
      "STD  = 1.7479702514631077\n",
      "Gia tri xuat hien nhieu nhat = 7 so lan xuat hien 2\n",
      "====================\n",
      "Mean    = 7.0\n",
      "MIN     = 6\n",
      "MAX     = 9\n",
      "Median  = 7.0\n",
      "STD  = 0.8944271909999159\n",
      "Gia tri xuat hien nhieu nhat = 6 so lan xuat hien 7\n",
      "====================\n",
      "Mean    = 115.2\n",
      "MIN     = 68\n",
      "MAX     = 140\n",
      "Median  = 120.0\n",
      "STD  = 21.715432300555292\n",
      "Gia tri xuat hien nhieu nhat = 110 so lan xuat hien 2\n"
     ]
    }
   ],
   "source": [
    "printBaseStatiѕtic(iq['diem_1'])\n",
    "printBaseStatiѕtic(iq['diem_2'])\n",
    "printBaseStatiѕtic(iq['diem_3'])\n",
    "printBaseStatiѕtic(iq['diem_4'])\n",
    "printBaseStatiѕtic(iq['IQ'])"
   ]
  },
  {
   "cell_type": "markdown",
   "metadata": {},
   "source": [
    "2.3) Xác định outlier(s), nếu có, của chỉ số IQ và điểm thi của các môn dựa trên quy tắc 3-Sigma."
   ]
  },
  {
   "cell_type": "code",
   "execution_count": 26,
   "metadata": {},
   "outputs": [],
   "source": [
    "## Dùng z-score để xác định outliers của điểm 1, 2, 3, 4, IQ bằng qui tắc 3- Sigma\n",
    "\n",
    "def printOutliers(arr):\n",
    "    z_score = stats.zscore(arr) # tính zscore ( Standard Score - khoảng cách giữa một giá trị dữ liệu cụ thể và trung bình của tập dữ liệu)\n",
    "    outliers = z_score[(z_score < -1) | (z_score > 1)] \n",
    "    print(type(outliers))\n",
    "    print(outliers)\n",
    "    print('Các vị trí outliers:', outliers.index.tolist()) # các vị trí có outliers\n",
    "    print(\"Giá trị outliers   :\",  (arr[outliers.index.tolist()].values))\n",
    "\n"
   ]
  },
  {
   "cell_type": "code",
   "execution_count": 27,
   "metadata": {},
   "outputs": [
    {
     "name": "stdout",
     "output_type": "stream",
     "text": [
      "<class 'pandas.core.series.Series'>\n",
      "8    -2.412091\n",
      "18   -2.412091\n",
      "Name: diem_1, dtype: float64\n",
      "Các vị trí outliers: [8, 18]\n",
      "Giá trị outliers   : [6 6]\n"
     ]
    }
   ],
   "source": [
    "printOutliers(iq['diem_1'])"
   ]
  },
  {
   "cell_type": "markdown",
   "metadata": {},
   "source": [
    "2.4) Chọn điểm thi của một trong các môn để làm cơ sở cho việc dự đoán chỉ số IQ theo phương pháp hồi quy tuyến tính bằng Gradient Descent và bằng ma trận giả nghịch đảo. Trực quan hóa dữ liệu và giải thích nguyên nhân của sự lựa chọn.\n"
   ]
  },
  {
   "cell_type": "code",
   "execution_count": 29,
   "metadata": {},
   "outputs": [],
   "source": [
    "#Viết hàm\n",
    "\n",
    "def gradient_descent(input, y):\n",
    "    xHat = np.c_[np.ones(input.size),input]\n",
    "    # print(xHat)\n",
    "    # print(y)\n",
    "    regr = linear_model.LinearRegression(fit_intercept = False)\n",
    "    regr.fit(xHat, y)\n",
    "    ## Phương trình đường thẳng (không gian 2D): y = m.x + b\n",
    "    slope = regr.coef_.flatten()[1]\n",
    "    bias  = regr.coef_.flatten()[0]\n",
    "    print('Phương trình hồi quy tuyến tính bằng PP Gradient Descent:')\n",
    "    print('   y = (', slope, ') * X + (', bias, ')')\n",
    "\n",
    "def matran_nghichdao(input, y):\n",
    "    xHat = np.c_[np.ones(input.size),input]\n",
    "    ## Các ma trận\n",
    "    A = xHat.T @ xHat\n",
    "    b = xHat.T @ y\n",
    "\n",
    "    ## Vector tham số\n",
    "    w = np.linalg.pinv(A) @ b\n",
    "\n",
    "    slope3 = w[1]\n",
    "    bias3  = w[0]\n",
    "    print('Phương trình hồi quy tuyến tính bằng phương pháp ma trận nghịch đảo:')\n",
    "    print('   IQ = (', slope3, ') * diem + (', bias3, ')')\n"
   ]
  },
  {
   "cell_type": "code",
   "execution_count": 28,
   "metadata": {},
   "outputs": [
    {
     "data": {
      "text/html": [
       "<div>\n",
       "<style scoped>\n",
       "    .dataframe tbody tr th:only-of-type {\n",
       "        vertical-align: middle;\n",
       "    }\n",
       "\n",
       "    .dataframe tbody tr th {\n",
       "        vertical-align: top;\n",
       "    }\n",
       "\n",
       "    .dataframe thead th {\n",
       "        text-align: right;\n",
       "    }\n",
       "</style>\n",
       "<table border=\"1\" class=\"dataframe\">\n",
       "  <thead>\n",
       "    <tr style=\"text-align: right;\">\n",
       "      <th></th>\n",
       "      <th>diem_1</th>\n",
       "      <th>diem_2</th>\n",
       "      <th>diem_3</th>\n",
       "      <th>diem_4</th>\n",
       "      <th>IQ</th>\n",
       "    </tr>\n",
       "  </thead>\n",
       "  <tbody>\n",
       "    <tr>\n",
       "      <th>diem_1</th>\n",
       "      <td>1.000000</td>\n",
       "      <td>0.026545</td>\n",
       "      <td>0.283750</td>\n",
       "      <td>-0.084275</td>\n",
       "      <td>-0.088168</td>\n",
       "    </tr>\n",
       "    <tr>\n",
       "      <th>diem_2</th>\n",
       "      <td>0.026545</td>\n",
       "      <td>1.000000</td>\n",
       "      <td>0.544166</td>\n",
       "      <td>0.834065</td>\n",
       "      <td>0.872419</td>\n",
       "    </tr>\n",
       "    <tr>\n",
       "      <th>diem_3</th>\n",
       "      <td>0.283750</td>\n",
       "      <td>0.544166</td>\n",
       "      <td>1.000000</td>\n",
       "      <td>0.441337</td>\n",
       "      <td>0.471522</td>\n",
       "    </tr>\n",
       "    <tr>\n",
       "      <th>diem_4</th>\n",
       "      <td>-0.084275</td>\n",
       "      <td>0.834065</td>\n",
       "      <td>0.441337</td>\n",
       "      <td>1.000000</td>\n",
       "      <td>0.622977</td>\n",
       "    </tr>\n",
       "    <tr>\n",
       "      <th>IQ</th>\n",
       "      <td>-0.088168</td>\n",
       "      <td>0.872419</td>\n",
       "      <td>0.471522</td>\n",
       "      <td>0.622977</td>\n",
       "      <td>1.000000</td>\n",
       "    </tr>\n",
       "  </tbody>\n",
       "</table>\n",
       "</div>"
      ],
      "text/plain": [
       "          diem_1    diem_2    diem_3    diem_4        IQ\n",
       "diem_1  1.000000  0.026545  0.283750 -0.084275 -0.088168\n",
       "diem_2  0.026545  1.000000  0.544166  0.834065  0.872419\n",
       "diem_3  0.283750  0.544166  1.000000  0.441337  0.471522\n",
       "diem_4 -0.084275  0.834065  0.441337  1.000000  0.622977\n",
       "IQ     -0.088168  0.872419  0.471522  0.622977  1.000000"
      ]
     },
     "execution_count": 28,
     "metadata": {},
     "output_type": "execute_result"
    }
   ],
   "source": [
    "iq.corr()"
   ]
  },
  {
   "cell_type": "code",
   "execution_count": 30,
   "metadata": {},
   "outputs": [
    {
     "name": "stdout",
     "output_type": "stream",
     "text": [
      "Phương trình hồi quy tuyến tính bằng phương pháp ma trận nghịch đảo:\n",
      "   IQ = ( 8.778340776365548 ) * diem + ( 63.232222603916036 )\n"
     ]
    }
   ],
   "source": [
    "matran_nghichdao(iq['diem_2'], iq['IQ'])"
   ]
  },
  {
   "cell_type": "markdown",
   "metadata": {},
   "source": [
    "#2.5) DựđoáncácchỉsốIQtươngứngvớix{0.5,1.0,1.5,2.0,...,9.0,9.5,10}"
   ]
  },
  {
   "cell_type": "code",
   "execution_count": 31,
   "metadata": {},
   "outputs": [
    {
     "data": {
      "text/plain": [
       "array([ 68.  ,  73.7 ,  78.5 ,  86.65, 103.2 , 109.25, 110.  , 111.95,\n",
       "       114.2 , 117.75, 120.  , 120.45, 123.8 , 128.  , 134.25, 135.4 ,\n",
       "       137.15, 138.1 , 139.05, 140.  ])"
      ]
     },
     "execution_count": 31,
     "metadata": {},
     "output_type": "execute_result"
    }
   ],
   "source": [
    "## Các giá trị bách phân vị\n",
    "percentiles = np.array([0,5, 10, 15, 20, 25, 30,35, 40, 45, 50, 55, 60, 65, 75, 80, 85, 90, 95, 100])  # trục tung\n",
    "x = np.percentile(iq['IQ'], percentiles)       # trục hoành\n",
    "x"
   ]
  }
 ],
 "metadata": {
  "kernelspec": {
   "display_name": "Python 3.11.4 64-bit",
   "language": "python",
   "name": "python3"
  },
  "language_info": {
   "codemirror_mode": {
    "name": "ipython",
    "version": 3
   },
   "file_extension": ".py",
   "mimetype": "text/x-python",
   "name": "python",
   "nbconvert_exporter": "python",
   "pygments_lexer": "ipython3",
   "version": "3.11.4"
  },
  "orig_nbformat": 4,
  "vscode": {
   "interpreter": {
    "hash": "aee8b7b246df8f9039afb4144a1f6fd8d2ca17a180786b69acc140d282b71a49"
   }
  }
 },
 "nbformat": 4,
 "nbformat_minor": 2
}
